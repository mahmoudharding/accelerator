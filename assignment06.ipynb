{
 "cells": [
  {
   "cell_type": "code",
   "execution_count": null,
   "metadata": {
    "deletable": false,
    "editable": false
   },
   "outputs": [],
   "source": [
    "# Initialize Otter\n",
    "import otter\n",
    "grader = otter.Notebook(\"assignment06.ipynb\")"
   ]
  },
  {
   "cell_type": "markdown",
   "metadata": {
    "tags": []
   },
   "source": [
    "# Assignment 06: Table Operations\n",
    "\n",
    "Welcome to Assignment 06!  Throughout the course you will complete assignments like this one. You can't learn technical subjects without hands-on practice, so these assignments are an important part of the course.\n",
    "\n",
    "Collaborating on labs is more than okay -- it's encouraged! You should rarely remain stuck for more than a few minutes on a question, so ask a post to the discussion board or ask your instructor for help. Explaining things is beneficial, too -- the best way to solidify your knowledge of a subject is to explain it. You should **not** just copy/paste someone else's code, but rather work together to gain understanding of the task you need to complete. \n",
    "\n",
    "To receive credit for this assignment, answer all questions correctly and submit before the deadline.\n",
    "\n",
    "**Due Date:** Tuesday, July 12, 2022 @ 11:59 pm\n",
    "\n",
    "**Collaboration Policy:** Data science is a collaborative activity. While you may talk with others about the labs, we ask that you **write your solutions individually**. If you do discuss the assignments with others **please include their names below** (it's a good way to learn your classmates' names).\n",
    "\n",
    "**Collaborators:** \n",
    "\n",
    "List collaborators here.\n",
    "\n",
    "## Today's Assignment\n",
    "\n",
    "In today's assignment, you'll learn how to:\n",
    "\n",
    "- manipulate tables using functions from the `datascience` package.\n",
    "\n",
    "- use functions from the `NumPy` library.\n",
    "\n",
    "Let's get started! Run the cell below."
   ]
  },
  {
   "cell_type": "code",
   "execution_count": 1,
   "metadata": {},
   "outputs": [],
   "source": [
    "from datascience import *\n",
    "import numpy as np"
   ]
  },
  {
   "cell_type": "markdown",
   "metadata": {},
   "source": [
    "## Tables\n",
    "\n",
    "In this lab we will be talking all about **Tables**. We use tables to store all sorts of data form sports statistics to population information. If there's data you have ever been curious about, it is very likely that the Internet has a table somewhere with that data.\n",
    "\n",
    "Tables are integral to the foundation of Data Science, and we will go over how to **query** a table. **Querying** a table is basically asking information about the table. Some examples of common queries (in English, not code):\n",
    "\n",
    "- How many data points are there?\n",
    "\n",
    "- Which data points have a specific characteristic?\n",
    "\n",
    "- What is the attribute of a specific data point?\n",
    "\n",
    "- And many more!\n",
    "\n",
    "There are so many ways we can use tables to get information we need, and there are several existing libraries in Python that we can use to do this! In this course, we will be using the `datascience` library, and if you take Data Science classes beyond this one, you may learn many more!\n",
    "\n",
    "### Table Creation\n",
    "\n",
    "Let's take a look at a table in action. Python does not have any tables by default, so we can either make a new one ourselves or we can import a table from a file. First, let's see how we can make our own table from scratch:"
   ]
  },
  {
   "cell_type": "code",
   "execution_count": 2,
   "metadata": {},
   "outputs": [
    {
     "data": {
      "text/html": [
       "<table border=\"1\" class=\"dataframe\">\n",
       "    <thead>\n",
       "        <tr>\n",
       "            \n",
       "        </tr>\n",
       "    </thead>\n",
       "    <tbody>\n",
       "    </tbody>\n",
       "</table>"
      ],
      "text/plain": []
     },
     "execution_count": 2,
     "metadata": {},
     "output_type": "execute_result"
    }
   ],
   "source": [
    "# We start out with an empty Table\n",
    "# Note that 'table' is capitalized, \n",
    "# and there is nothing in the parentheses\n",
    "our_table = Table()\n",
    "our_table"
   ]
  },
  {
   "cell_type": "code",
   "execution_count": 3,
   "metadata": {},
   "outputs": [
    {
     "data": {
      "text/html": [
       "<table border=\"1\" class=\"dataframe\">\n",
       "    <thead>\n",
       "        <tr>\n",
       "            <th>Department</th> <th>Course Number</th>\n",
       "        </tr>\n",
       "    </thead>\n",
       "    <tbody>\n",
       "        <tr>\n",
       "            <td>Data Science</td> <td>94           </td>\n",
       "        </tr>\n",
       "        <tr>\n",
       "            <td>Economics   </td> <td>1            </td>\n",
       "        </tr>\n",
       "        <tr>\n",
       "            <td>Mathematics </td> <td>2            </td>\n",
       "        </tr>\n",
       "        <tr>\n",
       "            <td>Chemistry   </td> <td>121          </td>\n",
       "        </tr>\n",
       "    </tbody>\n",
       "</table>"
      ],
      "text/plain": [
       "Department   | Course Number\n",
       "Data Science | 94\n",
       "Economics    | 1\n",
       "Mathematics  | 2\n",
       "Chemistry    | 121"
      ]
     },
     "execution_count": 3,
     "metadata": {},
     "output_type": "execute_result"
    }
   ],
   "source": [
    "# Now, let's put some data in our table.\n",
    "# We put the name of a column (a label)\n",
    "# then a comma ','\n",
    "# and then a NumPy array of that column's values\n",
    "# Alternating labels and column values, we fill our table.\n",
    "our_table = our_table.with_columns(\n",
    "    \"Department\", np.array([\"Data Science\", \"Economics\", \"Mathematics\", \"Chemistry\"]),\n",
    "    \"Course Number\", np.array([94, 1, 2, 121])\n",
    ")\n",
    "our_table"
   ]
  },
  {
   "cell_type": "markdown",
   "metadata": {
    "tags": []
   },
   "source": [
    "### Table Attributes: `num_rows` and `num_columns`\n",
    "\n",
    "We can ask for all sorts of information about the table itself:"
   ]
  },
  {
   "cell_type": "markdown",
   "metadata": {},
   "source": [
    "<!-- BEGIN QUESTION -->\n",
    "\n",
    "**Question 1.** List the number of rows in `our_table`."
   ]
  },
  {
   "cell_type": "code",
   "execution_count": 4,
   "metadata": {
    "tags": [
     "otter_assign_solution_cell"
    ]
   },
   "outputs": [
    {
     "data": {
      "text/plain": [
       "4"
      ]
     },
     "execution_count": 4,
     "metadata": {},
     "output_type": "execute_result"
    }
   ],
   "source": [
    "our_table.num_rows # SOLUTION"
   ]
  },
  {
   "cell_type": "markdown",
   "metadata": {},
   "source": [
    "<!-- END QUESTION -->\n",
    "\n",
    "<!-- BEGIN QUESTION -->\n",
    "\n",
    "**Question 2.** List the number of columns in `our_table`."
   ]
  },
  {
   "cell_type": "code",
   "execution_count": 5,
   "metadata": {
    "tags": [
     "otter_assign_solution_cell"
    ]
   },
   "outputs": [
    {
     "data": {
      "text/plain": [
       "2"
      ]
     },
     "execution_count": 5,
     "metadata": {},
     "output_type": "execute_result"
    }
   ],
   "source": [
    "our_table.num_columns # SOLUTION"
   ]
  },
  {
   "cell_type": "markdown",
   "metadata": {},
   "source": [
    "<!-- END QUESTION -->\n",
    "\n",
    "### Getting Columns: `column()` and `with_columns()`\n",
    "\n",
    "We can also ask about the data in the table using the `column()` method. As mentioned in lecture, we can pass in a `label` or an `index` to this method. We index into the columns of a table much like we do the items of a list; 0 corresponds to the first column, 1 corresponds to the second, etc...."
   ]
  },
  {
   "cell_type": "markdown",
   "metadata": {},
   "source": [
    "<!-- BEGIN QUESTION -->\n",
    "\n",
    "**Question 3.** List the items of the `Department` column from `our_table`, using the name of the column."
   ]
  },
  {
   "cell_type": "code",
   "execution_count": 6,
   "metadata": {
    "tags": [
     "otter_assign_solution_cell"
    ]
   },
   "outputs": [
    {
     "data": {
      "text/plain": [
       "array(['Data Science', 'Economics', 'Mathematics', 'Chemistry'],\n",
       "      dtype='<U12')"
      ]
     },
     "execution_count": 6,
     "metadata": {},
     "output_type": "execute_result"
    }
   ],
   "source": [
    "our_table.column(\"Department\") # SOLUTION"
   ]
  },
  {
   "cell_type": "markdown",
   "metadata": {},
   "source": [
    "<!-- END QUESTION -->\n",
    "\n",
    "<!-- BEGIN QUESTION -->\n",
    "\n",
    "**Question 4.** List the items of the `Department` column from `our_table`, using the position number of the column."
   ]
  },
  {
   "cell_type": "code",
   "execution_count": 7,
   "metadata": {
    "tags": [
     "otter_assign_solution_cell"
    ]
   },
   "outputs": [
    {
     "data": {
      "text/plain": [
       "array(['Data Science', 'Economics', 'Mathematics', 'Chemistry'],\n",
       "      dtype='<U12')"
      ]
     },
     "execution_count": 7,
     "metadata": {},
     "output_type": "execute_result"
    }
   ],
   "source": [
    "our_table.column(0) # SOLUTION"
   ]
  },
  {
   "cell_type": "markdown",
   "metadata": {},
   "source": [
    "<!-- END QUESTION -->\n",
    "\n",
    "Say we have a table and we want to add additional data. We can use the `with_columns()` method to do this (just like we did above)! The `with_columns` method takes inputs the exact same way as the `column()` method. We need to make sure that the columns we add to the table have the same number of rows (the length of the array we pass in) as the table, otherwise we get an error."
   ]
  },
  {
   "cell_type": "code",
   "execution_count": 8,
   "metadata": {},
   "outputs": [
    {
     "data": {
      "text/html": [
       "<table border=\"1\" class=\"dataframe\">\n",
       "    <thead>\n",
       "        <tr>\n",
       "            <th>Department</th> <th>Course Number</th> <th>Number of Students</th>\n",
       "        </tr>\n",
       "    </thead>\n",
       "    <tbody>\n",
       "        <tr>\n",
       "            <td>Data Science</td> <td>94           </td> <td>21                </td>\n",
       "        </tr>\n",
       "        <tr>\n",
       "            <td>Economics   </td> <td>1            </td> <td>905               </td>\n",
       "        </tr>\n",
       "        <tr>\n",
       "            <td>Mathematics </td> <td>2            </td> <td>209               </td>\n",
       "        </tr>\n",
       "        <tr>\n",
       "            <td>Chemistry   </td> <td>121          </td> <td>63                </td>\n",
       "        </tr>\n",
       "    </tbody>\n",
       "</table>"
      ],
      "text/plain": [
       "Department   | Course Number | Number of Students\n",
       "Data Science | 94            | 21\n",
       "Economics    | 1             | 905\n",
       "Mathematics  | 2             | 209\n",
       "Chemistry    | 121           | 63"
      ]
     },
     "execution_count": 8,
     "metadata": {},
     "output_type": "execute_result"
    }
   ],
   "source": [
    "# Our table has 4 rows, so our new column needs an array with 4 items, 1 for each row\n",
    "our_table_new_column = our_table.with_columns(\"Number of Students\", np.array([21, 905, 209, 63]))\n",
    "our_table_new_column"
   ]
  },
  {
   "cell_type": "code",
   "execution_count": 9,
   "metadata": {},
   "outputs": [
    {
     "ename": "ValueError",
     "evalue": "Column length mismatch. New column does not have the same number of rows as table.",
     "output_type": "error",
     "traceback": [
      "\u001b[0;31m---------------------------------------------------------------------------\u001b[0m",
      "\u001b[0;31mValueError\u001b[0m                                Traceback (most recent call last)",
      "\u001b[0;32m/tmp/ipykernel_249/547673056.py\u001b[0m in \u001b[0;36m<module>\u001b[0;34m\u001b[0m\n\u001b[0;32m----> 1\u001b[0;31m \u001b[0mour_table_bad_column\u001b[0m \u001b[0;34m=\u001b[0m \u001b[0mour_table_new_column\u001b[0m\u001b[0;34m.\u001b[0m\u001b[0mwith_columns\u001b[0m\u001b[0;34m(\u001b[0m\u001b[0;34m\"Too Few Rows\"\u001b[0m\u001b[0;34m,\u001b[0m \u001b[0mnp\u001b[0m\u001b[0;34m.\u001b[0m\u001b[0marray\u001b[0m\u001b[0;34m(\u001b[0m\u001b[0;34m[\u001b[0m\u001b[0;36m1\u001b[0m\u001b[0;34m,\u001b[0m \u001b[0;36m2\u001b[0m\u001b[0;34m,\u001b[0m \u001b[0;36m3\u001b[0m\u001b[0;34m]\u001b[0m\u001b[0;34m)\u001b[0m\u001b[0;34m)\u001b[0m\u001b[0;34m\u001b[0m\u001b[0;34m\u001b[0m\u001b[0m\n\u001b[0m\u001b[1;32m      2\u001b[0m \u001b[0mour_table_bad_column\u001b[0m\u001b[0;34m\u001b[0m\u001b[0;34m\u001b[0m\u001b[0m\n",
      "\u001b[0;32m/opt/conda/lib/python3.9/site-packages/datascience/tables.py\u001b[0m in \u001b[0;36mwith_columns\u001b[0;34m(self, *labels_and_values, **formatter)\u001b[0m\n\u001b[1;32m   2368\u001b[0m         \u001b[0;32mfor\u001b[0m \u001b[0mi\u001b[0m \u001b[0;32min\u001b[0m \u001b[0mrange\u001b[0m\u001b[0;34m(\u001b[0m\u001b[0;36m0\u001b[0m\u001b[0;34m,\u001b[0m \u001b[0mlen\u001b[0m\u001b[0;34m(\u001b[0m\u001b[0mlabels_and_values\u001b[0m\u001b[0;34m)\u001b[0m\u001b[0;34m,\u001b[0m \u001b[0;36m2\u001b[0m\u001b[0;34m)\u001b[0m\u001b[0;34m:\u001b[0m\u001b[0;34m\u001b[0m\u001b[0;34m\u001b[0m\u001b[0m\n\u001b[1;32m   2369\u001b[0m             \u001b[0mlabel\u001b[0m\u001b[0;34m,\u001b[0m \u001b[0mvalues\u001b[0m \u001b[0;34m=\u001b[0m \u001b[0mlabels_and_values\u001b[0m\u001b[0;34m[\u001b[0m\u001b[0mi\u001b[0m\u001b[0;34m]\u001b[0m\u001b[0;34m,\u001b[0m \u001b[0mlabels_and_values\u001b[0m\u001b[0;34m[\u001b[0m\u001b[0mi\u001b[0m\u001b[0;34m+\u001b[0m\u001b[0;36m1\u001b[0m\u001b[0;34m]\u001b[0m\u001b[0;34m\u001b[0m\u001b[0;34m\u001b[0m\u001b[0m\n\u001b[0;32m-> 2370\u001b[0;31m             \u001b[0mself\u001b[0m \u001b[0;34m=\u001b[0m \u001b[0mself\u001b[0m\u001b[0;34m.\u001b[0m\u001b[0mwith_column\u001b[0m\u001b[0;34m(\u001b[0m\u001b[0mlabel\u001b[0m\u001b[0;34m,\u001b[0m \u001b[0mvalues\u001b[0m\u001b[0;34m,\u001b[0m \u001b[0mformatter\u001b[0m\u001b[0;34m)\u001b[0m\u001b[0;34m\u001b[0m\u001b[0;34m\u001b[0m\u001b[0m\n\u001b[0m\u001b[1;32m   2371\u001b[0m         \u001b[0;32mreturn\u001b[0m \u001b[0mself\u001b[0m\u001b[0;34m\u001b[0m\u001b[0;34m\u001b[0m\u001b[0m\n\u001b[1;32m   2372\u001b[0m \u001b[0;34m\u001b[0m\u001b[0m\n",
      "\u001b[0;32m/opt/conda/lib/python3.9/site-packages/datascience/tables.py\u001b[0m in \u001b[0;36mwith_column\u001b[0;34m(self, label, values, formatter)\u001b[0m\n\u001b[1;32m   2285\u001b[0m         \u001b[0;32melif\u001b[0m \u001b[0misinstance\u001b[0m\u001b[0;34m(\u001b[0m\u001b[0mformatter\u001b[0m\u001b[0;34m,\u001b[0m \u001b[0mdict\u001b[0m\u001b[0;34m)\u001b[0m\u001b[0;34m:\u001b[0m\u001b[0;34m\u001b[0m\u001b[0;34m\u001b[0m\u001b[0m\n\u001b[1;32m   2286\u001b[0m             \u001b[0mformatter\u001b[0m \u001b[0;34m=\u001b[0m \u001b[0mformatter\u001b[0m\u001b[0;34m[\u001b[0m\u001b[0;34m\"formatter\"\u001b[0m\u001b[0;34m]\u001b[0m\u001b[0;34m\u001b[0m\u001b[0;34m\u001b[0m\u001b[0m\n\u001b[0;32m-> 2287\u001b[0;31m         \u001b[0mnew_table\u001b[0m\u001b[0;34m.\u001b[0m\u001b[0mappend_column\u001b[0m\u001b[0;34m(\u001b[0m\u001b[0mlabel\u001b[0m\u001b[0;34m,\u001b[0m \u001b[0mvalues\u001b[0m\u001b[0;34m,\u001b[0m \u001b[0mformatter\u001b[0m\u001b[0;34m)\u001b[0m\u001b[0;34m\u001b[0m\u001b[0;34m\u001b[0m\u001b[0m\n\u001b[0m\u001b[1;32m   2288\u001b[0m         \u001b[0;32mreturn\u001b[0m \u001b[0mnew_table\u001b[0m\u001b[0;34m\u001b[0m\u001b[0;34m\u001b[0m\u001b[0m\n\u001b[1;32m   2289\u001b[0m \u001b[0;34m\u001b[0m\u001b[0m\n",
      "\u001b[0;32m/opt/conda/lib/python3.9/site-packages/datascience/tables.py\u001b[0m in \u001b[0;36mappend_column\u001b[0;34m(self, label, values, formatter)\u001b[0m\n\u001b[1;32m    921\u001b[0m \u001b[0;34m\u001b[0m\u001b[0m\n\u001b[1;32m    922\u001b[0m         \u001b[0;32mif\u001b[0m \u001b[0mself\u001b[0m\u001b[0;34m.\u001b[0m\u001b[0mnum_rows\u001b[0m \u001b[0;34m!=\u001b[0m \u001b[0;36m0\u001b[0m \u001b[0;32mand\u001b[0m \u001b[0mlen\u001b[0m\u001b[0;34m(\u001b[0m\u001b[0mvalues\u001b[0m\u001b[0;34m)\u001b[0m \u001b[0;34m!=\u001b[0m \u001b[0mself\u001b[0m\u001b[0;34m.\u001b[0m\u001b[0mnum_rows\u001b[0m\u001b[0;34m:\u001b[0m\u001b[0;34m\u001b[0m\u001b[0;34m\u001b[0m\u001b[0m\n\u001b[0;32m--> 923\u001b[0;31m             raise ValueError('Column length mismatch. New column does not have '\n\u001b[0m\u001b[1;32m    924\u001b[0m                              'the same number of rows as table.')\n\u001b[1;32m    925\u001b[0m         \u001b[0;32melse\u001b[0m\u001b[0;34m:\u001b[0m\u001b[0;34m\u001b[0m\u001b[0;34m\u001b[0m\u001b[0m\n",
      "\u001b[0;31mValueError\u001b[0m: Column length mismatch. New column does not have the same number of rows as table."
     ]
    }
   ],
   "source": [
    "our_table_bad_column = our_table_new_column.with_columns(\"Too Few Rows\", np.array([1, 2, 3]))\n",
    "our_table_bad_column"
   ]
  },
  {
   "cell_type": "markdown",
   "metadata": {},
   "source": [
    "Note the error message here. This may be a common mistake at first, so if you see this error message, check the number of items in your column arrays."
   ]
  },
  {
   "cell_type": "code",
   "execution_count": null,
   "metadata": {},
   "outputs": [],
   "source": [
    "# This is our final table.\n",
    "# You may use the cell below the output\n",
    "# to explore the table and see what you \n",
    "# can do with it so far.\n",
    "our_table_new_column"
   ]
  },
  {
   "cell_type": "markdown",
   "metadata": {},
   "source": [
    "### Loading a Table\n",
    "\n",
    "Although creating our own tables by hand can be useful, more often than not the data we want to work with is far too large to be able to type out by hand. More commonly, we load datasets in from other sources using the `Table.read_table()` method. We can pass in a **file path** to this method and it will load that data into a table we can use in Python!\n",
    "\n",
    "Let's see how this works using the file `\"data/ncsu_football.csv\"`:"
   ]
  },
  {
   "cell_type": "code",
   "execution_count": 4,
   "metadata": {},
   "outputs": [
    {
     "data": {
      "text/html": [
       "<table border=\"1\" class=\"dataframe\">\n",
       "    <thead>\n",
       "        <tr>\n",
       "            <th>Rk</th> <th>Year</th> <th>Conf</th> <th>W</th> <th>L</th> <th>T</th> <th>Pct</th> <th>W.1</th> <th>L.1</th> <th>T.1</th> <th>Pct.1</th> <th>SRS</th> <th>SOS</th> <th>AP Pre</th> <th>AP High</th> <th>AP Post</th> <th>Coach(es)</th> <th>Bowl</th> <th>Notes</th>\n",
       "        </tr>\n",
       "    </thead>\n",
       "    <tbody>\n",
       "        <tr>\n",
       "            <td>2   </td> <td>2021</td> <td>ACC </td> <td>9   </td> <td>3   </td> <td>nan </td> <td>0.75 </td> <td>6   </td> <td>2   </td> <td>0   </td> <td>0.75 </td> <td>10.22</td> <td>0.39 </td> <td>nan   </td> <td>18     </td> <td>20     </td> <td>Dave Doeren (9-3)</td> <td>nan         </td> <td>nan  </td>\n",
       "        </tr>\n",
       "        <tr>\n",
       "            <td>3   </td> <td>2020</td> <td>ACC </td> <td>8   </td> <td>4   </td> <td>0   </td> <td>0.667</td> <td>7   </td> <td>3   </td> <td>0   </td> <td>0.7  </td> <td>0.35 </td> <td>-1.57</td> <td>nan   </td> <td>23     </td> <td>nan    </td> <td>Dave Doeren (8-4)</td> <td>Gator Bowl-L</td> <td>nan  </td>\n",
       "        </tr>\n",
       "        <tr>\n",
       "            <td>4   </td> <td>2019</td> <td>ACC </td> <td>4   </td> <td>8   </td> <td>0   </td> <td>0.333</td> <td>1   </td> <td>7   </td> <td>0   </td> <td>0.125</td> <td>-7.82</td> <td>-0.91</td> <td>nan   </td> <td>nan    </td> <td>nan    </td> <td>Dave Doeren (4-8)</td> <td>nan         </td> <td>nan  </td>\n",
       "        </tr>\n",
       "        <tr>\n",
       "            <td>5   </td> <td>2018</td> <td>ACC </td> <td>9   </td> <td>4   </td> <td>0   </td> <td>0.692</td> <td>5   </td> <td>3   </td> <td>0   </td> <td>0.625</td> <td>6.8  </td> <td>0.49 </td> <td>nan   </td> <td>16     </td> <td>nan    </td> <td>Dave Doeren (9-4)</td> <td>Gator Bowl-L</td> <td>nan  </td>\n",
       "        </tr>\n",
       "        <tr>\n",
       "            <td>6   </td> <td>2017</td> <td>ACC </td> <td>9   </td> <td>4   </td> <td>0   </td> <td>0.692</td> <td>6   </td> <td>2   </td> <td>0   </td> <td>0.75 </td> <td>12.17</td> <td>5.55 </td> <td>nan   </td> <td>14     </td> <td>23     </td> <td>Dave Doeren (9-4)</td> <td>Sun Bowl-W  </td> <td>nan  </td>\n",
       "        </tr>\n",
       "    </tbody>\n",
       "</table>\n",
       "<p>... (109 rows omitted)</p>"
      ],
      "text/plain": [
       "<IPython.core.display.HTML object>"
      ]
     },
     "metadata": {},
     "output_type": "display_data"
    }
   ],
   "source": [
    "file_table = Table.read_table(\"data/ncsu_football.csv\")\n",
    "file_table.show(5)"
   ]
  },
  {
   "cell_type": "markdown",
   "metadata": {},
   "source": [
    "### Viewing a Table: `show()`\n",
    "\n",
    "The use of the `show()` method **displays** the first n rows of a table. Like `print()` this does not return a value, it just displays the value to us at the end of a cell.\n",
    "\n",
    "### Excluding Columns: `drop()`\n",
    "\n",
    "We now have information about NC State's Football's seasons since statistics were kept. Because this file was pulled from the internet, it may have some data in it that we are not interested in, like the rows with a bunch of `nan` values (`nan` means \"Not a number\", and it is commonly used to indicate there is no value there).\n",
    "\n",
    "**Do not always necessarily remove all columns with several `NaN` values from a table.** There may be a reason why the values are not present, but for a this exercise we don't need to worry about it.*\n",
    "\n",
    "We can use the `drop()` method to remove columns like this from the table. Let's drop the `Notes` column:"
   ]
  },
  {
   "cell_type": "markdown",
   "metadata": {},
   "source": [
    "**Question 5.** Drop the `Notes` column and save the new `Table` to `file_table_no_notes`."
   ]
  },
  {
   "cell_type": "code",
   "execution_count": 5,
   "metadata": {
    "tags": [
     "otter_assign_solution_cell"
    ]
   },
   "outputs": [
    {
     "data": {
      "text/html": [
       "<table border=\"1\" class=\"dataframe\">\n",
       "    <thead>\n",
       "        <tr>\n",
       "            <th>Rk</th> <th>Year</th> <th>Conf</th> <th>W</th> <th>L</th> <th>T</th> <th>Pct</th> <th>W.1</th> <th>L.1</th> <th>T.1</th> <th>Pct.1</th> <th>SRS</th> <th>SOS</th> <th>AP Pre</th> <th>AP High</th> <th>AP Post</th> <th>Coach(es)</th> <th>Bowl</th>\n",
       "        </tr>\n",
       "    </thead>\n",
       "    <tbody>\n",
       "        <tr>\n",
       "            <td>2   </td> <td>2021</td> <td>ACC </td> <td>9   </td> <td>3   </td> <td>nan </td> <td>0.75 </td> <td>6   </td> <td>2   </td> <td>0   </td> <td>0.75 </td> <td>10.22</td> <td>0.39 </td> <td>nan   </td> <td>18     </td> <td>20     </td> <td>Dave Doeren (9-3)</td> <td>nan         </td>\n",
       "        </tr>\n",
       "        <tr>\n",
       "            <td>3   </td> <td>2020</td> <td>ACC </td> <td>8   </td> <td>4   </td> <td>0   </td> <td>0.667</td> <td>7   </td> <td>3   </td> <td>0   </td> <td>0.7  </td> <td>0.35 </td> <td>-1.57</td> <td>nan   </td> <td>23     </td> <td>nan    </td> <td>Dave Doeren (8-4)</td> <td>Gator Bowl-L</td>\n",
       "        </tr>\n",
       "        <tr>\n",
       "            <td>4   </td> <td>2019</td> <td>ACC </td> <td>4   </td> <td>8   </td> <td>0   </td> <td>0.333</td> <td>1   </td> <td>7   </td> <td>0   </td> <td>0.125</td> <td>-7.82</td> <td>-0.91</td> <td>nan   </td> <td>nan    </td> <td>nan    </td> <td>Dave Doeren (4-8)</td> <td>nan         </td>\n",
       "        </tr>\n",
       "        <tr>\n",
       "            <td>5   </td> <td>2018</td> <td>ACC </td> <td>9   </td> <td>4   </td> <td>0   </td> <td>0.692</td> <td>5   </td> <td>3   </td> <td>0   </td> <td>0.625</td> <td>6.8  </td> <td>0.49 </td> <td>nan   </td> <td>16     </td> <td>nan    </td> <td>Dave Doeren (9-4)</td> <td>Gator Bowl-L</td>\n",
       "        </tr>\n",
       "        <tr>\n",
       "            <td>6   </td> <td>2017</td> <td>ACC </td> <td>9   </td> <td>4   </td> <td>0   </td> <td>0.692</td> <td>6   </td> <td>2   </td> <td>0   </td> <td>0.75 </td> <td>12.17</td> <td>5.55 </td> <td>nan   </td> <td>14     </td> <td>23     </td> <td>Dave Doeren (9-4)</td> <td>Sun Bowl-W  </td>\n",
       "        </tr>\n",
       "    </tbody>\n",
       "</table>\n",
       "<p>... (109 rows omitted)</p>"
      ],
      "text/plain": [
       "<IPython.core.display.HTML object>"
      ]
     },
     "metadata": {},
     "output_type": "display_data"
    }
   ],
   "source": [
    "file_table_no_notes = file_table.drop(\"Notes\") # SOLUTION\n",
    "file_table_no_notes.show(5)"
   ]
  },
  {
   "cell_type": "code",
   "execution_count": null,
   "metadata": {
    "deletable": false,
    "editable": false
   },
   "outputs": [],
   "source": [
    "grader.check(\"q5\")"
   ]
  },
  {
   "cell_type": "markdown",
   "metadata": {},
   "source": [
    "**Question 6.** Let's also drop the `AP Pre`, `AP High`, `AP Post`, `SRS` and `SOS` columns from the table. These are statistics specific to college football, and they are not important for what we're doing. `drop()` can take in as many columns as you need, and it will drop them all from the table. Save this `Table` to `file_table_improved_columns`."
   ]
  },
  {
   "cell_type": "code",
   "execution_count": 7,
   "metadata": {
    "tags": [
     "otter_assign_solution_cell"
    ]
   },
   "outputs": [
    {
     "data": {
      "text/html": [
       "<table border=\"1\" class=\"dataframe\">\n",
       "    <thead>\n",
       "        <tr>\n",
       "            <th>Rk</th> <th>Year</th> <th>Conf</th> <th>W</th> <th>L</th> <th>T</th> <th>Pct</th> <th>W.1</th> <th>L.1</th> <th>T.1</th> <th>Pct.1</th> <th>Coach(es)</th> <th>Bowl</th>\n",
       "        </tr>\n",
       "    </thead>\n",
       "    <tbody>\n",
       "        <tr>\n",
       "            <td>2   </td> <td>2021</td> <td>ACC </td> <td>9   </td> <td>3   </td> <td>nan </td> <td>0.75 </td> <td>6   </td> <td>2   </td> <td>0   </td> <td>0.75 </td> <td>Dave Doeren (9-3)</td> <td>nan         </td>\n",
       "        </tr>\n",
       "        <tr>\n",
       "            <td>3   </td> <td>2020</td> <td>ACC </td> <td>8   </td> <td>4   </td> <td>0   </td> <td>0.667</td> <td>7   </td> <td>3   </td> <td>0   </td> <td>0.7  </td> <td>Dave Doeren (8-4)</td> <td>Gator Bowl-L</td>\n",
       "        </tr>\n",
       "        <tr>\n",
       "            <td>4   </td> <td>2019</td> <td>ACC </td> <td>4   </td> <td>8   </td> <td>0   </td> <td>0.333</td> <td>1   </td> <td>7   </td> <td>0   </td> <td>0.125</td> <td>Dave Doeren (4-8)</td> <td>nan         </td>\n",
       "        </tr>\n",
       "        <tr>\n",
       "            <td>5   </td> <td>2018</td> <td>ACC </td> <td>9   </td> <td>4   </td> <td>0   </td> <td>0.692</td> <td>5   </td> <td>3   </td> <td>0   </td> <td>0.625</td> <td>Dave Doeren (9-4)</td> <td>Gator Bowl-L</td>\n",
       "        </tr>\n",
       "        <tr>\n",
       "            <td>6   </td> <td>2017</td> <td>ACC </td> <td>9   </td> <td>4   </td> <td>0   </td> <td>0.692</td> <td>6   </td> <td>2   </td> <td>0   </td> <td>0.75 </td> <td>Dave Doeren (9-4)</td> <td>Sun Bowl-W  </td>\n",
       "        </tr>\n",
       "    </tbody>\n",
       "</table>\n",
       "<p>... (109 rows omitted)</p>"
      ],
      "text/plain": [
       "<IPython.core.display.HTML object>"
      ]
     },
     "metadata": {},
     "output_type": "display_data"
    }
   ],
   "source": [
    "file_table_improved_columns = file_table_no_notes.drop(\"AP Pre\", \"AP High\", \"AP Post\", \"SRS\", \"SOS\") # SOLUTION\n",
    "file_table_improved_columns.show(5)"
   ]
  },
  {
   "cell_type": "code",
   "execution_count": null,
   "metadata": {
    "deletable": false,
    "editable": false
   },
   "outputs": [],
   "source": [
    "grader.check(\"q6\")"
   ]
  },
  {
   "cell_type": "markdown",
   "metadata": {},
   "source": [
    "## Number of Years\n",
    "\n",
    "We can see how many years this table covers by asking about how many rows the table has."
   ]
  },
  {
   "cell_type": "markdown",
   "metadata": {},
   "source": [
    "**Questiion 7.** Assign the variable `file_table_rows` to the number of rows in `file_table_improved_columns`. You should not write an integer, rather use one of the table attributes we have talked about so far to **calculate** the number of rows."
   ]
  },
  {
   "cell_type": "code",
   "execution_count": 13,
   "metadata": {
    "tags": [
     "otter_assign_solution_cell"
    ]
   },
   "outputs": [
    {
     "data": {
      "text/plain": [
       "114"
      ]
     },
     "execution_count": 13,
     "metadata": {},
     "output_type": "execute_result"
    }
   ],
   "source": [
    "file_table_rows = file_table_improved_columns.num_rows # SOLUTION\n",
    "file_table_rows"
   ]
  },
  {
   "cell_type": "code",
   "execution_count": null,
   "metadata": {
    "deletable": false,
    "editable": false
   },
   "outputs": [],
   "source": [
    "grader.check(\"q7\")"
   ]
  },
  {
   "cell_type": "markdown",
   "metadata": {},
   "source": [
    "Using this value, we can calculate the first year in `file_table_improved_columns` without looking at it."
   ]
  },
  {
   "cell_type": "code",
   "execution_count": 15,
   "metadata": {},
   "outputs": [
    {
     "name": "stdout",
     "output_type": "stream",
     "text": [
      "The first year in this table is: 1908\n"
     ]
    }
   ],
   "source": [
    "# The Table covers up until 2021, so subtracting the number of rows gives \n",
    "# us the first year NOT in the table. We add one to the result to get the\n",
    "# first year in the table.\n",
    "print(\"The first year in this table is:\", 2021-file_table_rows+1)"
   ]
  },
  {
   "cell_type": "markdown",
   "metadata": {},
   "source": [
    "### Querying\n",
    "\n",
    "Let's try querying our new table. Let's see what conferences NC State has played in during its history using the `Conf` column:"
   ]
  },
  {
   "cell_type": "code",
   "execution_count": 16,
   "metadata": {},
   "outputs": [
    {
     "data": {
      "text/plain": [
       "array(['ACC', 'ACC', 'ACC', 'ACC', 'ACC', 'ACC', 'ACC', 'ACC', 'ACC',\n",
       "       'ACC', 'ACC', 'ACC', 'ACC', 'ACC', 'ACC', 'ACC', 'ACC', 'ACC',\n",
       "       'ACC', 'ACC', 'ACC', 'ACC', 'ACC', 'ACC', 'ACC', 'ACC', 'ACC',\n",
       "       'ACC', 'ACC', 'ACC', 'ACC', 'ACC', 'ACC', 'ACC', 'ACC', 'ACC',\n",
       "       'ACC', 'ACC', 'ACC', 'ACC', 'ACC', 'ACC', 'ACC', 'ACC', 'ACC',\n",
       "       'ACC', 'ACC', 'ACC', 'ACC', 'ACC', 'ACC', 'ACC', 'ACC', 'ACC',\n",
       "       'ACC', 'ACC', 'ACC', 'ACC', 'ACC', 'ACC', 'ACC', 'ACC', 'ACC',\n",
       "       'ACC', 'ACC', 'ACC', 'ACC', 'ACC', 'ACC', 'Southern', 'Southern',\n",
       "       'Southern', 'Southern', 'Southern', 'Southern', 'Southern',\n",
       "       'Southern', 'Southern', 'Southern', 'Southern', 'Southern',\n",
       "       'Southern', 'Southern', 'Southern', 'Southern', 'Southern',\n",
       "       'Southern', 'Southern', 'Southern', 'Southern', 'Southern',\n",
       "       'Southern', 'Southern', 'Southern', 'Southern', 'Southern',\n",
       "       'Southern', 'Southern', 'Southern', 'Southern', 'Southern', 'Ind',\n",
       "       'Ind', 'Ind', 'Ind', 'Ind', 'Ind', 'Ind', 'Ind', 'Ind', 'Ind',\n",
       "       'Ind', 'Ind', 'Ind'], dtype='<U8')"
      ]
     },
     "execution_count": 16,
     "metadata": {},
     "output_type": "execute_result"
    }
   ],
   "source": [
    "conference_list = file_table_improved_columns.column(\"Conf\")\n",
    "conference_list"
   ]
  },
  {
   "cell_type": "markdown",
   "metadata": {},
   "source": [
    "As you can see, this list looks long and repetitive, but we can use the `np.unique` method to tell us all the conferences only once as they appear:"
   ]
  },
  {
   "cell_type": "code",
   "execution_count": 17,
   "metadata": {},
   "outputs": [
    {
     "data": {
      "text/plain": [
       "array(['ACC', 'Ind', 'Southern'], dtype='<U8')"
      ]
     },
     "execution_count": 17,
     "metadata": {},
     "output_type": "execute_result"
    }
   ],
   "source": [
    "np.unique(conference_list)"
   ]
  },
  {
   "cell_type": "markdown",
   "metadata": {},
   "source": [
    "### Picking columns: `select()`\n",
    "\n",
    "It appears that there are also several other columns that we are not very interested in. Instead of dropping several columns, we can use the `select()` method to grab only the columns we want. In this case, we only want to keep the `Year`, `W`, `L`, `T`, and `Pct`,  columns."
   ]
  },
  {
   "cell_type": "markdown",
   "metadata": {},
   "source": [
    "**Question 8.** Use the `select()` method to grab only the `Year`, `W`, `L`, `T`, and `Pct`,  columns. Save the `Table` to `football_table`."
   ]
  },
  {
   "cell_type": "code",
   "execution_count": 18,
   "metadata": {
    "tags": [
     "otter_assign_solution_cell"
    ]
   },
   "outputs": [
    {
     "data": {
      "text/html": [
       "<table border=\"1\" class=\"dataframe\">\n",
       "    <thead>\n",
       "        <tr>\n",
       "            <th>Year</th> <th>W</th> <th>L</th> <th>T</th> <th>Pct</th>\n",
       "        </tr>\n",
       "    </thead>\n",
       "    <tbody>\n",
       "        <tr>\n",
       "            <td>2021</td> <td>9   </td> <td>3   </td> <td>nan </td> <td>0.75 </td>\n",
       "        </tr>\n",
       "        <tr>\n",
       "            <td>2020</td> <td>8   </td> <td>4   </td> <td>0   </td> <td>0.667</td>\n",
       "        </tr>\n",
       "        <tr>\n",
       "            <td>2019</td> <td>4   </td> <td>8   </td> <td>0   </td> <td>0.333</td>\n",
       "        </tr>\n",
       "        <tr>\n",
       "            <td>2018</td> <td>9   </td> <td>4   </td> <td>0   </td> <td>0.692</td>\n",
       "        </tr>\n",
       "        <tr>\n",
       "            <td>2017</td> <td>9   </td> <td>4   </td> <td>0   </td> <td>0.692</td>\n",
       "        </tr>\n",
       "        <tr>\n",
       "            <td>2016</td> <td>7   </td> <td>6   </td> <td>0   </td> <td>0.538</td>\n",
       "        </tr>\n",
       "        <tr>\n",
       "            <td>2015</td> <td>7   </td> <td>6   </td> <td>0   </td> <td>0.538</td>\n",
       "        </tr>\n",
       "        <tr>\n",
       "            <td>2014</td> <td>8   </td> <td>5   </td> <td>0   </td> <td>0.615</td>\n",
       "        </tr>\n",
       "        <tr>\n",
       "            <td>2013</td> <td>3   </td> <td>9   </td> <td>0   </td> <td>0.25 </td>\n",
       "        </tr>\n",
       "        <tr>\n",
       "            <td>2012</td> <td>7   </td> <td>6   </td> <td>0   </td> <td>0.538</td>\n",
       "        </tr>\n",
       "    </tbody>\n",
       "</table>\n",
       "<p>... (104 rows omitted)</p>"
      ],
      "text/plain": [
       "Year | W    | L    | T    | Pct\n",
       "2021 | 9    | 3    | nan  | 0.75\n",
       "2020 | 8    | 4    | 0    | 0.667\n",
       "2019 | 4    | 8    | 0    | 0.333\n",
       "2018 | 9    | 4    | 0    | 0.692\n",
       "2017 | 9    | 4    | 0    | 0.692\n",
       "2016 | 7    | 6    | 0    | 0.538\n",
       "2015 | 7    | 6    | 0    | 0.538\n",
       "2014 | 8    | 5    | 0    | 0.615\n",
       "2013 | 3    | 9    | 0    | 0.25\n",
       "2012 | 7    | 6    | 0    | 0.538\n",
       "... (104 rows omitted)"
      ]
     },
     "execution_count": 18,
     "metadata": {},
     "output_type": "execute_result"
    }
   ],
   "source": [
    "football_table = file_table_improved_columns.select(\"Year\", \"W\", \"L\", \"T\", \"Pct\") # SOLUTION\n",
    "football_table"
   ]
  },
  {
   "cell_type": "code",
   "execution_count": null,
   "metadata": {
    "deletable": false,
    "editable": false
   },
   "outputs": [],
   "source": [
    "grader.check(\"q8\")"
   ]
  },
  {
   "cell_type": "code",
   "execution_count": 20,
   "metadata": {},
   "outputs": [
    {
     "data": {
      "text/html": [
       "<table border=\"1\" class=\"dataframe\">\n",
       "    <thead>\n",
       "        <tr>\n",
       "            <th>Rk</th> <th>Year</th> <th>Conf</th> <th>W</th> <th>L</th> <th>T</th> <th>Pct</th> <th>W.1</th> <th>L.1</th> <th>T.1</th> <th>Pct.1</th> <th>Coach(es)</th> <th>Bowl</th>\n",
       "        </tr>\n",
       "    </thead>\n",
       "    <tbody>\n",
       "        <tr>\n",
       "            <td>2   </td> <td>2021</td> <td>ACC </td> <td>9   </td> <td>3   </td> <td>nan </td> <td>0.75 </td> <td>6   </td> <td>2   </td> <td>0   </td> <td>0.75 </td> <td>Dave Doeren (9-3)                 </td> <td>nan                  </td>\n",
       "        </tr>\n",
       "        <tr>\n",
       "            <td>3   </td> <td>2020</td> <td>ACC </td> <td>8   </td> <td>4   </td> <td>0   </td> <td>0.667</td> <td>7   </td> <td>3   </td> <td>0   </td> <td>0.7  </td> <td>Dave Doeren (8-4)                 </td> <td>Gator Bowl-L         </td>\n",
       "        </tr>\n",
       "        <tr>\n",
       "            <td>4   </td> <td>2019</td> <td>ACC </td> <td>4   </td> <td>8   </td> <td>0   </td> <td>0.333</td> <td>1   </td> <td>7   </td> <td>0   </td> <td>0.125</td> <td>Dave Doeren (4-8)                 </td> <td>nan                  </td>\n",
       "        </tr>\n",
       "        <tr>\n",
       "            <td>5   </td> <td>2018</td> <td>ACC </td> <td>9   </td> <td>4   </td> <td>0   </td> <td>0.692</td> <td>5   </td> <td>3   </td> <td>0   </td> <td>0.625</td> <td>Dave Doeren (9-4)                 </td> <td>Gator Bowl-L         </td>\n",
       "        </tr>\n",
       "        <tr>\n",
       "            <td>6   </td> <td>2017</td> <td>ACC </td> <td>9   </td> <td>4   </td> <td>0   </td> <td>0.692</td> <td>6   </td> <td>2   </td> <td>0   </td> <td>0.75 </td> <td>Dave Doeren (9-4)                 </td> <td>Sun Bowl-W           </td>\n",
       "        </tr>\n",
       "        <tr>\n",
       "            <td>7   </td> <td>2016</td> <td>ACC </td> <td>7   </td> <td>6   </td> <td>0   </td> <td>0.538</td> <td>3   </td> <td>5   </td> <td>0   </td> <td>0.375</td> <td>Dave Doeren (7-6)                 </td> <td>Independence Bowl-W  </td>\n",
       "        </tr>\n",
       "        <tr>\n",
       "            <td>8   </td> <td>2015</td> <td>ACC </td> <td>7   </td> <td>6   </td> <td>0   </td> <td>0.538</td> <td>3   </td> <td>5   </td> <td>0   </td> <td>0.375</td> <td>Dave Doeren (7-6)                 </td> <td>Belk Bowl-L          </td>\n",
       "        </tr>\n",
       "        <tr>\n",
       "            <td>9   </td> <td>2014</td> <td>ACC </td> <td>8   </td> <td>5   </td> <td>0   </td> <td>0.615</td> <td>3   </td> <td>5   </td> <td>0   </td> <td>0.375</td> <td>Dave Doeren (8-5)                 </td> <td>St. Petersburg Bowl-W</td>\n",
       "        </tr>\n",
       "        <tr>\n",
       "            <td>10  </td> <td>2013</td> <td>ACC </td> <td>3   </td> <td>9   </td> <td>0   </td> <td>0.25 </td> <td>0   </td> <td>8   </td> <td>0   </td> <td>0    </td> <td>Dave Doeren (3-9)                 </td> <td>nan                  </td>\n",
       "        </tr>\n",
       "        <tr>\n",
       "            <td>11  </td> <td>2012</td> <td>ACC </td> <td>7   </td> <td>6   </td> <td>0   </td> <td>0.538</td> <td>4   </td> <td>4   </td> <td>0   </td> <td>0.5  </td> <td>Tom O'Brien (7-5) Dana Bible (0-1)</td> <td>Music City Bowl-L    </td>\n",
       "        </tr>\n",
       "    </tbody>\n",
       "</table>\n",
       "<p>... (104 rows omitted)</p>"
      ],
      "text/plain": [
       "Rk   | Year | Conf | W    | L    | T    | Pct   | W.1  | L.1  | T.1  | Pct.1 | Coach(es)                          | Bowl\n",
       "2    | 2021 | ACC  | 9    | 3    | nan  | 0.75  | 6    | 2    | 0    | 0.75  | Dave Doeren (9-3)                  | nan\n",
       "3    | 2020 | ACC  | 8    | 4    | 0    | 0.667 | 7    | 3    | 0    | 0.7   | Dave Doeren (8-4)                  | Gator Bowl-L\n",
       "4    | 2019 | ACC  | 4    | 8    | 0    | 0.333 | 1    | 7    | 0    | 0.125 | Dave Doeren (4-8)                  | nan\n",
       "5    | 2018 | ACC  | 9    | 4    | 0    | 0.692 | 5    | 3    | 0    | 0.625 | Dave Doeren (9-4)                  | Gator Bowl-L\n",
       "6    | 2017 | ACC  | 9    | 4    | 0    | 0.692 | 6    | 2    | 0    | 0.75  | Dave Doeren (9-4)                  | Sun Bowl-W\n",
       "7    | 2016 | ACC  | 7    | 6    | 0    | 0.538 | 3    | 5    | 0    | 0.375 | Dave Doeren (7-6)                  | Independence Bowl-W\n",
       "8    | 2015 | ACC  | 7    | 6    | 0    | 0.538 | 3    | 5    | 0    | 0.375 | Dave Doeren (7-6)                  | Belk Bowl-L\n",
       "9    | 2014 | ACC  | 8    | 5    | 0    | 0.615 | 3    | 5    | 0    | 0.375 | Dave Doeren (8-5)                  | St. Petersburg Bowl-W\n",
       "10   | 2013 | ACC  | 3    | 9    | 0    | 0.25  | 0    | 8    | 0    | 0     | Dave Doeren (3-9)                  | nan\n",
       "11   | 2012 | ACC  | 7    | 6    | 0    | 0.538 | 4    | 4    | 0    | 0.5   | Tom O'Brien (7-5) Dana Bible (0-1) | Music City Bowl-L\n",
       "... (104 rows omitted)"
      ]
     },
     "execution_count": 20,
     "metadata": {},
     "output_type": "execute_result"
    }
   ],
   "source": [
    "# Note that our file_table table is still in tact after this.\n",
    "file_table_improved_columns"
   ]
  },
  {
   "cell_type": "markdown",
   "metadata": {},
   "source": [
    "### Changing Column Labels: `relabeled()`\n",
    "\n",
    "Some of these columns have labels that may not be best for what they store. Let's change the column labels to the following:\n",
    "\n",
    "- Year: Stay the same\n",
    "\n",
    "- W -> Wins\n",
    "\n",
    "- L -> Losses\n",
    "\n",
    "- T -> Ties\n",
    "\n",
    "- Pct -> Winning Percentage\n",
    "\n",
    "We can rename column labels using the `relabeled()` method. You have the choice to only relabel one column or you can relabel several at once. To change the names of multiple columns, we pass in an array of the old names and an array of the new names as the 2 inputs to `relabeled()`:\n",
    "\n",
    "**Note:** There is another method `relabel()` which changes the original table without an `=`. **Be careful** using this method as it can change your data when you may not want to."
   ]
  },
  {
   "cell_type": "markdown",
   "metadata": {},
   "source": [
    "**Question 9.** Change the names of the columns using the `.relabeled()` method. Use the table below to change the column labels.\n",
    "\n",
    "|**Old Label**|**New Label**|\n",
    "|:------------|:------------|\n",
    "|W|Wins|\n",
    "|L|Losses|\n",
    "|T|Ties|\n",
    "|Pct|Winning Percentage|"
   ]
  },
  {
   "cell_type": "code",
   "execution_count": 21,
   "metadata": {
    "tags": [
     "otter_assign_solution_cell"
    ]
   },
   "outputs": [
    {
     "data": {
      "text/html": [
       "<table border=\"1\" class=\"dataframe\">\n",
       "    <thead>\n",
       "        <tr>\n",
       "            <th>Year</th> <th>Wins</th> <th>Losses</th> <th>Ties</th> <th>Winning Percentage</th>\n",
       "        </tr>\n",
       "    </thead>\n",
       "    <tbody>\n",
       "        <tr>\n",
       "            <td>2021</td> <td>9   </td> <td>3     </td> <td>nan </td> <td>0.75              </td>\n",
       "        </tr>\n",
       "        <tr>\n",
       "            <td>2020</td> <td>8   </td> <td>4     </td> <td>0   </td> <td>0.667             </td>\n",
       "        </tr>\n",
       "        <tr>\n",
       "            <td>2019</td> <td>4   </td> <td>8     </td> <td>0   </td> <td>0.333             </td>\n",
       "        </tr>\n",
       "        <tr>\n",
       "            <td>2018</td> <td>9   </td> <td>4     </td> <td>0   </td> <td>0.692             </td>\n",
       "        </tr>\n",
       "        <tr>\n",
       "            <td>2017</td> <td>9   </td> <td>4     </td> <td>0   </td> <td>0.692             </td>\n",
       "        </tr>\n",
       "    </tbody>\n",
       "</table>\n",
       "<p>... (109 rows omitted)</p>"
      ],
      "text/plain": [
       "<IPython.core.display.HTML object>"
      ]
     },
     "metadata": {},
     "output_type": "display_data"
    }
   ],
   "source": [
    "old_names = np.array([\"W\", \"L\", \"T\", \"Pct\"]) # SOLUTION\n",
    "new_names = np.array([\"Wins\", \"Losses\", \"Ties\", \"Winning Percentage\"]) # SOLUTION\n",
    "\n",
    "football_table_relabeled = football_table.relabeled(old_names, new_names)\n",
    "football_table_relabeled.show(5)"
   ]
  },
  {
   "cell_type": "code",
   "execution_count": null,
   "metadata": {
    "deletable": false,
    "editable": false
   },
   "outputs": [],
   "source": [
    "grader.check(\"q9\")"
   ]
  },
  {
   "cell_type": "markdown",
   "metadata": {},
   "source": [
    "### Asking Questions\n",
    "\n",
    "Now that we have the table we want, let's try to write some code that tells us some information about NC State Football's wins. Let's write some queries that can help us answer these 3 questions. The first question has been given to you, but let's write the other 2!\n",
    "\n",
    "- What is the most wins NC State has ever had in one season?\n",
    "\n",
    "- How many games has NC State ever lost?\n",
    "\n",
    "- What is the average amount of games NC State wins every year?\n",
    "\n",
    "**Remember:** You do not need to calculate the answers to these questions by hand, you should be writing queries to have Python do all the calculation for you."
   ]
  },
  {
   "cell_type": "markdown",
   "metadata": {},
   "source": [
    "**Question 10.** What is the most wins NC State has ever had in one season?\n",
    "\n",
    "**Note:** Question 10. is done for you."
   ]
  },
  {
   "cell_type": "code",
   "execution_count": 24,
   "metadata": {},
   "outputs": [
    {
     "data": {
      "text/plain": [
       "11"
      ]
     },
     "execution_count": 24,
     "metadata": {},
     "output_type": "execute_result"
    }
   ],
   "source": [
    "most_wins_ever = np.max(football_table_relabeled.column(\"Wins\"))\n",
    "most_wins_ever"
   ]
  },
  {
   "cell_type": "markdown",
   "metadata": {},
   "source": [
    "Let's break down this query and see what it does. First, we ask for the `Wins` column of `football_table_relabeled`, which gives us access to the win total from every season. We then use the `np.max` method to find the maximum value in this array, which ultimately tells us the most wins NC State Football has even had in any one season.\n",
    "\n",
    "Let's use similar queries to answer the other 2 questions:"
   ]
  },
  {
   "cell_type": "markdown",
   "metadata": {},
   "source": [
    "**Question 11.** How many games has NC State ever lost?\n",
    "\n",
    "**Hint:** `np.sum` might be helpful."
   ]
  },
  {
   "cell_type": "code",
   "execution_count": 25,
   "metadata": {
    "tags": [
     "otter_assign_solution_cell"
    ]
   },
   "outputs": [
    {
     "data": {
      "text/plain": [
       "565"
      ]
     },
     "execution_count": 25,
     "metadata": {},
     "output_type": "execute_result"
    }
   ],
   "source": [
    "games_lost_alltime = np.sum(football_table_relabeled.column(\"Losses\")) # SOLUTION\n",
    "games_lost_alltime"
   ]
  },
  {
   "cell_type": "code",
   "execution_count": null,
   "metadata": {
    "deletable": false,
    "editable": false
   },
   "outputs": [],
   "source": [
    "grader.check(\"q11\")"
   ]
  },
  {
   "cell_type": "markdown",
   "metadata": {},
   "source": [
    "**Question 12.** What is the average amount of games NC State wins every year?\n",
    "\n",
    "**HInt:** `np.average` might be helpful."
   ]
  },
  {
   "cell_type": "code",
   "execution_count": 27,
   "metadata": {
    "tags": [
     "otter_assign_solution_cell"
    ]
   },
   "outputs": [
    {
     "data": {
      "text/plain": [
       "5.184210526315789"
      ]
     },
     "execution_count": 27,
     "metadata": {},
     "output_type": "execute_result"
    }
   ],
   "source": [
    "average_wins = np.average(football_table_relabeled.column(\"Wins\")) # SOLUTION\n",
    "average_wins"
   ]
  },
  {
   "cell_type": "code",
   "execution_count": null,
   "metadata": {
    "deletable": false,
    "editable": false
   },
   "outputs": [],
   "source": [
    "grader.check(\"q12\")"
   ]
  },
  {
   "cell_type": "markdown",
   "metadata": {},
   "source": [
    "### Sorting a Column: `sort()`\n",
    "\n",
    "We will now introduce a new table method: `sort()`. `sort()` allows us to see a table's column values sorted by its values, from either **biggest-to-smallest** (`descending=True`) or **smallest-to-biggest** (`descending=False`).\n",
    "\n",
    "Let's say we want to ask the question: **What is NC State's best season ever?**. There are many ways to answer the question, but you may argue that a season with the most wins or the fewest losses could be considered the best:"
   ]
  },
  {
   "cell_type": "code",
   "execution_count": null,
   "metadata": {},
   "outputs": [],
   "source": [
    "# We can sort in descending order:\n",
    "football_table_relabeled.sort(\"Wins\", descending=True)"
   ]
  },
  {
   "cell_type": "code",
   "execution_count": null,
   "metadata": {},
   "outputs": [],
   "source": [
    "# Or we can sort in ascending order:\n",
    "football_table_relabeled.sort(\"Losses\", descending=False)"
   ]
  },
  {
   "cell_type": "markdown",
   "metadata": {},
   "source": [
    "As you can see, queries about the most wins and the fewest losses can both answer the question **What is NC State's best season ever?** in different ways. Note that the same seasons do not necessarily show up in the top of each queried table.\n",
    "\n",
    "Yet another way to answer this question about NC State's best seasons ever is to sort by winning percentage."
   ]
  },
  {
   "cell_type": "markdown",
   "metadata": {},
   "source": [
    "**Question 13.** Assign the variable `best_win_pct` to the result of a table query sorting the table based on winning percentage."
   ]
  },
  {
   "cell_type": "code",
   "execution_count": 36,
   "metadata": {
    "tags": [
     "otter_assign_solution_cell"
    ]
   },
   "outputs": [
    {
     "data": {
      "text/html": [
       "<table border=\"1\" class=\"dataframe\">\n",
       "    <thead>\n",
       "        <tr>\n",
       "            <th>Year</th> <th>Wins</th> <th>Losses</th> <th>Ties</th> <th>Winning Percentage</th>\n",
       "        </tr>\n",
       "    </thead>\n",
       "    <tbody>\n",
       "        <tr>\n",
       "            <td>1927</td> <td>9   </td> <td>1     </td> <td>0   </td> <td>0.9               </td>\n",
       "        </tr>\n",
       "        <tr>\n",
       "            <td>1913</td> <td>6   </td> <td>1     </td> <td>0   </td> <td>0.857             </td>\n",
       "        </tr>\n",
       "        <tr>\n",
       "            <td>1909</td> <td>6   </td> <td>1     </td> <td>0   </td> <td>0.857             </td>\n",
       "        </tr>\n",
       "        <tr>\n",
       "            <td>1908</td> <td>6   </td> <td>1     </td> <td>0   </td> <td>0.857             </td>\n",
       "        </tr>\n",
       "        <tr>\n",
       "            <td>1910</td> <td>4   </td> <td>0     </td> <td>2   </td> <td>0.833             </td>\n",
       "        </tr>\n",
       "        <tr>\n",
       "            <td>1967</td> <td>9   </td> <td>2     </td> <td>0   </td> <td>0.818             </td>\n",
       "        </tr>\n",
       "        <tr>\n",
       "            <td>1957</td> <td>7   </td> <td>1     </td> <td>2   </td> <td>0.8               </td>\n",
       "        </tr>\n",
       "        <tr>\n",
       "            <td>1974</td> <td>9   </td> <td>2     </td> <td>1   </td> <td>0.792             </td>\n",
       "        </tr>\n",
       "        <tr>\n",
       "            <td>2002</td> <td>11  </td> <td>3     </td> <td>0   </td> <td>0.786             </td>\n",
       "        </tr>\n",
       "        <tr>\n",
       "            <td>1944</td> <td>7   </td> <td>2     </td> <td>0   </td> <td>0.778             </td>\n",
       "        </tr>\n",
       "    </tbody>\n",
       "</table>\n",
       "<p>... (104 rows omitted)</p>"
      ],
      "text/plain": [
       "Year | Wins | Losses | Ties | Winning Percentage\n",
       "1927 | 9    | 1      | 0    | 0.9\n",
       "1913 | 6    | 1      | 0    | 0.857\n",
       "1909 | 6    | 1      | 0    | 0.857\n",
       "1908 | 6    | 1      | 0    | 0.857\n",
       "1910 | 4    | 0      | 2    | 0.833\n",
       "1967 | 9    | 2      | 0    | 0.818\n",
       "1957 | 7    | 1      | 2    | 0.8\n",
       "1974 | 9    | 2      | 1    | 0.792\n",
       "2002 | 11   | 3      | 0    | 0.786\n",
       "1944 | 7    | 2      | 0    | 0.778\n",
       "... (104 rows omitted)"
      ]
     },
     "execution_count": 36,
     "metadata": {},
     "output_type": "execute_result"
    }
   ],
   "source": [
    "best_win_pct = football_table_relabeled.sort(\"Winning Percentage\", descending=True) # SOLUTION\n",
    "best_win_pct"
   ]
  },
  {
   "cell_type": "code",
   "execution_count": null,
   "metadata": {
    "deletable": false,
    "editable": false
   },
   "outputs": [],
   "source": [
    "grader.check(\"q13\")"
   ]
  },
  {
   "cell_type": "markdown",
   "metadata": {
    "tags": []
   },
   "source": [
    "As you can see, many of NC State Football's best seasons are quite far in the past, only a few modern seasons even show up in any of these queries.\n",
    "\n",
    "### Row Selection: `where()` and the `are` Predicates\n",
    "\n",
    "The last table method we will talk about is the `where()` method. The `where()` method keeps all rows that satisfies a particular boolean condition. It takes in a column label and an `are` statement, which can be crafted using the `are` library. These are the most important `are` library methods, but there are many more if you would like to investigate: [Explore the 'are' library here.](http://data8.org/datascience/predicates.html)\n",
    "\n",
    "| Method | Input Type | Method Description |\n",
    "| --- | --- | --- |\n",
    "| `are.equal_to(n)` | number | Is the value from the column equal to `n`? |\n",
    "| `are.above(n)` | number | Is the value from the column above `n`? |\n",
    "| `are.above_or_equal_to(n)` | number | Is the value from the column above or equal to `n`? |\n",
    "| `are.below(n)` | number | Is the value from the column below `n`? |\n",
    "| `are.below_or_equal_to(n)` | number | Is the value from the column below or equal `n`? |\n",
    "| `are.containing(s)` | string | Is `s` contained in the string value from the given column? |\n",
    "| `are.containined_in(s)` | string | Is the string value from the given column contained in `s`? |\n",
    "\n",
    "Adding a `not_` in front of all of these methods makes each method do the opposite of what it does (ex: `are.not_equal_to(n)`).\n",
    "\n",
    "For example, if we only wanted to see the NC State Football seasons where they had a tie, we could use the `where()` method combined with an `are` method:"
   ]
  },
  {
   "cell_type": "code",
   "execution_count": 29,
   "metadata": {},
   "outputs": [
    {
     "data": {
      "text/html": [
       "<table border=\"1\" class=\"dataframe\">\n",
       "    <thead>\n",
       "        <tr>\n",
       "            <th>Year</th> <th>Wins</th> <th>Losses</th> <th>Ties</th> <th>Winning Percentage</th>\n",
       "        </tr>\n",
       "    </thead>\n",
       "    <tbody>\n",
       "        <tr>\n",
       "            <td>2020</td> <td>8   </td> <td>4     </td> <td>0   </td> <td>0.667             </td>\n",
       "        </tr>\n",
       "        <tr>\n",
       "            <td>2019</td> <td>4   </td> <td>8     </td> <td>0   </td> <td>0.333             </td>\n",
       "        </tr>\n",
       "        <tr>\n",
       "            <td>2018</td> <td>9   </td> <td>4     </td> <td>0   </td> <td>0.692             </td>\n",
       "        </tr>\n",
       "        <tr>\n",
       "            <td>2017</td> <td>9   </td> <td>4     </td> <td>0   </td> <td>0.692             </td>\n",
       "        </tr>\n",
       "        <tr>\n",
       "            <td>2016</td> <td>7   </td> <td>6     </td> <td>0   </td> <td>0.538             </td>\n",
       "        </tr>\n",
       "        <tr>\n",
       "            <td>2015</td> <td>7   </td> <td>6     </td> <td>0   </td> <td>0.538             </td>\n",
       "        </tr>\n",
       "        <tr>\n",
       "            <td>2014</td> <td>8   </td> <td>5     </td> <td>0   </td> <td>0.615             </td>\n",
       "        </tr>\n",
       "        <tr>\n",
       "            <td>2013</td> <td>3   </td> <td>9     </td> <td>0   </td> <td>0.25              </td>\n",
       "        </tr>\n",
       "        <tr>\n",
       "            <td>2012</td> <td>7   </td> <td>6     </td> <td>0   </td> <td>0.538             </td>\n",
       "        </tr>\n",
       "        <tr>\n",
       "            <td>2011</td> <td>8   </td> <td>5     </td> <td>0   </td> <td>0.615             </td>\n",
       "        </tr>\n",
       "    </tbody>\n",
       "</table>\n",
       "<p>... (71 rows omitted)</p>"
      ],
      "text/plain": [
       "Year | Wins | Losses | Ties | Winning Percentage\n",
       "2020 | 8    | 4      | 0    | 0.667\n",
       "2019 | 4    | 8      | 0    | 0.333\n",
       "2018 | 9    | 4      | 0    | 0.692\n",
       "2017 | 9    | 4      | 0    | 0.692\n",
       "2016 | 7    | 6      | 0    | 0.538\n",
       "2015 | 7    | 6      | 0    | 0.538\n",
       "2014 | 8    | 5      | 0    | 0.615\n",
       "2013 | 3    | 9      | 0    | 0.25\n",
       "2012 | 7    | 6      | 0    | 0.538\n",
       "2011 | 8    | 5      | 0    | 0.615\n",
       "... (71 rows omitted)"
      ]
     },
     "execution_count": 29,
     "metadata": {},
     "output_type": "execute_result"
    }
   ],
   "source": [
    "football_table_relabeled.where(\"Ties\", are.equal_to(0))"
   ]
  },
  {
   "cell_type": "markdown",
   "metadata": {},
   "source": [
    "Or if we wanted to see NC State's worst seasons where their winning percentage was worse than .500, we can use a similarly query:"
   ]
  },
  {
   "cell_type": "code",
   "execution_count": 30,
   "metadata": {},
   "outputs": [
    {
     "data": {
      "text/html": [
       "<table border=\"1\" class=\"dataframe\">\n",
       "    <thead>\n",
       "        <tr>\n",
       "            <th>Year</th> <th>Wins</th> <th>Losses</th> <th>Ties</th> <th>Winning Percentage</th>\n",
       "        </tr>\n",
       "    </thead>\n",
       "    <tbody>\n",
       "        <tr>\n",
       "            <td>2019</td> <td>4   </td> <td>8     </td> <td>0   </td> <td>0.333             </td>\n",
       "        </tr>\n",
       "        <tr>\n",
       "            <td>2013</td> <td>3   </td> <td>9     </td> <td>0   </td> <td>0.25              </td>\n",
       "        </tr>\n",
       "        <tr>\n",
       "            <td>2009</td> <td>5   </td> <td>7     </td> <td>0   </td> <td>0.417             </td>\n",
       "        </tr>\n",
       "        <tr>\n",
       "            <td>2008</td> <td>6   </td> <td>7     </td> <td>0   </td> <td>0.462             </td>\n",
       "        </tr>\n",
       "        <tr>\n",
       "            <td>2007</td> <td>5   </td> <td>7     </td> <td>0   </td> <td>0.417             </td>\n",
       "        </tr>\n",
       "        <tr>\n",
       "            <td>2006</td> <td>3   </td> <td>9     </td> <td>0   </td> <td>0.25              </td>\n",
       "        </tr>\n",
       "        <tr>\n",
       "            <td>2004</td> <td>5   </td> <td>6     </td> <td>0   </td> <td>0.455             </td>\n",
       "        </tr>\n",
       "        <tr>\n",
       "            <td>1996</td> <td>3   </td> <td>8     </td> <td>0   </td> <td>0.273             </td>\n",
       "        </tr>\n",
       "        <tr>\n",
       "            <td>1995</td> <td>3   </td> <td>8     </td> <td>0   </td> <td>0.273             </td>\n",
       "        </tr>\n",
       "        <tr>\n",
       "            <td>1987</td> <td>4   </td> <td>7     </td> <td>0   </td> <td>0.364             </td>\n",
       "        </tr>\n",
       "    </tbody>\n",
       "</table>\n",
       "<p>... (41 rows omitted)</p>"
      ],
      "text/plain": [
       "Year | Wins | Losses | Ties | Winning Percentage\n",
       "2019 | 4    | 8      | 0    | 0.333\n",
       "2013 | 3    | 9      | 0    | 0.25\n",
       "2009 | 5    | 7      | 0    | 0.417\n",
       "2008 | 6    | 7      | 0    | 0.462\n",
       "2007 | 5    | 7      | 0    | 0.417\n",
       "2006 | 3    | 9      | 0    | 0.25\n",
       "2004 | 5    | 6      | 0    | 0.455\n",
       "1996 | 3    | 8      | 0    | 0.273\n",
       "1995 | 3    | 8      | 0    | 0.273\n",
       "1987 | 4    | 7      | 0    | 0.364\n",
       "... (41 rows omitted)"
      ]
     },
     "execution_count": 30,
     "metadata": {},
     "output_type": "execute_result"
    }
   ],
   "source": [
    "football_table_relabeled.where(\"Winning Percentage\", are.below(.5))"
   ]
  },
  {
   "cell_type": "markdown",
   "metadata": {},
   "source": [
    "Again you can see that NC State Football (especially recently) has had some rough seasons."
   ]
  },
  {
   "cell_type": "markdown",
   "metadata": {
    "deletable": false,
    "editable": false
   },
   "source": [
    "---\n",
    "\n",
    "To double-check your work, the cell below will rerun all of the autograder tests."
   ]
  },
  {
   "cell_type": "code",
   "execution_count": null,
   "metadata": {
    "deletable": false,
    "editable": false
   },
   "outputs": [],
   "source": [
    "grader.check_all()"
   ]
  },
  {
   "cell_type": "markdown",
   "metadata": {
    "deletable": false,
    "editable": false
   },
   "source": [
    "## Submission\n",
    "\n",
    "Make sure you have run all cells in your notebook in order before running the cell below, so that all images/graphs appear in the output. The cell below will generate a zip file for you to submit. **Please save before exporting!**\n",
    "\n",
    "When done exporting, download the .zip file by `SHIFT`-clicking on the file name and selecting **Save Link As**. Or, find the .zip file in the left side of the screen and right-click and select **Download**. You'll submit this .zip file for the assignment in Canvas to Gradescope for grading."
   ]
  },
  {
   "cell_type": "code",
   "execution_count": null,
   "metadata": {
    "deletable": false,
    "editable": false
   },
   "outputs": [],
   "source": [
    "# Save your notebook first, then run this cell to export your submission.\n",
    "grader.export(pdf=False)"
   ]
  },
  {
   "cell_type": "markdown",
   "metadata": {},
   "source": [
    " "
   ]
  }
 ],
 "metadata": {
  "kernelspec": {
   "display_name": "Python 3 (ipykernel)",
   "language": "python",
   "name": "python3"
  },
  "language_info": {
   "codemirror_mode": {
    "name": "ipython",
    "version": 3
   },
   "file_extension": ".py",
   "mimetype": "text/x-python",
   "name": "python",
   "nbconvert_exporter": "python",
   "pygments_lexer": "ipython3",
   "version": "3.9.6"
  },
  "otter": {
   "tests": {
    "q11": {
     "name": "q11",
     "points": null,
     "suites": [
      {
       "cases": [
        {
         "code": ">>> games_lost_alltime\n565",
         "hidden": false,
         "locked": false
        }
       ],
       "scored": true,
       "setup": "",
       "teardown": "",
       "type": "doctest"
      }
     ]
    },
    "q12": {
     "name": "q12",
     "points": null,
     "suites": [
      {
       "cases": [
        {
         "code": ">>> average_wins\n5.184210526315789",
         "hidden": false,
         "locked": false
        }
       ],
       "scored": true,
       "setup": "",
       "teardown": "",
       "type": "doctest"
      }
     ]
    },
    "q13": {
     "name": "q13",
     "points": null,
     "suites": [
      {
       "cases": [
        {
         "code": ">>> all(best_win_pct.column(\"Winning Percentage\") == [\n...        0.9  , 0.857, 0.857, 0.857, 0.833, 0.818, 0.8  , 0.792, 0.786,\n...        0.778, 0.778, 0.778, 0.75 , 0.75 , 0.75 , 0.75 , 0.75 , 0.731,\n...        0.727, 0.727, 0.722, 0.708, 0.708, 0.708, 0.7  , 0.692, 0.692,\n...        0.692, 0.667, 0.667, 0.667, 0.65 , 0.636, 0.625, 0.625, 0.615,\n...        0.615, 0.615, 0.611, 0.611, 0.6  , 0.6  , 0.6  , 0.583, 0.583,\n...        0.583, 0.583, 0.583, 0.583, 0.571, 0.55 , 0.545, 0.545, 0.545,\n...        0.538, 0.538, 0.538, 0.5  , 0.5  , 0.5  , 0.5  , 0.5  , 0.5  ,\n...        0.462, 0.455, 0.455, 0.45 , 0.45 , 0.417, 0.417, 0.417, 0.4  ,\n...        0.4  , 0.4  , 0.389, 0.364, 0.364, 0.35 , 0.35 , 0.35 , 0.333,\n...        0.333, 0.333, 0.333, 0.333, 0.318, 0.318, 0.318, 0.3  , 0.3  ,\n...        0.3  , 0.3  , 0.3  , 0.3  , 0.3  , 0.286, 0.278, 0.278, 0.273,\n...        0.273, 0.273, 0.273, 0.273, 0.273, 0.25 , 0.25 , 0.25 , 0.25 ,\n...        0.2  , 0.2  , 0.2  , 0.111, 0.1  , 0.1 ])\nTrue",
         "hidden": false,
         "locked": false
        }
       ],
       "scored": true,
       "setup": "",
       "teardown": "",
       "type": "doctest"
      }
     ]
    },
    "q5": {
     "name": "q5",
     "points": null,
     "suites": [
      {
       "cases": [
        {
         "code": ">>> \"Notes\" not in file_table_no_notes.labels\nTrue",
         "hidden": false,
         "locked": false
        }
       ],
       "scored": true,
       "setup": "",
       "teardown": "",
       "type": "doctest"
      }
     ]
    },
    "q6": {
     "name": "q6",
     "points": null,
     "suites": [
      {
       "cases": [
        {
         "code": ">>> \"AP Pre\" not in file_table_improved_columns.labels\nTrue",
         "hidden": false,
         "locked": false
        },
        {
         "code": ">>> \"AP High\" not in file_table_improved_columns.labels\nTrue",
         "hidden": false,
         "locked": false
        },
        {
         "code": ">>> \"AP Post\" not in file_table_improved_columns.labels\nTrue",
         "hidden": false,
         "locked": false
        },
        {
         "code": ">>> \"SRS\" not in file_table_improved_columns.labels\nTrue",
         "hidden": false,
         "locked": false
        },
        {
         "code": ">>> \"SOS\" not in file_table_improved_columns.labels\nTrue",
         "hidden": false,
         "locked": false
        }
       ],
       "scored": true,
       "setup": "",
       "teardown": "",
       "type": "doctest"
      }
     ]
    },
    "q7": {
     "name": "q7",
     "points": null,
     "suites": [
      {
       "cases": [
        {
         "code": ">>> file_table_rows\n114",
         "hidden": false,
         "locked": false
        }
       ],
       "scored": true,
       "setup": "",
       "teardown": "",
       "type": "doctest"
      }
     ]
    },
    "q8": {
     "name": "q8",
     "points": null,
     "suites": [
      {
       "cases": [
        {
         "code": ">>> all(np.sort(football_table.labels) == ['L', 'Pct', 'T', 'W', 'Year'])\nTrue",
         "hidden": false,
         "locked": false
        }
       ],
       "scored": true,
       "setup": "",
       "teardown": "",
       "type": "doctest"
      }
     ]
    },
    "q9": {
     "name": "q9",
     "points": null,
     "suites": [
      {
       "cases": [
        {
         "code": ">>> np.sort(football_table_relabeled.labels)\narray(['Losses', 'Ties', 'Winning Percentage', 'Wins', 'Year'],\n      dtype='<U18')",
         "hidden": false,
         "locked": false
        },
        {
         "code": ">>> all(np.sort(football_table_relabeled.labels) == ['Losses', 'Ties', 'Winning Percentage', 'Wins', 'Year'])\nTrue",
         "hidden": false,
         "locked": false
        }
       ],
       "scored": true,
       "setup": "",
       "teardown": "",
       "type": "doctest"
      }
     ]
    }
   }
  }
 },
 "nbformat": 4,
 "nbformat_minor": 4
}
