{
 "cells": [
  {
   "cell_type": "markdown",
   "metadata": {
    "tags": []
   },
   "source": [
    "# Run the cell below\n",
    "\n",
    "To run a code cell (i.e.; execute the python code inside a Jupyter notebook) you can click the play button on the ribbon underneath the name of the notebook. Before you begin click the play button to run the code cell below."
   ]
  },
  {
   "cell_type": "code",
   "execution_count": null,
   "metadata": {
    "deletable": false,
    "editable": false
   },
   "outputs": [],
   "source": [
    "# Initialize Otter\n",
    "import otter\n",
    "grader = otter.Notebook(\"assignment06.ipynb\")"
   ]
  },
  {
   "cell_type": "markdown",
   "metadata": {
    "tags": []
   },
   "source": [
    "# Assignment 06: Table Operations\n",
    "\n",
    "Welcome to Assignment 06!  Throughout the course you will complete assignments like this one. You can't learn technical subjects without hands-on practice, so these assignments are an important part of the course.\n",
    "\n",
    "Collaborating on labs is more than okay -- it's encouraged! You should rarely remain stuck for more than a few minutes on a question, so ask a post to the discussion board or ask your instructor for help. Explaining things is beneficial, too -- the best way to solidify your knowledge of a subject is to explain it. You should **not** just copy/paste someone else's code, but rather work together to gain understanding of the task you need to complete. \n",
    "\n",
    "To receive credit for this assignment, answer all questions correctly and submit before the deadline.\n",
    "\n",
    "**Due Date:** Tuesday, July 12, 2022 @ 11:59 pm\n",
    "\n",
    "**Collaboration Policy:** Data science is a collaborative activity. While you may talk with others about the labs, we ask that you **write your solutions individually**. If you do discuss the assignments with others **please include their names below** (it's a good way to learn your classmates' names).\n",
    "\n",
    "**Collaborators:** \n",
    "\n",
    "List collaborators here.\n",
    "\n",
    "## Today's Assignment\n",
    "\n",
    "In today's assignment, you'll learn how to:\n",
    "\n",
    "- manipulate tables using functions from the `datascience` package.\n",
    "\n",
    "- use functions from the `NumPy` library.\n",
    "\n",
    "Let's get started! Run the cell below."
   ]
  },
  {
   "cell_type": "code",
   "execution_count": null,
   "metadata": {},
   "outputs": [],
   "source": [
    "from datascience import *\n",
    "import numpy as np"
   ]
  },
  {
   "cell_type": "markdown",
   "metadata": {},
   "source": [
    "## Tables\n",
    "\n",
    "In this lab we will be talking all about **Tables**. We use tables to store all sorts of data form sports statistics to population information. If there's data you have ever been curious about, it is very likely that the Internet has a table somewhere with that data.\n",
    "\n",
    "Tables are integral to the foundation of Data Science, and we will go over how to **query** a table. **Querying** a table is basically asking information about the table. Some examples of common queries (in English, not code):\n",
    "\n",
    "- How many data points are there?\n",
    "\n",
    "- Which data points have a specific characteristic?\n",
    "\n",
    "- What is the attribute of a specific data point?\n",
    "\n",
    "- And many more!\n",
    "\n",
    "There are so many ways we can use tables to get information we need, and there are several existing libraries in Python that we can use to do this! In this course, we will be using the `datascience` library, and if you take Data Science classes beyond this one, you may learn many more!\n",
    "\n",
    "### Table Creation\n",
    "\n",
    "Let's take a look at a table in action. Python does not have any tables by default, so we can either make a new one ourselves or we can import a table from a file. First, let's see how we can make our own table from scratch:"
   ]
  },
  {
   "cell_type": "code",
   "execution_count": null,
   "metadata": {},
   "outputs": [],
   "source": [
    "# We start out with an empty Table\n",
    "# Note that 'table' is capitalized, \n",
    "# and there is nothing in the parentheses\n",
    "our_table = Table()\n",
    "our_table"
   ]
  },
  {
   "cell_type": "code",
   "execution_count": null,
   "metadata": {},
   "outputs": [],
   "source": [
    "# Now, let's put some data in our table.\n",
    "# We put the name of a column (a label)\n",
    "# then a comma ','\n",
    "# and then a NumPy array of that column's values\n",
    "# Alternating labels and column values, we fill our table.\n",
    "our_table = our_table.with_columns(\n",
    "    \"Department\", np.array([\"Data Science\", \"Economics\", \"Mathematics\", \"Chemistry\"]),\n",
    "    \"Course Number\", np.array([94, 1, 2, 121])\n",
    ")\n",
    "our_table"
   ]
  },
  {
   "cell_type": "markdown",
   "metadata": {
    "tags": []
   },
   "source": [
    "### Table Attributes: `num_rows` and `num_columns`\n",
    "\n",
    "We can ask for all sorts of information about the table itself:"
   ]
  },
  {
   "cell_type": "markdown",
   "metadata": {},
   "source": [
    "<!-- BEGIN QUESTION -->\n",
    "\n",
    "**Question 1.** List the number of rows in `our_table`."
   ]
  },
  {
   "cell_type": "code",
   "execution_count": null,
   "metadata": {
    "tags": []
   },
   "outputs": [],
   "source": [
    "..."
   ]
  },
  {
   "cell_type": "markdown",
   "metadata": {},
   "source": [
    "<!-- END QUESTION -->\n",
    "\n",
    "<!-- BEGIN QUESTION -->\n",
    "\n",
    "**Question 2.** List the number of columns in `our_table`."
   ]
  },
  {
   "cell_type": "code",
   "execution_count": null,
   "metadata": {
    "tags": []
   },
   "outputs": [],
   "source": [
    "..."
   ]
  },
  {
   "cell_type": "markdown",
   "metadata": {},
   "source": [
    "<!-- END QUESTION -->\n",
    "\n",
    "### Getting Columns: `column()` and `with_columns()`\n",
    "\n",
    "We can also ask about the data in the table using the `column()` method. As mentioned in lecture, we can pass in a `label` or an `index` to this method. We index into the columns of a table much like we do the items of a list; 0 corresponds to the first column, 1 corresponds to the second, etc...."
   ]
  },
  {
   "cell_type": "markdown",
   "metadata": {},
   "source": [
    "<!-- BEGIN QUESTION -->\n",
    "\n",
    "**Question 3.** List the items of the `Department` column from `our_table`, using the name of the column."
   ]
  },
  {
   "cell_type": "code",
   "execution_count": null,
   "metadata": {
    "tags": []
   },
   "outputs": [],
   "source": [
    "..."
   ]
  },
  {
   "cell_type": "markdown",
   "metadata": {},
   "source": [
    "<!-- END QUESTION -->\n",
    "\n",
    "<!-- BEGIN QUESTION -->\n",
    "\n",
    "**Question 4.** List the items of the `Department` column from `our_table`, using the position number of the column."
   ]
  },
  {
   "cell_type": "code",
   "execution_count": null,
   "metadata": {
    "tags": []
   },
   "outputs": [],
   "source": [
    "..."
   ]
  },
  {
   "cell_type": "markdown",
   "metadata": {},
   "source": [
    "<!-- END QUESTION -->\n",
    "\n",
    "Say we have a table and we want to add additional data. We can use the `with_columns()` method to do this (just like we did above)! The `with_columns` method takes inputs the exact same way as the `column()` method. We need to make sure that the columns we add to the table have the same number of rows (the length of the array we pass in) as the table, otherwise we get an error."
   ]
  },
  {
   "cell_type": "code",
   "execution_count": null,
   "metadata": {},
   "outputs": [],
   "source": [
    "# Our table has 4 rows, so our new column needs an array with 4 items, 1 for each row\n",
    "our_table_new_column = our_table.with_columns(\"Number of Students\", np.array([21, 905, 209, 63]))\n",
    "our_table_new_column"
   ]
  },
  {
   "cell_type": "code",
   "execution_count": null,
   "metadata": {},
   "outputs": [],
   "source": [
    "our_table_bad_column = our_table_new_column.with_columns(\"Too Few Rows\", np.array([1, 2, 3]))\n",
    "our_table_bad_column"
   ]
  },
  {
   "cell_type": "markdown",
   "metadata": {},
   "source": [
    "Note the error message here. This may be a common mistake at first, so if you see this error message, check the number of items in your column arrays."
   ]
  },
  {
   "cell_type": "code",
   "execution_count": null,
   "metadata": {},
   "outputs": [],
   "source": [
    "# This is our final table.\n",
    "# You may use the cell below the output\n",
    "# to explore the table and see what you \n",
    "# can do with it so far.\n",
    "our_table_new_column"
   ]
  },
  {
   "cell_type": "markdown",
   "metadata": {},
   "source": [
    "### Loading a Table\n",
    "\n",
    "Although creating our own tables by hand can be useful, more often than not the data we want to work with is far too large to be able to type out by hand. More commonly, we load datasets in from other sources using the `Table.read_table()` method. We can pass in a **file path** to this method and it will load that data into a table we can use in Python!\n",
    "\n",
    "Let's see how this works using the file `\"data/ncsu_football.csv\"`:"
   ]
  },
  {
   "cell_type": "code",
   "execution_count": null,
   "metadata": {},
   "outputs": [],
   "source": [
    "file_table = Table.read_table(\"data/ncsu_football.csv\")\n",
    "file_table.show(5)"
   ]
  },
  {
   "cell_type": "markdown",
   "metadata": {},
   "source": [
    "### Viewing a Table: `show()`\n",
    "\n",
    "The use of the `show()` method **displays** the first n rows of a table. Like `print()` this does not return a value, it just displays the value to us at the end of a cell.\n",
    "\n",
    "### Excluding Columns: `drop()`\n",
    "\n",
    "We now have information about NC State's Football's seasons since statistics were kept. Because this file was pulled from the internet, it may have some data in it that we are not interested in, like the rows with a bunch of `nan` values (`nan` means \"Not a number\", and it is commonly used to indicate there is no value there).\n",
    "\n",
    "**Do not always necessarily remove all columns with several `NaN` values from a table.** There may be a reason why the values are not present, but for a this exercise we don't need to worry about it.*\n",
    "\n",
    "We can use the `drop()` method to remove columns like this from the table. Let's drop the `Notes` column:"
   ]
  },
  {
   "cell_type": "markdown",
   "metadata": {},
   "source": [
    "**Question 5.** Drop the `Notes` column and save the new `Table` to `file_table_no_notes`."
   ]
  },
  {
   "cell_type": "code",
   "execution_count": null,
   "metadata": {
    "tags": []
   },
   "outputs": [],
   "source": [
    "file_table_no_notes = ...\n",
    "file_table_no_notes.show(5)"
   ]
  },
  {
   "cell_type": "code",
   "execution_count": null,
   "metadata": {
    "deletable": false,
    "editable": false
   },
   "outputs": [],
   "source": [
    "grader.check(\"q5\")"
   ]
  },
  {
   "cell_type": "markdown",
   "metadata": {},
   "source": [
    "**Question 6.** Let's also drop the `AP Pre`, `AP High`, `AP Post`, `SRS` and `SOS` columns from the table. These are statistics specific to college football, and they are not important for what we're doing. `drop()` can take in as many columns as you need, and it will drop them all from the table. Save this `Table` to `file_table_improved_columns`."
   ]
  },
  {
   "cell_type": "code",
   "execution_count": null,
   "metadata": {
    "tags": []
   },
   "outputs": [],
   "source": [
    "file_table_improved_columns = ...\n",
    "file_table_improved_columns.show(5)"
   ]
  },
  {
   "cell_type": "code",
   "execution_count": null,
   "metadata": {
    "deletable": false,
    "editable": false
   },
   "outputs": [],
   "source": [
    "grader.check(\"q6\")"
   ]
  },
  {
   "cell_type": "markdown",
   "metadata": {},
   "source": [
    "## Number of Years\n",
    "\n",
    "We can see how many years this table covers by asking about how many rows the table has."
   ]
  },
  {
   "cell_type": "markdown",
   "metadata": {},
   "source": [
    "**Questiion 7.** Assign the variable `file_table_rows` to the number of rows in `file_table_improved_columns`. You should not write an integer, rather use one of the table attributes we have talked about so far to **calculate** the number of rows."
   ]
  },
  {
   "cell_type": "code",
   "execution_count": null,
   "metadata": {
    "tags": []
   },
   "outputs": [],
   "source": [
    "file_table_rows = ...\n",
    "file_table_rows"
   ]
  },
  {
   "cell_type": "code",
   "execution_count": null,
   "metadata": {
    "deletable": false,
    "editable": false
   },
   "outputs": [],
   "source": [
    "grader.check(\"q7\")"
   ]
  },
  {
   "cell_type": "markdown",
   "metadata": {},
   "source": [
    "Using this value, we can calculate the first year in `file_table_improved_columns` without looking at it."
   ]
  },
  {
   "cell_type": "code",
   "execution_count": null,
   "metadata": {},
   "outputs": [],
   "source": [
    "# The Table covers up until 2021, so subtracting the number of rows gives \n",
    "# us the first year NOT in the table. We add one to the result to get the\n",
    "# first year in the table.\n",
    "print(\"The first year in this table is:\", 2021-file_table_rows+1)"
   ]
  },
  {
   "cell_type": "markdown",
   "metadata": {},
   "source": [
    "### Querying\n",
    "\n",
    "Let's try querying our new table. Let's see what conferences NC State has played in during its history using the `Conf` column:"
   ]
  },
  {
   "cell_type": "code",
   "execution_count": null,
   "metadata": {},
   "outputs": [],
   "source": [
    "conference_list = file_table_improved_columns.column(\"Conf\")\n",
    "conference_list"
   ]
  },
  {
   "cell_type": "markdown",
   "metadata": {},
   "source": [
    "As you can see, this list looks long and repetitive, but we can use the `np.unique` method to tell us all the conferences only once as they appear:"
   ]
  },
  {
   "cell_type": "code",
   "execution_count": null,
   "metadata": {},
   "outputs": [],
   "source": [
    "np.unique(conference_list)"
   ]
  },
  {
   "cell_type": "markdown",
   "metadata": {},
   "source": [
    "### Picking columns: `select()`\n",
    "\n",
    "It appears that there are also several other columns that we are not very interested in. Instead of dropping several columns, we can use the `select()` method to grab only the columns we want. In this case, we only want to keep the `Year`, `W`, `L`, `T`, and `Pct`,  columns."
   ]
  },
  {
   "cell_type": "markdown",
   "metadata": {},
   "source": [
    "**Question 8.** Use the `select()` method to grab only the `Year`, `W`, `L`, `T`, and `Pct`,  columns. Save the `Table` to `football_table`."
   ]
  },
  {
   "cell_type": "code",
   "execution_count": null,
   "metadata": {
    "tags": []
   },
   "outputs": [],
   "source": [
    "football_table = ...\n",
    "football_table"
   ]
  },
  {
   "cell_type": "code",
   "execution_count": null,
   "metadata": {
    "deletable": false,
    "editable": false
   },
   "outputs": [],
   "source": [
    "grader.check(\"q8\")"
   ]
  },
  {
   "cell_type": "code",
   "execution_count": null,
   "metadata": {},
   "outputs": [],
   "source": [
    "# Note that our file_table table is still in tact after this.\n",
    "file_table_improved_columns"
   ]
  },
  {
   "cell_type": "markdown",
   "metadata": {},
   "source": [
    "### Changing Column Labels: `relabeled()`\n",
    "\n",
    "Some of these columns have labels that may not be best for what they store. Let's change the column labels to the following:\n",
    "\n",
    "- Year: Stay the same\n",
    "\n",
    "- W -> Wins\n",
    "\n",
    "- L -> Losses\n",
    "\n",
    "- T -> Ties\n",
    "\n",
    "- Pct -> Winning Percentage\n",
    "\n",
    "We can rename column labels using the `relabeled()` method. You have the choice to only relabel one column or you can relabel several at once. To change the names of multiple columns, we pass in an array of the old names and an array of the new names as the 2 inputs to `relabeled()`:\n",
    "\n",
    "**Note:** There is another method `relabel()` which changes the original table without an `=`. **Be careful** using this method as it can change your data when you may not want to."
   ]
  },
  {
   "cell_type": "markdown",
   "metadata": {},
   "source": [
    "**Question 9.** Change the names of the columns using the `.relabeled()` method. Use the table below to change the column labels.\n",
    "\n",
    "|**Old Label**|**New Label**|\n",
    "|:------------|:------------|\n",
    "|W|Wins|\n",
    "|L|Losses|\n",
    "|T|Ties|\n",
    "|Pct|Winning Percentage|"
   ]
  },
  {
   "cell_type": "code",
   "execution_count": null,
   "metadata": {
    "tags": []
   },
   "outputs": [],
   "source": [
    "old_names = ...\n",
    "new_names = ...\n",
    "\n",
    "football_table_relabeled = football_table.relabeled(old_names, new_names)\n",
    "football_table_relabeled.show(5)"
   ]
  },
  {
   "cell_type": "code",
   "execution_count": null,
   "metadata": {
    "deletable": false,
    "editable": false
   },
   "outputs": [],
   "source": [
    "grader.check(\"q9\")"
   ]
  },
  {
   "cell_type": "markdown",
   "metadata": {},
   "source": [
    "### Asking Questions\n",
    "\n",
    "Now that we have the table we want, let's try to write some code that tells us some information about NC State Football's wins. Let's write some queries that can help us answer these 3 questions. The first question has been given to you, but let's write the other 2!\n",
    "\n",
    "- What is the most wins NC State has ever had in one season?\n",
    "\n",
    "- How many games has NC State ever lost?\n",
    "\n",
    "- What is the average amount of games NC State wins every year?\n",
    "\n",
    "**Remember:** You do not need to calculate the answers to these questions by hand, you should be writing queries to have Python do all the calculation for you."
   ]
  },
  {
   "cell_type": "markdown",
   "metadata": {},
   "source": [
    "**Question 10.** What is the most wins NC State has ever had in one season?\n",
    "\n",
    "**Note:** Question 10. is done for you."
   ]
  },
  {
   "cell_type": "code",
   "execution_count": null,
   "metadata": {},
   "outputs": [],
   "source": [
    "most_wins_ever = np.max(football_table_relabeled.column(\"Wins\"))\n",
    "most_wins_ever"
   ]
  },
  {
   "cell_type": "markdown",
   "metadata": {},
   "source": [
    "Let's break down this query and see what it does. First, we ask for the `Wins` column of `football_table_relabeled`, which gives us access to the win total from every season. We then use the `np.max` method to find the maximum value in this array, which ultimately tells us the most wins NC State Football has even had in any one season.\n",
    "\n",
    "Let's use similar queries to answer the other 2 questions:"
   ]
  },
  {
   "cell_type": "markdown",
   "metadata": {},
   "source": [
    "**Question 11.** How many games has NC State ever lost?\n",
    "\n",
    "**Hint:** `np.sum` might be helpful."
   ]
  },
  {
   "cell_type": "code",
   "execution_count": null,
   "metadata": {
    "tags": []
   },
   "outputs": [],
   "source": [
    "games_lost_alltime = ...\n",
    "games_lost_alltime"
   ]
  },
  {
   "cell_type": "code",
   "execution_count": null,
   "metadata": {
    "deletable": false,
    "editable": false
   },
   "outputs": [],
   "source": [
    "grader.check(\"q11\")"
   ]
  },
  {
   "cell_type": "markdown",
   "metadata": {},
   "source": [
    "**Question 12.** What is the average amount of games NC State wins every year?\n",
    "\n",
    "**HInt:** `np.average` might be helpful."
   ]
  },
  {
   "cell_type": "code",
   "execution_count": null,
   "metadata": {
    "tags": []
   },
   "outputs": [],
   "source": [
    "average_wins = ...\n",
    "average_wins"
   ]
  },
  {
   "cell_type": "code",
   "execution_count": null,
   "metadata": {
    "deletable": false,
    "editable": false
   },
   "outputs": [],
   "source": [
    "grader.check(\"q12\")"
   ]
  },
  {
   "cell_type": "markdown",
   "metadata": {},
   "source": [
    "### Sorting a Column: `sort()`\n",
    "\n",
    "We will now introduce a new table method: `sort()`. `sort()` allows us to see a table's column values sorted by its values, from either **biggest-to-smallest** (`descending=True`) or **smallest-to-biggest** (`descending=False`).\n",
    "\n",
    "Let's say we want to ask the question: **What is NC State's best season ever?**. There are many ways to answer the question, but you may argue that a season with the most wins or the fewest losses could be considered the best:"
   ]
  },
  {
   "cell_type": "code",
   "execution_count": null,
   "metadata": {},
   "outputs": [],
   "source": [
    "# We can sort in descending order:\n",
    "football_table_relabeled.sort(\"Wins\", descending=True)"
   ]
  },
  {
   "cell_type": "code",
   "execution_count": null,
   "metadata": {},
   "outputs": [],
   "source": [
    "# Or we can sort in ascending order:\n",
    "football_table_relabeled.sort(\"Losses\", descending=False)"
   ]
  },
  {
   "cell_type": "markdown",
   "metadata": {},
   "source": [
    "As you can see, queries about the most wins and the fewest losses can both answer the question **What is NC State's best season ever?** in different ways. Note that the same seasons do not necessarily show up in the top of each queried table.\n",
    "\n",
    "Yet another way to answer this question about NC State's best seasons ever is to sort by winning percentage."
   ]
  },
  {
   "cell_type": "markdown",
   "metadata": {},
   "source": [
    "**Question 13.** Assign the variable `best_win_pct` to the result of a table query sorting the table based on winning percentage."
   ]
  },
  {
   "cell_type": "code",
   "execution_count": null,
   "metadata": {
    "tags": []
   },
   "outputs": [],
   "source": [
    "best_win_pct = ...\n",
    "best_win_pct"
   ]
  },
  {
   "cell_type": "code",
   "execution_count": null,
   "metadata": {
    "deletable": false,
    "editable": false
   },
   "outputs": [],
   "source": [
    "grader.check(\"q13\")"
   ]
  },
  {
   "cell_type": "markdown",
   "metadata": {
    "tags": []
   },
   "source": [
    "As you can see, many of NC State Football's best seasons are quite far in the past, only a few modern seasons even show up in any of these queries.\n",
    "\n",
    "### Row Selection: `where()` and the `are` Predicates\n",
    "\n",
    "The last table method we will talk about is the `where()` method. The `where()` method keeps all rows that satisfies a particular boolean condition. It takes in a column label and an `are` statement, which can be crafted using the `are` library. These are the most important `are` library methods, but there are many more if you would like to investigate: [Explore the 'are' library here.](http://data8.org/datascience/predicates.html)\n",
    "\n",
    "| Method | Input Type | Method Description |\n",
    "| --- | --- | --- |\n",
    "| `are.equal_to(n)` | number | Is the value from the column equal to `n`? |\n",
    "| `are.above(n)` | number | Is the value from the column above `n`? |\n",
    "| `are.above_or_equal_to(n)` | number | Is the value from the column above or equal to `n`? |\n",
    "| `are.below(n)` | number | Is the value from the column below `n`? |\n",
    "| `are.below_or_equal_to(n)` | number | Is the value from the column below or equal `n`? |\n",
    "| `are.containing(s)` | string | Is `s` contained in the string value from the given column? |\n",
    "| `are.containined_in(s)` | string | Is the string value from the given column contained in `s`? |\n",
    "\n",
    "Adding a `not_` in front of all of these methods makes each method do the opposite of what it does (ex: `are.not_equal_to(n)`).\n",
    "\n",
    "For example, if we only wanted to see the NC State Football seasons where they had a tie, we could use the `where()` method combined with an `are` method:"
   ]
  },
  {
   "cell_type": "code",
   "execution_count": null,
   "metadata": {},
   "outputs": [],
   "source": [
    "football_table_relabeled.where(\"Ties\", are.equal_to(0))"
   ]
  },
  {
   "cell_type": "markdown",
   "metadata": {},
   "source": [
    "Or if we wanted to see NC State's worst seasons where their winning percentage was worse than .500, we can use a similarly query:"
   ]
  },
  {
   "cell_type": "code",
   "execution_count": null,
   "metadata": {},
   "outputs": [],
   "source": [
    "football_table_relabeled.where(\"Winning Percentage\", are.below(.5))"
   ]
  },
  {
   "cell_type": "markdown",
   "metadata": {},
   "source": [
    "Again you can see that NC State Football (especially recently) has had some rough seasons."
   ]
  },
  {
   "cell_type": "markdown",
   "metadata": {
    "deletable": false,
    "editable": false
   },
   "source": [
    "---\n",
    "\n",
    "To double-check your work, the cell below will rerun all of the autograder tests."
   ]
  },
  {
   "cell_type": "code",
   "execution_count": null,
   "metadata": {
    "deletable": false,
    "editable": false
   },
   "outputs": [],
   "source": [
    "grader.check_all()"
   ]
  },
  {
   "cell_type": "markdown",
   "metadata": {
    "deletable": false,
    "editable": false
   },
   "source": [
    "## Submission\n",
    "\n",
    "Make sure you have run all cells in your notebook in order before running the cell below, so that all images/graphs appear in the output. The cell below will generate a zip file for you to submit. **Please save before exporting!**\n",
    "\n",
    "When done exporting, download the .zip file by `SHIFT`-clicking on the file name and selecting **Save Link As**. Or, find the .zip file in the left side of the screen and right-click and select **Download**. You'll submit this .zip file for the assignment in Canvas to Gradescope for grading."
   ]
  },
  {
   "cell_type": "code",
   "execution_count": null,
   "metadata": {
    "deletable": false,
    "editable": false
   },
   "outputs": [],
   "source": [
    "# Save your notebook first, then run this cell to export your submission.\n",
    "grader.export(pdf=False)"
   ]
  },
  {
   "cell_type": "markdown",
   "metadata": {},
   "source": [
    " "
   ]
  }
 ],
 "metadata": {
  "kernelspec": {
   "display_name": "Python 3 (ipykernel)",
   "language": "python",
   "name": "python3"
  },
  "language_info": {
   "codemirror_mode": {
    "name": "ipython",
    "version": 3
   },
   "file_extension": ".py",
   "mimetype": "text/x-python",
   "name": "python",
   "nbconvert_exporter": "python",
   "pygments_lexer": "ipython3",
   "version": "3.9.6"
  },
  "otter": {
   "tests": {
    "q11": {
     "name": "q11",
     "points": null,
     "suites": [
      {
       "cases": [
        {
         "code": ">>> games_lost_alltime\n565",
         "hidden": false,
         "locked": false
        }
       ],
       "scored": true,
       "setup": "",
       "teardown": "",
       "type": "doctest"
      }
     ]
    },
    "q12": {
     "name": "q12",
     "points": null,
     "suites": [
      {
       "cases": [
        {
         "code": ">>> average_wins\n5.184210526315789",
         "hidden": false,
         "locked": false
        }
       ],
       "scored": true,
       "setup": "",
       "teardown": "",
       "type": "doctest"
      }
     ]
    },
    "q13": {
     "name": "q13",
     "points": null,
     "suites": [
      {
       "cases": [
        {
         "code": ">>> all(best_win_pct.column(\"Winning Percentage\") == [\n...        0.9  , 0.857, 0.857, 0.857, 0.833, 0.818, 0.8  , 0.792, 0.786,\n...        0.778, 0.778, 0.778, 0.75 , 0.75 , 0.75 , 0.75 , 0.75 , 0.731,\n...        0.727, 0.727, 0.722, 0.708, 0.708, 0.708, 0.7  , 0.692, 0.692,\n...        0.692, 0.667, 0.667, 0.667, 0.65 , 0.636, 0.625, 0.625, 0.615,\n...        0.615, 0.615, 0.611, 0.611, 0.6  , 0.6  , 0.6  , 0.583, 0.583,\n...        0.583, 0.583, 0.583, 0.583, 0.571, 0.55 , 0.545, 0.545, 0.545,\n...        0.538, 0.538, 0.538, 0.5  , 0.5  , 0.5  , 0.5  , 0.5  , 0.5  ,\n...        0.462, 0.455, 0.455, 0.45 , 0.45 , 0.417, 0.417, 0.417, 0.4  ,\n...        0.4  , 0.4  , 0.389, 0.364, 0.364, 0.35 , 0.35 , 0.35 , 0.333,\n...        0.333, 0.333, 0.333, 0.333, 0.318, 0.318, 0.318, 0.3  , 0.3  ,\n...        0.3  , 0.3  , 0.3  , 0.3  , 0.3  , 0.286, 0.278, 0.278, 0.273,\n...        0.273, 0.273, 0.273, 0.273, 0.273, 0.25 , 0.25 , 0.25 , 0.25 ,\n...        0.2  , 0.2  , 0.2  , 0.111, 0.1  , 0.1 ])\nTrue",
         "hidden": false,
         "locked": false
        }
       ],
       "scored": true,
       "setup": "",
       "teardown": "",
       "type": "doctest"
      }
     ]
    },
    "q5": {
     "name": "q5",
     "points": null,
     "suites": [
      {
       "cases": [
        {
         "code": ">>> \"Notes\" not in file_table_no_notes.labels\nTrue",
         "hidden": false,
         "locked": false
        }
       ],
       "scored": true,
       "setup": "",
       "teardown": "",
       "type": "doctest"
      }
     ]
    },
    "q6": {
     "name": "q6",
     "points": null,
     "suites": [
      {
       "cases": [
        {
         "code": ">>> \"AP Pre\" not in file_table_improved_columns.labels\nTrue",
         "hidden": false,
         "locked": false
        },
        {
         "code": ">>> \"AP High\" not in file_table_improved_columns.labels\nTrue",
         "hidden": false,
         "locked": false
        },
        {
         "code": ">>> \"AP Post\" not in file_table_improved_columns.labels\nTrue",
         "hidden": false,
         "locked": false
        },
        {
         "code": ">>> \"SRS\" not in file_table_improved_columns.labels\nTrue",
         "hidden": false,
         "locked": false
        },
        {
         "code": ">>> \"SOS\" not in file_table_improved_columns.labels\nTrue",
         "hidden": false,
         "locked": false
        }
       ],
       "scored": true,
       "setup": "",
       "teardown": "",
       "type": "doctest"
      }
     ]
    },
    "q7": {
     "name": "q7",
     "points": null,
     "suites": [
      {
       "cases": [
        {
         "code": ">>> file_table_rows\n114",
         "hidden": false,
         "locked": false
        }
       ],
       "scored": true,
       "setup": "",
       "teardown": "",
       "type": "doctest"
      }
     ]
    },
    "q8": {
     "name": "q8",
     "points": null,
     "suites": [
      {
       "cases": [
        {
         "code": ">>> all(np.sort(football_table.labels) == ['L', 'Pct', 'T', 'W', 'Year'])\nTrue",
         "hidden": false,
         "locked": false
        }
       ],
       "scored": true,
       "setup": "",
       "teardown": "",
       "type": "doctest"
      }
     ]
    },
    "q9": {
     "name": "q9",
     "points": null,
     "suites": [
      {
       "cases": [
        {
         "code": ">>> np.sort(football_table_relabeled.labels)\narray(['Losses', 'Ties', 'Winning Percentage', 'Wins', 'Year'],\n      dtype='<U18')",
         "hidden": false,
         "locked": false
        },
        {
         "code": ">>> all(np.sort(football_table_relabeled.labels) == ['Losses', 'Ties', 'Winning Percentage', 'Wins', 'Year'])\nTrue",
         "hidden": false,
         "locked": false
        }
       ],
       "scored": true,
       "setup": "",
       "teardown": "",
       "type": "doctest"
      }
     ]
    }
   }
  }
 },
 "nbformat": 4,
 "nbformat_minor": 4
}
