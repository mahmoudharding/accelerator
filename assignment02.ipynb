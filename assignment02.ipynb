{
 "cells": [
  {
   "cell_type": "markdown",
   "metadata": {},
   "source": [
    "# Run the cell below\n",
    "\n",
    "To run a code cell (i.e.; execute the python code inside a Jupyter notebook) you can click the play button on the ribbon underneath the name of the notebook. Before you begin click the play button to run the code cell below."
   ]
  },
  {
   "cell_type": "code",
   "execution_count": null,
   "metadata": {
    "deletable": false,
    "editable": false
   },
   "outputs": [],
   "source": [
    "# Initialize Otter\n",
    "import otter\n",
    "grader = otter.Notebook(\"assignment02.ipynb\")"
   ]
  },
  {
   "cell_type": "markdown",
   "metadata": {},
   "source": [
    "# Assignment 02: Variables and Comparison Operators\n",
    "\n",
    "Welcome to Assignment 02!  Throughout the course you will complete assignments like this one. You can't learn technical subjects without hands-on practice, so these assignments are an important part of the course.\n",
    "\n",
    "Collaborating on labs is more than okay -- it's encouraged! You should rarely remain stuck for more than a few minutes on a question, so ask a post to the discussion board or ask your instructor for help. Explaining things is beneficial, too -- the best way to solidify your knowledge of a subject is to explain it. You should **not** just copy/paste someone else's code, but rather work together to gain understanding of the task you need to complete. \n",
    "\n",
    "To receive credit for this assignment, answer all questions correctly and submit before the deadline.\n",
    "\n",
    "**Due Date:** Thursday, July 7, 2022 @ 11:59 pm\n",
    "\n",
    "**Collaboration Policy:** Data science is a collaborative activity. While you may talk with others about the labs, we ask that you **write your solutions individually**. If you do discuss the assignments with others **please include their names below** (it's a good way to learn your classmates' names).\n",
    "\n",
    "**Collaborators:** \n",
    "\n",
    "List collaborators here.\n",
    "\n",
    "## Today's Assignment\n",
    "\n",
    "In today's assignment, you'll learn how to:\n",
    "\n",
    "- determine variable types.\n",
    "\n",
    "- cast variable types.\n",
    "\n",
    "- use comparison operators.\n",
    "\n",
    "Let's get started!"
   ]
  },
  {
   "cell_type": "markdown",
   "metadata": {
    "tags": []
   },
   "source": [
    "## Variable Types\n",
    "\n",
    "Variables in Python can have many different types, but we are most interested in focusing on the following:\n",
    "\n",
    "- Integers (`int`)\n",
    "    - Integers are whole numbers, positive or negative, without decimals.\n",
    "\n",
    "\n",
    "- Strings/Text (`str`)\n",
    "    - Strings are sequences of Unicode characters.\n",
    "    - **Note:** Click [here](https://youtu.be/EGtcgMlyBhU) to see a video that explains what Unicode is, why it was developed, and how computers use it to display the characters we see on our screens.\n",
    "\n",
    "\n",
    "- Floats (`float`)    \n",
    "    - Floats are numbers that are not integers (decimals and fractions mostly).\n",
    "\n",
    "\n",
    "- Booleans (`bool`)\n",
    "    - Booleans can only be `True` or `False`.\n",
    "\n",
    "\n",
    "- NoneType (`None`)\n",
    "    - Only the value `None`; indicates null value for a variable"
   ]
  },
  {
   "cell_type": "markdown",
   "metadata": {},
   "source": [
    "<!-- BEGIN QUESTION -->\n",
    "\n",
    "**Question 1.** Briefly (in 3-5 sentences) describe what Unicode is wand why it was developed."
   ]
  },
  {
   "cell_type": "markdown",
   "metadata": {},
   "source": [
    "_Type your answer here, replacing this text._"
   ]
  },
  {
   "cell_type": "markdown",
   "metadata": {},
   "source": [
    "<!-- END QUESTION -->\n",
    "\n",
    "Run the following code cells to see what these variable types look like in Python:"
   ]
  },
  {
   "cell_type": "code",
   "execution_count": null,
   "metadata": {},
   "outputs": [],
   "source": [
    "i_am_an_integer = 7\n",
    "type(i_am_an_integer)"
   ]
  },
  {
   "cell_type": "code",
   "execution_count": null,
   "metadata": {},
   "outputs": [],
   "source": [
    "i_am_a_string = \"hello\"\n",
    "type(i_am_a_string)"
   ]
  },
  {
   "cell_type": "code",
   "execution_count": null,
   "metadata": {},
   "outputs": [],
   "source": [
    "i_am_a_float = 4.0\n",
    "type(i_am_a_float)"
   ]
  },
  {
   "cell_type": "code",
   "execution_count": null,
   "metadata": {},
   "outputs": [],
   "source": [
    "i_am_a_boolean = True\n",
    "type(i_am_a_boolean)"
   ]
  },
  {
   "cell_type": "code",
   "execution_count": null,
   "metadata": {},
   "outputs": [],
   "source": [
    "i_am_a_nonetype = None\n",
    "type(i_am_a_nonetype)"
   ]
  },
  {
   "cell_type": "markdown",
   "metadata": {},
   "source": [
    "As we have seen, we can use these values in other Python expressions. Although, we have to be careful when doing Python operations on variables of different types.\n",
    "\n",
    "Different types are often not compatible with each other as in the following code cell:"
   ]
  },
  {
   "cell_type": "code",
   "execution_count": null,
   "metadata": {},
   "outputs": [],
   "source": [
    "# DO NOT CHANGE\n",
    "i_am_an_integer + i_am_a_string"
   ]
  },
  {
   "cell_type": "markdown",
   "metadata": {},
   "source": [
    "You can fix the error above by **casting** the variable `i_am_an_integer` to a string. The `str()` function will change a numerical variable (`int` or `float`) to a string. The `+` operator concatenates, or joins two strings together.\n",
    "\n",
    "Run the cell below to see an example."
   ]
  },
  {
   "cell_type": "code",
   "execution_count": null,
   "metadata": {},
   "outputs": [],
   "source": [
    "# DO NOT CHANGE\n",
    "str(i_am_an_integer) + i_am_a_string"
   ]
  },
  {
   "cell_type": "markdown",
   "metadata": {},
   "source": [
    "## Variable Type Casting\n",
    "\n",
    "In data science, it is common to have data in a table that represents numbers, but the table stores these numbers as strings (`\"1\"` instead of `1`). In this case, Python has built-in functions intended to change the type of the variable as long as the variable can validly be represented as the type you are changing to. This is called **casting** from one type to another.\n",
    "\n",
    "You can change `\"1\"` to the integer `1`, but you cannot change `\"hello\"` into a valid integer."
   ]
  },
  {
   "cell_type": "code",
   "execution_count": null,
   "metadata": {},
   "outputs": [],
   "source": [
    "int(\"1\")"
   ]
  },
  {
   "cell_type": "code",
   "execution_count": null,
   "metadata": {
    "tags": []
   },
   "outputs": [],
   "source": [
    "int(\"hello\")"
   ]
  },
  {
   "cell_type": "markdown",
   "metadata": {},
   "source": [
    "Read the paragraph below to learn about the context of the question.\n",
    "\n",
    "Regulations of vapes and electronic cigarettes are complex and vary across countries. Some countries have no regulations, while others ban vapes completely. As of Dec. 20, 2019, federal law prohibits retailers from selling tobacco products (cigarettes, cigars, and e-cigarettes) and vape products to people under 21 years old. As State law enforcement, NC Alcohol Law Enforcement (ALE) will continue to enforce North Carolina law which prohibits the sale of tobacco products to anyone under 18 years old. Any sale of tobacco products to someone under 21 may be subject to federal authorities’ enforcement. \n",
    "\n",
    "In early September 2019, Michigan became the first state to announce its intent to limit the sale of vaping products, when Gov. Gretchen Whitmer said she would issue an emergency ban on the online and retail sale of nicotine vaping products in any flavor except tobacco. Whitmer also said she would restrict the marketing of vaping products by forbidding the use of terms like “clean,” “safe” and “healthy.”\n",
    "\n",
    "In Canada, it is illegal to sell or provide vaping products to anyone under the age of 18. Although some provincial laws have increased this age to 19 or 21."
   ]
  },
  {
   "cell_type": "markdown",
   "metadata": {},
   "source": [
    "**Question 2.** The **casting** relationship goes both ways. Say your table has numbers stored as integers, but you want to print out a sentence that contains those numbers. Cast the `nc_age` and `ca_age` variables to another type so that the following cell does not error, and in fact prints out the sentence you wish to see. "
   ]
  },
  {
   "cell_type": "code",
   "execution_count": null,
   "metadata": {},
   "outputs": [],
   "source": [
    "nc_age = 21 # DO NOT CHANGE\n",
    "ca_age = 18 # DO NOT CHANGE\n",
    "\n",
    "print(\"The minimum age to buy e-cigarette in the US is \" + us_age\n",
    "     + \", but in Canada the minimum age is \" + ca_age + \".\")"
   ]
  },
  {
   "cell_type": "markdown",
   "metadata": {},
   "source": [
    "## Boolean Operators"
   ]
  },
  {
   "cell_type": "markdown",
   "metadata": {},
   "source": [
    "### Comparison operators\n",
    "\n",
    "Comparison operators are boolean operators that are used to compare two different values in Python.\n",
    "\n",
    "We introduce 6 of these operators in lecture: `==`, `!=`,`<`, `<=`, `>`, and `>=`. Try using these operators on variables and values of all types, though in practice they are typically used with integers and floats, and sometimes on strings. Strings are treated in increasing alphabetical order: ('a' < 'b') == True.\n",
    "\n",
    "Run the following series of cells to see some examples of these comparison operators in practice:"
   ]
  },
  {
   "cell_type": "code",
   "execution_count": null,
   "metadata": {},
   "outputs": [],
   "source": [
    "1 < 2"
   ]
  },
  {
   "cell_type": "code",
   "execution_count": null,
   "metadata": {},
   "outputs": [],
   "source": [
    "min(20, 30) <= max(-10, 20)"
   ]
  },
  {
   "cell_type": "code",
   "execution_count": null,
   "metadata": {},
   "outputs": [],
   "source": [
    "(3 + 4) != (3 * 4)"
   ]
  },
  {
   "cell_type": "code",
   "execution_count": null,
   "metadata": {},
   "outputs": [],
   "source": [
    "\"abc\" < \"def\""
   ]
  },
  {
   "cell_type": "markdown",
   "metadata": {},
   "source": [
    "There is an important distinction here between `=` and `==`:\n",
    "\n",
    "- `=` is used to **assign** values to variables, \n",
    "\n",
    "- while `==` is used as the **comparison operator** to compare two values."
   ]
  },
  {
   "cell_type": "code",
   "execution_count": null,
   "metadata": {},
   "outputs": [],
   "source": [
    "# Assign the variable\n",
    "a = 5\n",
    "a"
   ]
  },
  {
   "cell_type": "code",
   "execution_count": null,
   "metadata": {},
   "outputs": [],
   "source": [
    "# Ask if it is equal to the value you think it should be\n",
    "a == 5"
   ]
  },
  {
   "cell_type": "markdown",
   "metadata": {},
   "source": [
    "There is one more boolean operator built into Python we have not mentioned yet. The keyword `in` allows you to check if strings are contained in larger strings. It can be used in other ways in Python, but for now we will use it to ask if the first string is a substring of the second string (if it appears in the other string).\n",
    "\n",
    "Run the cells below for examples of `in`:"
   ]
  },
  {
   "cell_type": "code",
   "execution_count": null,
   "metadata": {},
   "outputs": [],
   "source": [
    "\"hello\" in \"hello world\""
   ]
  },
  {
   "cell_type": "code",
   "execution_count": null,
   "metadata": {},
   "outputs": [],
   "source": [
    "\"i\" in \"rhythm\""
   ]
  },
  {
   "cell_type": "markdown",
   "metadata": {},
   "source": [
    "### And, Or and Not\n",
    "\n",
    "`and`, `or`, and `not` are boolean operators that operate directly on booleans.\n",
    "\n",
    "`and` returns True when both operands are True, False otherwise.\n",
    "\n",
    "`or` returns False when both operands are False, True otherwise.\n",
    "\n",
    "`not` gives back the opposite boolean.\n",
    "\n",
    "These 3 operators are useful when writing code because they help control logic. You will find them useful when writing more complicated code in the course.\n",
    "\n",
    "**Tip**: use parentheses to ensure your boolean operators are being applied correctly and without ambiguity.\n",
    "\n",
    "Run the cells below to see these 3 operators in practice:"
   ]
  },
  {
   "cell_type": "code",
   "execution_count": null,
   "metadata": {},
   "outputs": [],
   "source": [
    "(3 * 4 == 12) or (3 + 4 == 50)"
   ]
  },
  {
   "cell_type": "code",
   "execution_count": null,
   "metadata": {},
   "outputs": [],
   "source": [
    "(3 * 4 == 12) and (3 + 4 == 50)"
   ]
  },
  {
   "cell_type": "code",
   "execution_count": null,
   "metadata": {},
   "outputs": [],
   "source": [
    "not(3 + 4 == 50)"
   ]
  },
  {
   "cell_type": "markdown",
   "metadata": {},
   "source": [
    "**Question 3.** Recall, the Pythagorean theorem is \n",
    "\n",
    "$$a^2 + b^2 = c^2$$\n",
    "\n",
    "Using the Pythagorean theorem, set the variable `q3` equal to the length of the longest side of a right-angled triangle whose other side-lengths are `side_1` and `side_2`. Your code should not use the numbers 8 or 13 directly, but it should instead use the variables `side_1` and `side_2`.\n",
    "\n",
    "**Hint:** `x**0.5` computes the square root of $x$."
   ]
  },
  {
   "cell_type": "code",
   "execution_count": null,
   "metadata": {
    "tags": []
   },
   "outputs": [],
   "source": [
    "side_1 = 8\n",
    "side_2 = 13\n",
    "\n",
    "q3 = ...\n",
    "q3"
   ]
  },
  {
   "cell_type": "code",
   "execution_count": null,
   "metadata": {
    "deletable": false,
    "editable": false
   },
   "outputs": [],
   "source": [
    "grader.check(\"q3\")"
   ]
  },
  {
   "cell_type": "markdown",
   "metadata": {},
   "source": [
    "<!-- BEGIN QUESTION -->\n",
    "\n",
    "**Question 4.** Assign the variable `q4` to a string that reads \n",
    "\n",
    "`\"Lisa Jobs is 45 years old and lives in Canada.\"`\n",
    "\n",
    "You **must** use the four variables defined below to create the string. This is similar to **Question 2**.\n",
    "\n",
    "**Hint:** You will need to cast the variable age to an integer so that you can change it from 42 to 45."
   ]
  },
  {
   "cell_type": "code",
   "execution_count": null,
   "metadata": {
    "tags": []
   },
   "outputs": [],
   "source": [
    "first_name = 'Lisa'\n",
    "last_name = 'Jobs'\n",
    "age = \"42\"\n",
    "location = 'Canada'\n",
    "\n",
    "q4 = ...\n",
    "q4"
   ]
  },
  {
   "cell_type": "markdown",
   "metadata": {},
   "source": [
    "<!-- END QUESTION -->\n",
    "\n"
   ]
  },
  {
   "cell_type": "markdown",
   "metadata": {
    "deletable": false,
    "editable": false
   },
   "source": [
    "---\n",
    "\n",
    "To double-check your work, the cell below will rerun all of the autograder tests."
   ]
  },
  {
   "cell_type": "code",
   "execution_count": null,
   "metadata": {
    "deletable": false,
    "editable": false
   },
   "outputs": [],
   "source": [
    "grader.check_all()"
   ]
  },
  {
   "cell_type": "markdown",
   "metadata": {
    "deletable": false,
    "editable": false
   },
   "source": [
    "## Submission\n",
    "\n",
    "Make sure you have run all cells in your notebook in order before running the cell below, so that all images/graphs appear in the output. The cell below will generate a zip file for you to submit. **Please save before exporting!**\n",
    "\n",
    "When done exporting, download the .zip file by `SHIFT`-clicking on the file name and selecting **Save Link As**. Or, find the .zip file in the left side of the screen and right-click and select **Download**. You'll submit this .zip file for the assignment in Canvas to Gradescope for grading."
   ]
  },
  {
   "cell_type": "code",
   "execution_count": null,
   "metadata": {
    "deletable": false,
    "editable": false
   },
   "outputs": [],
   "source": [
    "# Save your notebook first, then run this cell to export your submission.\n",
    "grader.export(pdf=False)"
   ]
  },
  {
   "cell_type": "markdown",
   "metadata": {},
   "source": [
    " "
   ]
  }
 ],
 "metadata": {
  "kernelspec": {
   "display_name": "Python 3 (ipykernel)",
   "language": "python",
   "name": "python3"
  },
  "language_info": {
   "codemirror_mode": {
    "name": "ipython",
    "version": 3
   },
   "file_extension": ".py",
   "mimetype": "text/x-python",
   "name": "python",
   "nbconvert_exporter": "python",
   "pygments_lexer": "ipython3",
   "version": "3.9.6"
  },
  "otter": {
   "tests": {
    "q3": {
     "name": "q3",
     "points": null,
     "suites": [
      {
       "cases": [
        {
         "code": ">>> round(q3, 2) \n15.26",
         "hidden": false,
         "locked": false
        }
       ],
       "scored": true,
       "setup": "",
       "teardown": "",
       "type": "doctest"
      }
     ]
    }
   }
  }
 },
 "nbformat": 4,
 "nbformat_minor": 4
}
