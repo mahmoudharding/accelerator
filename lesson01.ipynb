{
 "cells": [
  {
   "cell_type": "markdown",
   "id": "1691e42d-2a30-45a8-8d45-afdb0dabf95a",
   "metadata": {},
   "source": [
    "# Lesson 01: Intro to the Data Science Lifecycle\n",
    "\n",
    "The data science lifecycle is a high-level description of the data science workflow. The “data science lifecycle” you will see in business, politics, government, healthcare, sports, etc. may be slightly different than the one you learn in class, but the core ideas are all the same. This diagram of the data science lifecycle shows its four high-level steps. The arrows show how the steps lead into one another.\n",
    "\n",
    "<img src=\"images/ds-lifecycle.png\"/>\n",
    "\n",
    "**Note:** There are two distinct entry points.\n",
    "\n",
    "**Source:** [Principles and Techniques of Data Science](https://www.textbook.ds100.org/intro.html)"
   ]
  },
  {
   "cell_type": "markdown",
   "id": "7a1b07d3-9e2a-4ad3-86c5-04efe9f3171a",
   "metadata": {},
   "source": [
    "In this course we will use the [`datascience`](http://data8.org/datascience/) package to manipulate, explore, and visualize tabular data sets.\n",
    "\n",
    "Run the cell below to import the `datascience` package."
   ]
  },
  {
   "cell_type": "code",
   "execution_count": null,
   "id": "5fcf7f5d-571c-456a-b696-aa0acd8450d1",
   "metadata": {},
   "outputs": [],
   "source": [
    "from datascience import *"
   ]
  },
  {
   "cell_type": "markdown",
   "id": "575fd412-4c75-4a47-a375-b657bc9ce126",
   "metadata": {},
   "source": [
    "Now let's load the `majors.csv` and `ncsu_names.csv` files and save them as `Table` objects."
   ]
  },
  {
   "cell_type": "code",
   "execution_count": null,
   "id": "c9f213ed-a50c-4f69-99bf-87a75cc59d6c",
   "metadata": {},
   "outputs": [],
   "source": [
    "majors = Table.read_table(\"...\")\n",
    "ncsu_names = Table.read_table(\"...\")"
   ]
  },
  {
   "cell_type": "markdown",
   "id": "acf46f06-ac54-470f-8d3a-776f11801a49",
   "metadata": {},
   "source": [
    "Let's check the object type."
   ]
  },
  {
   "cell_type": "code",
   "execution_count": null,
   "id": "c59d2a24-4d52-4f26-8c87-a5ac94b4e750",
   "metadata": {},
   "outputs": [],
   "source": [
    "..."
   ]
  },
  {
   "cell_type": "code",
   "execution_count": null,
   "id": "5dcc5ebe-71af-486c-97ca-56c527a8940b",
   "metadata": {},
   "outputs": [],
   "source": [
    "..."
   ]
  },
  {
   "cell_type": "markdown",
   "id": "41724169-6bf3-44f3-9e3b-c57dcfdc90b9",
   "metadata": {},
   "source": [
    "Now let's examine the first ten rows of each table."
   ]
  },
  {
   "cell_type": "code",
   "execution_count": null,
   "id": "d0e210b7-2571-452d-be71-5b4fc37ad06b",
   "metadata": {},
   "outputs": [],
   "source": [
    "..."
   ]
  },
  {
   "cell_type": "code",
   "execution_count": null,
   "id": "8365556a-9e8b-469d-a6e8-aa0f7f94f8d9",
   "metadata": {},
   "outputs": [],
   "source": [
    "..."
   ]
  },
  {
   "cell_type": "markdown",
   "id": "b82c7da7-20d3-4065-8bc8-d6e96772db04",
   "metadata": {},
   "source": [
    "**Question 1.** What would you like to be able to be able to do with these two tables? Why? What do you think you can learn? In the Markdown cell below, write out your thoughts. Then discuss them with your group."
   ]
  },
  {
   "cell_type": "markdown",
   "id": "abdf385e-f3d4-4580-8464-7589e37ccbdc",
   "metadata": {},
   "source": []
  },
  {
   "cell_type": "markdown",
   "id": "5904c496-0046-494c-9c87-6beded260e67",
   "metadata": {},
   "source": [
    "**Question 2.** You and your group devise a plan to that can be used to explore the data. In your plan list what \"kinds\" of things you would like to be able to do using Python. Then make a Google Slide presentation with no more than 5 slides to explain your plan to the class."
   ]
  },
  {
   "cell_type": "markdown",
   "id": "b0d65611-6d1a-4064-af57-51bd9a80e445",
   "metadata": {},
   "source": []
  }
 ],
 "metadata": {
  "kernelspec": {
   "display_name": "Python 3 (ipykernel)",
   "language": "python",
   "name": "python3"
  },
  "language_info": {
   "codemirror_mode": {
    "name": "ipython",
    "version": 3
   },
   "file_extension": ".py",
   "mimetype": "text/x-python",
   "name": "python",
   "nbconvert_exporter": "python",
   "pygments_lexer": "ipython3",
   "version": "3.9.6"
  }
 },
 "nbformat": 4,
 "nbformat_minor": 5
}
