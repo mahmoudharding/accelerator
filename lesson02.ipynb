{
 "cells": [
  {
   "cell_type": "markdown",
   "id": "2404b118-9bca-4756-b4f4-6a9acff74b7a",
   "metadata": {},
   "source": [
    "# Lesson 02: Python Data Structures\n",
    "\n",
    "## Collection Arrays\n",
    "\n",
    "- [List](https://docs.python.org/3/tutorial/datastructures.html)\n",
    "\n",
    "- [Tuple](https://docs.python.org/3/tutorial/datastructures.html#tuples-and-sequences)\n",
    "\n",
    "- [Dictionary](https://docs.python.org/3/tutorial/datastructures.html#dictionaries)\n",
    "\n",
    "### Lists\n",
    "\n",
    "- Lists are used to store multiple items in a single variable.\n",
    "\n",
    "- Lists are created using square brackets `[ ]`"
   ]
  },
  {
   "cell_type": "code",
   "execution_count": null,
   "id": "cbfa0444-73f3-41ee-8987-cdc46e71719a",
   "metadata": {},
   "outputs": [],
   "source": [
    "my_list = [1, 3, 5, 7, 9]\n",
    "my_list"
   ]
  },
  {
   "cell_type": "code",
   "execution_count": null,
   "id": "b9523ddb-55f9-47b3-b899-165c9927890a",
   "metadata": {},
   "outputs": [],
   "source": [
    "type(my_list)"
   ]
  },
  {
   "cell_type": "markdown",
   "id": "74b9674c-86a5-4cba-bb1b-edc2339d7683",
   "metadata": {},
   "source": [
    "- List items are ordered, mutable (i.e. changeable), and allow duplicate values.\n",
    "\n",
    "- List items are indexed, the first item has index `[0]`, the second item has index `[1]` etc.\n",
    "\n",
    "- The items have a defined order, and that order will not change.\n",
    "\n",
    "- If you add new items to a list, the new items will be placed at the end of the list."
   ]
  },
  {
   "cell_type": "code",
   "execution_count": null,
   "id": "6d558f28-3d37-442a-b918-190ef7dc6d54",
   "metadata": {},
   "outputs": [],
   "source": [
    "my_list[0]"
   ]
  },
  {
   "cell_type": "code",
   "execution_count": null,
   "id": "ecd3cf7f-4f9d-4b4e-b71e-5f3ef4f26863",
   "metadata": {},
   "outputs": [],
   "source": [
    "len(my_list)"
   ]
  },
  {
   "cell_type": "markdown",
   "id": "417b6109-1958-47ec-905e-f2fafb79b9ae",
   "metadata": {},
   "source": [
    "**Question 1.** Display the third element in `my_list`."
   ]
  },
  {
   "cell_type": "code",
   "execution_count": null,
   "id": "e0387f7e-d012-422f-82c8-4f2ef2f6e79c",
   "metadata": {},
   "outputs": [],
   "source": [
    "..."
   ]
  },
  {
   "cell_type": "markdown",
   "id": "e30db3c1-b571-4ad5-ba22-80a5e41f6ba4",
   "metadata": {},
   "source": [
    "**Question 2.** Write a `for` loop to print each element in `my_list`."
   ]
  },
  {
   "cell_type": "code",
   "execution_count": null,
   "id": "d3dfbb6a-86c4-47a9-8572-91e60601f08f",
   "metadata": {},
   "outputs": [],
   "source": [
    "for ... in ...:\n",
    "    print(...)"
   ]
  },
  {
   "cell_type": "code",
   "execution_count": null,
   "id": "f0882ec5-5dcf-491c-a0b8-09b8749a364a",
   "metadata": {},
   "outputs": [],
   "source": [
    "for ... in range(...):\n",
    "    print(...[...])"
   ]
  },
  {
   "cell_type": "markdown",
   "id": "2930b296-a6e4-446d-b944-1078c28905a7",
   "metadata": {},
   "source": [
    "**Question 3.** Write a `for` loop to print the index and the value of each element in `my_list`."
   ]
  },
  {
   "cell_type": "code",
   "execution_count": null,
   "id": "20b1aa95-ba6f-4bb1-84b9-d12277923522",
   "metadata": {},
   "outputs": [],
   "source": [
    "for number in range(...):\n",
    "    print(\"The index for element\", ..., \"is\", ...[...])"
   ]
  },
  {
   "cell_type": "markdown",
   "id": "e4739c35-b1fe-42d7-b079-a237b07c6337",
   "metadata": {},
   "source": [
    "What if we need to add an element to our list?"
   ]
  },
  {
   "cell_type": "code",
   "execution_count": null,
   "id": "d3a06978-6a6d-4e9a-a96a-38cc4c564f31",
   "metadata": {},
   "outputs": [],
   "source": [
    "my_list.append(11)"
   ]
  },
  {
   "cell_type": "code",
   "execution_count": null,
   "id": "ec4c196c-d3dc-4659-9522-ed6c245ea440",
   "metadata": {},
   "outputs": [],
   "source": [
    "my_list"
   ]
  },
  {
   "cell_type": "markdown",
   "id": "e1487843-2b69-4c7b-9dcd-a5db73b41fab",
   "metadata": {},
   "source": [
    "- A list is mutable - meaning we can change, add, and remove items in a list after it has been created.\n",
    "\n",
    "  - Remove all items: `.clear()`\n",
    "\n",
    "  - Remove an item by index and get its value: `.pop()`\n",
    "\n",
    "  - Remove an item by value: `.remove()`\n",
    "\n",
    "  - Remove items by index or slice: `del()`"
   ]
  },
  {
   "cell_type": "code",
   "execution_count": null,
   "id": "4b5906e1-8276-4d89-916b-49619c47715d",
   "metadata": {},
   "outputs": [],
   "source": [
    "my_list.remove(9)"
   ]
  },
  {
   "cell_type": "code",
   "execution_count": null,
   "id": "a820cef8-1b66-487a-bb50-09c11487ddbc",
   "metadata": {},
   "outputs": [],
   "source": [
    "my_list"
   ]
  },
  {
   "cell_type": "code",
   "execution_count": null,
   "id": "c84405d9-ebae-4726-bfda-7cb67a1d951d",
   "metadata": {},
   "outputs": [],
   "source": [
    "my_list.pop(2)"
   ]
  },
  {
   "cell_type": "code",
   "execution_count": null,
   "id": "8871308b-c285-4a5f-9ec9-61a0e5b6795d",
   "metadata": {},
   "outputs": [],
   "source": [
    "my_list"
   ]
  },
  {
   "cell_type": "markdown",
   "id": "4e59a878-7b74-4e94-b9e5-b3aeaa9a6335",
   "metadata": {},
   "source": [
    "We can have a list of strings."
   ]
  },
  {
   "cell_type": "code",
   "execution_count": null,
   "id": "a01a30f1-f132-4a2d-b809-c56f88391398",
   "metadata": {},
   "outputs": [],
   "source": [
    "my_school = [\"North\", \"Carolina\", \"School\", \"of\", \"Science\", \"and\", \"Mathematics\"]\n",
    "my_school"
   ]
  },
  {
   "cell_type": "markdown",
   "id": "3c67f359-9b61-4ec1-bb21-6eb871bd8f7d",
   "metadata": {},
   "source": [
    "We can add numbers to our list."
   ]
  },
  {
   "cell_type": "code",
   "execution_count": null,
   "id": "269f9682-71bc-4563-9e04-314c4754b6bc",
   "metadata": {},
   "outputs": [],
   "source": [
    "my_school.append(1980)"
   ]
  },
  {
   "cell_type": "code",
   "execution_count": null,
   "id": "56e44985-7f3a-4802-81d2-b27b6ea68c19",
   "metadata": {},
   "outputs": [],
   "source": [
    "my_school"
   ]
  },
  {
   "cell_type": "code",
   "execution_count": null,
   "id": "76014ab8-182f-4a3a-ae53-76d5a09103e6",
   "metadata": {},
   "outputs": [],
   "source": [
    "my_school.append(2**0.5)"
   ]
  },
  {
   "cell_type": "code",
   "execution_count": null,
   "id": "7a1d9298-43ac-419d-9db6-be431ed0b166",
   "metadata": {},
   "outputs": [],
   "source": [
    "my_school"
   ]
  },
  {
   "cell_type": "markdown",
   "id": "a3daec0e-9aa8-461a-bdf2-93bb6d1f6b74",
   "metadata": {},
   "source": [
    "### List Comprehension"
   ]
  },
  {
   "cell_type": "code",
   "execution_count": null,
   "id": "3f0c42ab-d428-47c3-bed9-32d46c44615f",
   "metadata": {},
   "outputs": [],
   "source": [
    "odd_to_99 = [number for number in range(1, 100, 2)]\n",
    "print(odd_to_99)"
   ]
  },
  {
   "cell_type": "markdown",
   "id": "04da40a7-14c2-4329-8644-8e5a18d948e7",
   "metadata": {},
   "source": [
    "## Tuples\n",
    "\n",
    "- Tuples are used to store multiple items in a single variable.\n",
    "\n",
    "- Tuples are written with parentheses ( )"
   ]
  },
  {
   "cell_type": "code",
   "execution_count": null,
   "id": "a4cd3070-1723-4c40-b2e9-cb0f290e4bbb",
   "metadata": {},
   "outputs": [],
   "source": [
    "t = 1, 3, 5, 9\n",
    "t"
   ]
  },
  {
   "cell_type": "code",
   "execution_count": null,
   "id": "ce6fb319-5e3a-474e-a1d3-eafdd3b56798",
   "metadata": {},
   "outputs": [],
   "source": [
    "my_tuple = (2, 4, 6, 8)\n",
    "my_tuple"
   ]
  },
  {
   "cell_type": "code",
   "execution_count": null,
   "id": "b4164fd2-6ad0-4323-9a09-90fe10468819",
   "metadata": {},
   "outputs": [],
   "source": [
    "len(my_tuple)"
   ]
  },
  {
   "cell_type": "code",
   "execution_count": null,
   "id": "3f8d89bf-72f4-4cb8-8081-d0cbd40a5b91",
   "metadata": {},
   "outputs": [],
   "source": [
    "my_tuple[0]"
   ]
  },
  {
   "cell_type": "markdown",
   "id": "7c8737a3-291d-4255-b94f-87aaec34dea6",
   "metadata": {},
   "source": [
    "- `.index()` searches the tuple for a specified value and returns the position of where it was found"
   ]
  },
  {
   "cell_type": "code",
   "execution_count": null,
   "id": "0b2a44e4-f91e-4012-9b77-478ca69f0646",
   "metadata": {},
   "outputs": [],
   "source": [
    "my_tuple.index(8)"
   ]
  },
  {
   "cell_type": "markdown",
   "id": "7b135ffe-9bfd-4418-b96d-23253ac5a158",
   "metadata": {},
   "source": [
    "We can iterate through a tuple in the same way we iterated through a list."
   ]
  },
  {
   "cell_type": "code",
   "execution_count": null,
   "id": "8d29a345-1f23-4039-82ec-ca0b0bb7ac83",
   "metadata": {},
   "outputs": [],
   "source": [
    "for number in my_tuple:\n",
    "    print(number)"
   ]
  },
  {
   "cell_type": "markdown",
   "id": "713cc3b6-5c4d-4a36-9e0e-24ec114e0092",
   "metadata": {},
   "source": [
    "A tuple should be used for values that don't change. For example, [NCSSM course codes](https://courses.ncssm.edu/course_catalog.php?id=2)."
   ]
  },
  {
   "cell_type": "code",
   "execution_count": null,
   "id": "df496f4b-0233-4f5b-bd31-55fd14d5476a",
   "metadata": {},
   "outputs": [],
   "source": [
    "ds_course_codes = ('MA4110', 'MA4112')\n",
    "ds_course_codes"
   ]
  },
  {
   "cell_type": "markdown",
   "id": "19c26a9e-37f5-41cd-a671-3dd4837f2558",
   "metadata": {},
   "source": [
    "## Dictionaries\n",
    "\n",
    "- Dictionaries are used to store data values in `key : value` pairs.\n",
    "\n",
    "- A dictionary is a collection which is ordered, changeable and do not allow duplicate keys."
   ]
  },
  {
   "cell_type": "code",
   "execution_count": null,
   "id": "ec1d5a47-5bc3-46c3-be45-f8f3258e6f9a",
   "metadata": {},
   "outputs": [],
   "source": [
    "my_dictionary = {\"a\":\"apple\", \"b\":\"banana\",\"c\":\"carrot\"}\n",
    "my_dictionary"
   ]
  },
  {
   "cell_type": "code",
   "execution_count": null,
   "id": "9364ae8b-77ff-4a41-bbe1-36e87737a350",
   "metadata": {},
   "outputs": [],
   "source": [
    "my_dictionary['a']"
   ]
  },
  {
   "cell_type": "code",
   "execution_count": null,
   "id": "f4dcbebb-6e05-4bc8-af6e-ad1bb614642b",
   "metadata": {},
   "outputs": [],
   "source": [
    "my_info = dict(name = \"Mahmoud\", age = 50, country = \"US\")\n",
    "my_info"
   ]
  },
  {
   "cell_type": "code",
   "execution_count": null,
   "id": "d9be7fe2-1782-4a5c-bda5-a93242023975",
   "metadata": {},
   "outputs": [],
   "source": [
    "dept_info = dict(name = ['Mahmoud', 'John', 'Karen', 'Kathy'], \n",
    "                 age = [50, 25, 45, 33], \n",
    "                 country = [\"US\", \"Canada\", \"US\", \"France\"])\n",
    "dept_info"
   ]
  },
  {
   "cell_type": "code",
   "execution_count": null,
   "id": "8923ca62-fd8d-45c2-baad-3f0c109942af",
   "metadata": {},
   "outputs": [],
   "source": [
    "dept_info['name'][0]"
   ]
  },
  {
   "cell_type": "code",
   "execution_count": null,
   "id": "3a36968c-9c74-44f1-bf82-13d50220ee82",
   "metadata": {},
   "outputs": [],
   "source": [
    "dept_info[\"dept\"] = \"math\"\n",
    "dept_info"
   ]
  },
  {
   "cell_type": "code",
   "execution_count": null,
   "id": "17c195ff-f871-4745-b2af-55a55143fbe9",
   "metadata": {},
   "outputs": [],
   "source": [
    "dept_info['name'].append('Jayson')"
   ]
  },
  {
   "cell_type": "code",
   "execution_count": null,
   "id": "139d754d-7995-4587-bc36-538fe89a1b1c",
   "metadata": {},
   "outputs": [],
   "source": [
    "dept_info"
   ]
  },
  {
   "cell_type": "markdown",
   "id": "9281ed2f-22f6-45ad-9567-48e2129aa7e5",
   "metadata": {},
   "source": [
    "**Question 4.** Below are two lists combine them into a dictionary using the `zip()` function."
   ]
  },
  {
   "cell_type": "code",
   "execution_count": null,
   "id": "c5579bb4-f0a9-4aba-b9a0-9892153675a8",
   "metadata": {},
   "outputs": [],
   "source": [
    "keys = [x for x in \"abcdefgh\"]\n",
    "values = [y for y in range(0,8)]\n",
    "\n",
    "dict(zip(..., ...))"
   ]
  },
  {
   "cell_type": "markdown",
   "id": "a61b9623-2219-4772-b87c-941a379f5318",
   "metadata": {},
   "source": [
    "We can create the following dictionary using dictionary comprehensions.\n",
    "\n",
    "```\n",
    "{0: 0, 1: 1, 2: 2, 3: 3, 4: 4, 5: 5}\n",
    "```"
   ]
  },
  {
   "cell_type": "code",
   "execution_count": null,
   "id": "9b22a64a-099d-4035-9550-914688162291",
   "metadata": {},
   "outputs": [],
   "source": [
    "d1 = {i: i for i in range(0,6)}\n",
    "d1"
   ]
  },
  {
   "cell_type": "markdown",
   "id": "ffb7ab04-bad7-459e-bfee-a3945c41beb2",
   "metadata": {},
   "source": [
    "**Question 5.** Create the following dictionary using dictionary comprehensions.\n",
    "\n",
    "```\n",
    "{'a': 0, 'b': 1, 'c': 4, 'd': 9, 'e': 16, 'f': 25}\n",
    "```"
   ]
  },
  {
   "cell_type": "code",
   "execution_count": null,
   "id": "fea1f3c6-1b50-4cde-9810-5fe3e0b967dd",
   "metadata": {},
   "outputs": [],
   "source": [
    "d2 = {\"abcdef\"[i]: i**2 for i in range(0, 6)}\n",
    "d2"
   ]
  },
  {
   "cell_type": "code",
   "execution_count": null,
   "id": "594e7458-4d99-4013-ab73-157e5b438ab8",
   "metadata": {},
   "outputs": [],
   "source": [
    "AFCDivisions = {\n",
    "\"North\": [\"Steelers\", \"Browns\", \"Ravens\", \"Bengals\"],\n",
    "\"East\" : [\"Patriots\", \"Jets\", \"Dolphins\", \"Bills\"],\n",
    "\"West\" : [\"Raiders\", \"Chiefs\", \"Chargers\", \"Broncos\"]\n",
    "}\n",
    "AFCDivisions[\"North\"]"
   ]
  },
  {
   "cell_type": "code",
   "execution_count": null,
   "id": "6b797d32-5d19-4f72-8c4b-30ce2b0653ff",
   "metadata": {},
   "outputs": [],
   "source": [
    "AFCDivisions.keys()"
   ]
  },
  {
   "cell_type": "markdown",
   "id": "953a0518-91bc-4a0d-aeb0-511a20552c15",
   "metadata": {},
   "source": [
    "We can iterate through the keys in a dictionary."
   ]
  },
  {
   "cell_type": "code",
   "execution_count": null,
   "id": "da0c2c36-c5ff-4f23-aaa1-1490f3ff1f71",
   "metadata": {},
   "outputs": [],
   "source": [
    "for key in AFCDivisions.keys():\n",
    "    print(key)"
   ]
  },
  {
   "cell_type": "code",
   "execution_count": null,
   "id": "6e15e750-eef6-4418-ba22-860ea86a7c8a",
   "metadata": {},
   "outputs": [],
   "source": [
    "for key in AFCDivisions:\n",
    "    print(key,':',AFCDivisions[key])"
   ]
  },
  {
   "cell_type": "markdown",
   "id": "708a325a-7f48-4be4-a26d-a7cf804781eb",
   "metadata": {},
   "source": [
    "We can get all the values that are associated with a particular key."
   ]
  },
  {
   "cell_type": "code",
   "execution_count": null,
   "id": "0c383e65-c602-477b-a761-7682e78c1e2d",
   "metadata": {},
   "outputs": [],
   "source": [
    "AFCDivisions.get('North')"
   ]
  },
  {
   "cell_type": "markdown",
   "id": "ab80dc7f-f3a1-4f9e-bd15-6acda65df5eb",
   "metadata": {},
   "source": [
    "We can also access elements in a value that is a list."
   ]
  },
  {
   "cell_type": "code",
   "execution_count": null,
   "id": "20563a25-6b37-4578-b280-bc140cea9bca",
   "metadata": {},
   "outputs": [],
   "source": [
    "AFCDivisions.get('North')[0]"
   ]
  },
  {
   "cell_type": "markdown",
   "id": "463f3307-1903-43c8-b333-cf736f87bcaa",
   "metadata": {},
   "source": [
    "We can get all the values from the entire dictionary."
   ]
  },
  {
   "cell_type": "code",
   "execution_count": null,
   "id": "34a10b63-12de-4904-ad87-db98f5ea827a",
   "metadata": {},
   "outputs": [],
   "source": [
    "AFCDivisions.values()"
   ]
  },
  {
   "cell_type": "markdown",
   "id": "13f82d4b-c7eb-46e1-8673-578179e92ede",
   "metadata": {},
   "source": [
    "## NumPy\n",
    "\n",
    "You may have seen in some previous assignments that we can use a whole new family of functions using **`NumPy`**. We will talk about a few of them in this notebook, but we should make something clear before we get started.\n",
    "\n",
    "**`NumPy`** is what is known as a *library*. This means that its functions are not automatically present when you start a new Python environment, so we have to **import** it before we can use it.\n",
    "\n",
    "```\n",
    "import numpy as np\n",
    "```\n",
    "\n",
    "Let's see what happens if we try to use a `NumPy` function before we import it:"
   ]
  },
  {
   "cell_type": "code",
   "execution_count": null,
   "id": "8f1d3a01-d0f8-43ef-a9d2-c481b0ef52a6",
   "metadata": {},
   "outputs": [],
   "source": [
    "np.array([1, 2, 3])"
   ]
  },
  {
   "cell_type": "markdown",
   "id": "756eada9-3b57-41fc-95d8-0c3a96e0755e",
   "metadata": {},
   "source": [
    "We have to use an **import** statement to load in everything `NumPy` has to offer:"
   ]
  },
  {
   "cell_type": "code",
   "execution_count": null,
   "id": "7c64f2ac-05ca-4d21-b04d-46c3944585c7",
   "metadata": {},
   "outputs": [],
   "source": [
    "import numpy as np\n",
    "\n",
    "our_array = np.array([1, 2, 3])\n",
    "our_array"
   ]
  },
  {
   "cell_type": "markdown",
   "id": "5e3e4b13-513a-4846-8e68-7810227c13f2",
   "metadata": {},
   "source": [
    "We can do all sorts of operations using `NumPy` arrays, they are similar to Python lists, so we can still do all of those operations:"
   ]
  },
  {
   "cell_type": "code",
   "execution_count": null,
   "id": "1d1d45ad-9035-40d9-ac2e-42e5729e19ad",
   "metadata": {},
   "outputs": [],
   "source": [
    "for item in our_array:\n",
    "    print(item)"
   ]
  },
  {
   "cell_type": "markdown",
   "id": "0cdb1a3d-b4f2-4543-8555-450728cbd091",
   "metadata": {},
   "source": [
    "Select the second item in `our_array`."
   ]
  },
  {
   "cell_type": "code",
   "execution_count": null,
   "id": "ded433c7-b9b9-48e0-a3f2-950f16edc7d3",
   "metadata": {},
   "outputs": [],
   "source": [
    "our_array[1]"
   ]
  },
  {
   "cell_type": "markdown",
   "id": "5f1e4845-da40-4709-b7c0-a9109be7823e",
   "metadata": {},
   "source": [
    "Select the second item and all remaining items in `our_array`."
   ]
  },
  {
   "cell_type": "code",
   "execution_count": null,
   "id": "bd95ecf6-f52e-49e8-99c7-5524fc6f2b5e",
   "metadata": {},
   "outputs": [],
   "source": [
    "our_array[1:]"
   ]
  },
  {
   "cell_type": "markdown",
   "id": "8fb2aefd-7333-429d-8e6e-952dffe0b72a",
   "metadata": {},
   "source": [
    "However, `NumPy` arrays have a few more features we can use. Arithmetic operations with `NumPy` arrays are slightly different than arithmetic with Python lists. Let's see some examples:"
   ]
  },
  {
   "cell_type": "code",
   "execution_count": null,
   "id": "de9c1726-2653-4a70-b2af-19d37c81f5de",
   "metadata": {},
   "outputs": [],
   "source": [
    "our_list = [1, 2, 3]\n",
    "print(\"Multiplying a Python list does this:\", our_list * 2)\n",
    "print(\"Multiplying a NumPy array does this:\", our_array * 2)"
   ]
  },
  {
   "cell_type": "markdown",
   "id": "acc043c9-3492-41b0-a172-ddb80babffac",
   "metadata": {},
   "source": [
    "Note the difference: Multiplication with lists puts two copies of it together, whereas `NumPy` array multiplication multiplies two by each number in the array. This applies to all arithmetic operations."
   ]
  },
  {
   "cell_type": "code",
   "execution_count": null,
   "id": "3fa92bef-16ce-4569-9758-91465cf8d4e7",
   "metadata": {},
   "outputs": [],
   "source": [
    "print(our_array + 10)\n",
    "print(our_array - 10)\n",
    "print(our_array / 2)\n",
    "print(our_array ** 3)"
   ]
  },
  {
   "cell_type": "markdown",
   "id": "b3de565f-eeaa-4d57-865e-0a60a8287c74",
   "metadata": {},
   "source": [
    "Doing some of these arithmetic operations in Python are not allowed because lists cannot ineract as easily with non-list types. For example, addition (and subtraction) cause errors because the *list* does not understand the meaning of *subtracting 1*. "
   ]
  },
  {
   "cell_type": "code",
   "execution_count": null,
   "id": "e1f1793e-c462-4e1c-a932-7f4639f18a5a",
   "metadata": {},
   "outputs": [],
   "source": [
    "our_list - 1"
   ]
  },
  {
   "cell_type": "markdown",
   "id": "cae2e7dd-f014-4182-85c9-eea864073d81",
   "metadata": {},
   "source": [
    "We can also do arithmetic operations between two arrays (**pairwise multiplication**. ):"
   ]
  },
  {
   "cell_type": "code",
   "execution_count": null,
   "id": "35df4f0c-5bf1-49ad-b2ac-8abebacbf040",
   "metadata": {},
   "outputs": [],
   "source": [
    "np.array([2, 3, 4]) * np.array([10, 20, 30])"
   ]
  },
  {
   "cell_type": "markdown",
   "id": "b75b5019-fefe-4e50-b828-2da8a0020714",
   "metadata": {},
   "source": [
    "There is also a `NumPy` equivalent of the `range()` function, `np.arange()`. You can think of this as \"array\" range, and it returns a `NumPy` array instead of a Python list! It has the same end-exclusive behavior as range, and it  overall behaves in a very similar way as a Python list `range()` call."
   ]
  },
  {
   "cell_type": "code",
   "execution_count": null,
   "id": "5319c291-27cf-48fa-ad67-d45e8d77d6a2",
   "metadata": {},
   "outputs": [],
   "source": [
    "np.arange(10)"
   ]
  },
  {
   "cell_type": "markdown",
   "id": "681a5aaa-7d7d-42bc-80c2-659eed7badd2",
   "metadata": {},
   "source": [
    "We can use `np.arange` in a for loop and it behaves just as we would expect."
   ]
  },
  {
   "cell_type": "code",
   "execution_count": null,
   "id": "f98b7385-0b1f-4600-807c-32b8482d01fa",
   "metadata": {},
   "outputs": [],
   "source": [
    "for number in np.arange(10):\n",
    "    print(number)"
   ]
  },
  {
   "cell_type": "markdown",
   "id": "5fb05d31-aa2b-4c66-ac73-4619114f740e",
   "metadata": {},
   "source": [
    "There is one more very important property of `NumPy` arrays. `NumPy` arrays can be created with items of different types, but `NumPy` automatically casts them all to one type. This is called **type coercion** because all values of the list are *coreced* to become the same type.\n",
    "\n",
    "- **Booleans** cast to **integers** (True -> 1, False -> 0)\n",
    "\n",
    "- **Integers** cast to **strings** (1 -> \"1\", 2 -> \"2\")\n",
    "   \n",
    "   - By the associative property, **Booleans** also cast to **strings** (True -> \"True\")\n",
    "\n",
    "Let's look at some examples:"
   ]
  },
  {
   "cell_type": "code",
   "execution_count": null,
   "id": "83d213f5-2246-45fd-9f9f-96fd04955beb",
   "metadata": {},
   "outputs": [],
   "source": [
    "array1 = np.array([10, 20, True, 40, False])\n",
    "array1"
   ]
  },
  {
   "cell_type": "code",
   "execution_count": null,
   "id": "a3969186-626e-42eb-b198-fce0f271bd9a",
   "metadata": {},
   "outputs": [],
   "source": [
    "array2 = np.array([False, 200, 300, 400, True])\n",
    "array2"
   ]
  },
  {
   "cell_type": "code",
   "execution_count": null,
   "id": "8d9a4b05-aaea-44e8-8ef3-fdc03c68c34a",
   "metadata": {},
   "outputs": [],
   "source": [
    "array1 + array2"
   ]
  },
  {
   "cell_type": "markdown",
   "id": "4930e1cc-d8cb-4224-a4ed-08f021104627",
   "metadata": {},
   "source": [
    "We get this resulting array because:\n",
    "\n",
    "- 10 + (False -> 0) = `10`\n",
    "\n",
    "- 20 + 200 = `20`\n",
    "\n",
    "- (True -> 1) + 300 = `301`\n",
    "\n",
    "- 40 + 400 = `440`\n",
    "\n",
    "- (False -> 0) + (True -> 1) = `1`\n",
    "\n",
    "We see the same behavior when adding strings into the mix:"
   ]
  },
  {
   "cell_type": "code",
   "execution_count": null,
   "id": "a3016a9a-389a-4482-9611-a2319756abe7",
   "metadata": {},
   "outputs": [],
   "source": [
    "array3 = np.array([\"data\", \"science\", 15, \"cool\", True])\n",
    "array3"
   ]
  },
  {
   "cell_type": "markdown",
   "id": "35b26993-301c-4589-945d-88c2ceaf1d38",
   "metadata": {},
   "source": [
    "Notice how all the values become strings!\n",
    "\n",
    "There are ways to have other more complex data types (lists, dictionaries, etc.) made into `NumPy` arrays, but they are out of scope as far as this class is concerned. Feel free to try out different types on your own, but you will not be tested on it in this class."
   ]
  }
 ],
 "metadata": {
  "kernelspec": {
   "display_name": "Python 3 (ipykernel)",
   "language": "python",
   "name": "python3"
  },
  "language_info": {
   "codemirror_mode": {
    "name": "ipython",
    "version": 3
   },
   "file_extension": ".py",
   "mimetype": "text/x-python",
   "name": "python",
   "nbconvert_exporter": "python",
   "pygments_lexer": "ipython3",
   "version": "3.9.6"
  }
 },
 "nbformat": 4,
 "nbformat_minor": 5
}
