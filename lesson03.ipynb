{
 "cells": [
  {
   "cell_type": "markdown",
   "id": "e1d85bcd-d2b1-4cb1-af25-1174eae55420",
   "metadata": {
    "tags": []
   },
   "source": [
    "# Lesson 03: Intro to the `datascience` Package\n",
    "\n",
    "The [`datascience`](http://data8.org/datascience/index.html) package was written for use in UC Berkeley’s foundations of data science course and contains useful functionality for investigating and graphically displaying data.\n",
    "\n",
    "## Tables\n",
    "\n",
    "The most important functionality in the package is is the [`Table`](https://inferentialthinking.com/chapters/06/Tables.html) class, which is the structure used to represent columns of data. First, load the package:"
   ]
  },
  {
   "cell_type": "code",
   "execution_count": null,
   "id": "3cf82777-bd96-4097-8d63-f27f40f9ddae",
   "metadata": {},
   "outputs": [],
   "source": [
    "from datascience import *"
   ]
  },
  {
   "cell_type": "markdown",
   "id": "a25e6a74-a68a-487a-85a3-c1c9f3d58280",
   "metadata": {},
   "source": [
    "### Creating a Table\n",
    "\n",
    "- A `Table` is a sequence of labeled columns of data.\n",
    "\n",
    "- A `Table` can be constructed from scratch by using the .`with_columns()` method."
   ]
  },
  {
   "cell_type": "code",
   "execution_count": null,
   "id": "28a20d8f-a132-4d94-84fb-c21f07ffcc20",
   "metadata": {},
   "outputs": [],
   "source": [
    "t = Table().with_columns(\n",
    "    'letter', ['a', 'b', 'c', 'z'],\n",
    "    'count',  [  9,   3,   3,   1],\n",
    "    'points', [  1,   2,   2,  10],\n",
    ")\n",
    "t"
   ]
  },
  {
   "cell_type": "markdown",
   "id": "fa15df94-1875-456e-a10c-a041237986b6",
   "metadata": {},
   "source": [
    "More often, a table is read from a `.csv` file (or an Excel spreadsheet). Here’s the content of an example file:"
   ]
  },
  {
   "cell_type": "code",
   "execution_count": null,
   "id": "f4cd617f-7ff7-4b1f-9e9c-de127f42ba88",
   "metadata": {},
   "outputs": [],
   "source": [
    "cat \"data/cones.csv\""
   ]
  },
  {
   "cell_type": "markdown",
   "id": "93bb40ec-f07e-4ab1-8fe3-eec6f5560926",
   "metadata": {},
   "source": [
    "And this is how we load it in as a `Table` using `read_table()`:"
   ]
  },
  {
   "cell_type": "code",
   "execution_count": null,
   "id": "a943006f-bdb1-437e-a416-83ef36e5c981",
   "metadata": {
    "tags": []
   },
   "outputs": [],
   "source": [
    "cones = Table.read_table(\"data/cones.csv\")\n",
    "cones"
   ]
  },
  {
   "cell_type": "markdown",
   "id": "27d3ca81-64e3-44df-ad29-44a5856a2cd7",
   "metadata": {},
   "source": [
    "### Accessing Values\n",
    "\n",
    "To access values of columns in the table, use `column()`, which takes a column label or index and returns an array. Alternatively, `columns()` returns a list of columns (arrays)."
   ]
  },
  {
   "cell_type": "code",
   "execution_count": null,
   "id": "c9b255d3-f59b-4b02-93f8-3a401f5e3a9a",
   "metadata": {},
   "outputs": [],
   "source": [
    "t.column('letter')"
   ]
  },
  {
   "cell_type": "code",
   "execution_count": null,
   "id": "8ecf2394-12a6-44e8-bce6-1ba50106af4a",
   "metadata": {},
   "outputs": [],
   "source": [
    "t.column(1)"
   ]
  },
  {
   "cell_type": "markdown",
   "id": "903aaece-904c-4415-8d89-d7161a058743",
   "metadata": {},
   "source": [
    "You can use bracket notation as a shorthand for this method:"
   ]
  },
  {
   "cell_type": "code",
   "execution_count": null,
   "id": "5f16d71b-9d88-4abf-b323-a47947b3b558",
   "metadata": {},
   "outputs": [],
   "source": [
    "t['letter'] # This is a shorthand for t.column('letter')"
   ]
  },
  {
   "cell_type": "code",
   "execution_count": null,
   "id": "7c2cdda8-a18c-4bf8-8d4b-50d748a08134",
   "metadata": {},
   "outputs": [],
   "source": [
    "t[1] # This is a shorthand for t.column(1)"
   ]
  },
  {
   "cell_type": "markdown",
   "id": "43a2550a-fddd-4fb5-b2b3-27eed2ef3bd6",
   "metadata": {},
   "source": [
    "To access values by row, `row()` returns a row by index. Alternatively, `rows()` returns an list-like `Rows` object that contains tuple-like `Row` objects."
   ]
  },
  {
   "cell_type": "code",
   "execution_count": null,
   "id": "6a5b44f0-27b1-4f35-84b3-3bf7304164a4",
   "metadata": {},
   "outputs": [],
   "source": [
    "t.rows"
   ]
  },
  {
   "cell_type": "code",
   "execution_count": null,
   "id": "0c461bfd-aecf-41fc-9634-ccbd0fe3a28c",
   "metadata": {},
   "outputs": [],
   "source": [
    "t.rows[0]"
   ]
  },
  {
   "cell_type": "code",
   "execution_count": null,
   "id": "7faacc9e-7803-4b4c-af29-8fb2a2be7b79",
   "metadata": {},
   "outputs": [],
   "source": [
    "t.row(0)"
   ]
  },
  {
   "cell_type": "code",
   "execution_count": null,
   "id": "55fac351-8199-4e8e-91ef-5148ee205a7f",
   "metadata": {},
   "outputs": [],
   "source": [
    "second = t.rows[1]\n",
    "second"
   ]
  },
  {
   "cell_type": "code",
   "execution_count": null,
   "id": "f4071818-267a-4c6a-a272-e25454f6d555",
   "metadata": {},
   "outputs": [],
   "source": [
    "second[0]"
   ]
  },
  {
   "cell_type": "code",
   "execution_count": null,
   "id": "d7cc8fbb-129a-4a6c-83ed-5312901ef639",
   "metadata": {},
   "outputs": [],
   "source": [
    "second[1]"
   ]
  },
  {
   "cell_type": "markdown",
   "id": "0148cbc1-3009-4023-98d6-a3ea6d338794",
   "metadata": {},
   "source": [
    "To get the number of rows, use `num_rows`."
   ]
  },
  {
   "cell_type": "code",
   "execution_count": null,
   "id": "4903f00b-b7d3-4f5d-a137-b6698d8f3e2c",
   "metadata": {},
   "outputs": [],
   "source": [
    "t.num_rows"
   ]
  },
  {
   "cell_type": "markdown",
   "id": "aceb8068-7fcd-4737-a527-810a4f16c393",
   "metadata": {},
   "source": [
    "### Manipulating Data\n",
    "\n",
    "Here are some of the most common operations on data. For the rest, see the reference ([Tables (datascience.tables)](http://data8.org/datascience/tables.html#tables-overview)).\n",
    "\n",
    "Adding a column with `with_column()`:"
   ]
  },
  {
   "cell_type": "code",
   "execution_count": null,
   "id": "72b2a7d0-a39d-498b-bbe1-cd50f6ac241c",
   "metadata": {},
   "outputs": [],
   "source": [
    "t"
   ]
  },
  {
   "cell_type": "code",
   "execution_count": null,
   "id": "cf8a1ba7-60a1-4c9a-acd9-be4823302f2e",
   "metadata": {},
   "outputs": [],
   "source": [
    "t.with_column('vowel?', ['yes', 'no', 'no', 'no'])"
   ]
  },
  {
   "cell_type": "markdown",
   "id": "2e015d26-1b78-425f-b45f-a9bd123317d9",
   "metadata": {},
   "source": [
    "`.with_column` returns a new table without modifying the original table. "
   ]
  },
  {
   "cell_type": "code",
   "execution_count": null,
   "id": "67999552-dacf-4de6-8540-9e5d26da6812",
   "metadata": {},
   "outputs": [],
   "source": [
    "t"
   ]
  },
  {
   "cell_type": "markdown",
   "id": "aed64d8f-15cc-4d36-ab68-f2b28929d7d3",
   "metadata": {},
   "source": [
    "Selecting columns with `select()`:"
   ]
  },
  {
   "cell_type": "code",
   "execution_count": null,
   "id": "e6cbfeb2-0125-4e34-8677-5546caf8ad59",
   "metadata": {},
   "outputs": [],
   "source": [
    "t.select('letter')"
   ]
  },
  {
   "cell_type": "markdown",
   "id": "d9bb53d8-4049-4e38-8363-12e449993171",
   "metadata": {},
   "source": [
    "Notice that `.select` returns a table."
   ]
  },
  {
   "cell_type": "code",
   "execution_count": null,
   "id": "a49b1f56-f6be-4a10-a3aa-b42553fd4ef0",
   "metadata": {},
   "outputs": [],
   "source": [
    "t.select(['letter', 'points'])"
   ]
  },
  {
   "cell_type": "markdown",
   "id": "d38294f5-4a7a-4ea9-9e94-3bad5983ff8c",
   "metadata": {},
   "source": [
    "Renaming columns with `relabeled()`:"
   ]
  },
  {
   "cell_type": "code",
   "execution_count": null,
   "id": "7dee6770-587a-4e6b-ac3b-fc26704c95ba",
   "metadata": {},
   "outputs": [],
   "source": [
    "t"
   ]
  },
  {
   "cell_type": "code",
   "execution_count": null,
   "id": "8e501193-f0de-433c-aa17-e02fbb4c9738",
   "metadata": {},
   "outputs": [],
   "source": [
    "t.relabeled('points', 'other name')"
   ]
  },
  {
   "cell_type": "code",
   "execution_count": null,
   "id": "fd1ca34e-9124-4122-96e0-e0c5888f328c",
   "metadata": {},
   "outputs": [],
   "source": [
    "t"
   ]
  },
  {
   "cell_type": "code",
   "execution_count": null,
   "id": "ceae2e50-3ba7-49dc-b9be-4922b0820470",
   "metadata": {},
   "outputs": [],
   "source": [
    "t.relabeled(['letter', 'count', 'points'], ['x', 'y', 'z'])"
   ]
  },
  {
   "cell_type": "markdown",
   "id": "aaa3a85f-d4f7-4a69-b32c-08e4cd755c0c",
   "metadata": {},
   "source": [
    "Selecting out rows by index with `take()` and conditionally with `where()`:"
   ]
  },
  {
   "cell_type": "code",
   "execution_count": null,
   "id": "ee4e2db6-5215-408b-9319-a5e320884ee8",
   "metadata": {},
   "outputs": [],
   "source": [
    "t"
   ]
  },
  {
   "cell_type": "markdown",
   "id": "3f1f7c41-1d81-4696-ad60-8935efb1f634",
   "metadata": {},
   "source": [
    "Return the third row."
   ]
  },
  {
   "cell_type": "code",
   "execution_count": null,
   "id": "e1c3b03f-7f0a-494b-a8da-532f750718c0",
   "metadata": {},
   "outputs": [],
   "source": [
    "t.take(2)"
   ]
  },
  {
   "cell_type": "markdown",
   "id": "52e1b801-8f1d-42af-a26b-ce1047c71c2e",
   "metadata": {},
   "source": [
    "Return the first and second rows."
   ]
  },
  {
   "cell_type": "code",
   "execution_count": null,
   "id": "b52a6e3a-16fd-40c2-be1a-877879c108b8",
   "metadata": {},
   "outputs": [],
   "source": [
    "t.take[0:2] "
   ]
  },
  {
   "cell_type": "markdown",
   "id": "1384144c-6b76-4ee6-a2ec-fa0826a001e5",
   "metadata": {},
   "source": [
    "Return the rows where `points == 2`."
   ]
  },
  {
   "cell_type": "code",
   "execution_count": null,
   "id": "382fdf3c-7003-4114-9710-b0b7eab67f18",
   "metadata": {},
   "outputs": [],
   "source": [
    "t.where('points', 2) "
   ]
  },
  {
   "cell_type": "markdown",
   "id": "c6d202ba-1990-43f6-acb4-c2a6a49401ea",
   "metadata": {},
   "source": [
    "Return the rows where `count < 8`."
   ]
  },
  {
   "cell_type": "code",
   "execution_count": null,
   "id": "6b80de4d-9a80-442b-8ffb-c15a00bfe998",
   "metadata": {},
   "outputs": [],
   "source": [
    "t.where('count', are.below(8))"
   ]
  },
  {
   "cell_type": "code",
   "execution_count": null,
   "id": "dd40fd2e-bd39-4a8f-b343-039a580e8ceb",
   "metadata": {},
   "outputs": [],
   "source": [
    "t.where(t['count'] < 8)"
   ]
  },
  {
   "cell_type": "markdown",
   "id": "259f7362-33c1-4252-9461-1781a5ca6386",
   "metadata": {},
   "source": [
    "`.where` actually takes in an array of booleans."
   ]
  },
  {
   "cell_type": "code",
   "execution_count": null,
   "id": "16368966-8aff-470d-ac84-126f24b24b8d",
   "metadata": {},
   "outputs": [],
   "source": [
    "t['count'] < 8 "
   ]
  },
  {
   "cell_type": "markdown",
   "id": "97d0a5b3-469f-42f9-ae5b-ea2aa01c1828",
   "metadata": {},
   "source": [
    "Operate on table data with `sort()`"
   ]
  },
  {
   "cell_type": "code",
   "execution_count": null,
   "id": "8a279fec-ef40-4705-b8e2-1f1dd4a61190",
   "metadata": {},
   "outputs": [],
   "source": [
    "t"
   ]
  },
  {
   "cell_type": "code",
   "execution_count": null,
   "id": "55aa25e2-84e7-4abd-8dce-0aa7faae0997",
   "metadata": {},
   "outputs": [],
   "source": [
    "t.sort('count')"
   ]
  },
  {
   "cell_type": "code",
   "execution_count": null,
   "id": "9557eddb-3097-4622-9ab2-9330eb6b4f67",
   "metadata": {},
   "outputs": [],
   "source": [
    "t.sort('letter', descending = True)"
   ]
  },
  {
   "cell_type": "markdown",
   "id": "af783a75-5a1f-4ee8-90c7-fcbd6829a92a",
   "metadata": {
    "tags": []
   },
   "source": [
    "### More Table Operations"
   ]
  },
  {
   "cell_type": "markdown",
   "id": "7df32b9a-b3fd-409e-adaa-2c728c536728",
   "metadata": {},
   "source": [
    "Show a specific number of rows."
   ]
  },
  {
   "cell_type": "code",
   "execution_count": null,
   "id": "266c5379-357f-45ad-958f-098c3ac1f24a",
   "metadata": {},
   "outputs": [],
   "source": [
    "cones.show(2)"
   ]
  },
  {
   "cell_type": "markdown",
   "id": "91ae4402-d382-4e73-a184-f9fe42879d36",
   "metadata": {},
   "source": [
    "#### Never Ever Ever Ever do this\n",
    "\n",
    "```\n",
    "cones.show()\n",
    "```"
   ]
  },
  {
   "cell_type": "markdown",
   "id": "4b9241fa-7df3-4c54-94b0-8e2fed8fc271",
   "metadata": {},
   "source": [
    "#### Selecting Columns\n",
    "\n",
    "Columns must contained within single (`' '`) or double (`\" \"`) quotes."
   ]
  },
  {
   "cell_type": "code",
   "execution_count": null,
   "id": "a6b0c4e9-aba3-425d-be4c-f8411ad72cc4",
   "metadata": {},
   "outputs": [],
   "source": [
    "cones.select(Flavor, 'Price')"
   ]
  },
  {
   "cell_type": "markdown",
   "id": "82d6437b-0908-446e-92bc-537f28db9425",
   "metadata": {},
   "source": [
    "**Question 1.** Select the `Flavor` column from the `cones` `Table`."
   ]
  },
  {
   "cell_type": "code",
   "execution_count": null,
   "id": "2cda4c66-ce19-4705-94aa-959c5cc662e9",
   "metadata": {},
   "outputs": [],
   "source": [
    "cones.select(...)"
   ]
  },
  {
   "cell_type": "markdown",
   "id": "504dbb8c-feae-4991-9d26-7af7fe7f6cf2",
   "metadata": {},
   "source": [
    "**Question 2.** Select the `Flavor` and `Price` columns from the `cones` `Table`."
   ]
  },
  {
   "cell_type": "code",
   "execution_count": null,
   "id": "1c9638d1-8473-4456-b84a-6851529b32f7",
   "metadata": {},
   "outputs": [],
   "source": [
    "cones.select(..., ...)"
   ]
  },
  {
   "cell_type": "markdown",
   "id": "e790b263-07c7-4858-b67f-922ed8c02b93",
   "metadata": {},
   "source": [
    "**Question 3.** Drop the `Price` column from the `cones` `Table` without modifying the original `Table`."
   ]
  },
  {
   "cell_type": "code",
   "execution_count": null,
   "id": "9f95fc22-a6dd-4b7d-be34-9ab9cc695da2",
   "metadata": {},
   "outputs": [],
   "source": [
    "cones.drop(...)"
   ]
  },
  {
   "cell_type": "markdown",
   "id": "acf23a7b-be34-44ed-875a-2cba06ac2a47",
   "metadata": {},
   "source": [
    "The `.drop()` method does not modify the original table."
   ]
  },
  {
   "cell_type": "code",
   "execution_count": null,
   "id": "480140c8-99bf-43f3-8532-2fac2eb4f335",
   "metadata": {},
   "outputs": [],
   "source": [
    "cones"
   ]
  },
  {
   "cell_type": "markdown",
   "id": "17b12311-57fe-4dae-9fde-3851ba8b9f66",
   "metadata": {},
   "source": [
    "**Question 4.** Drop the `Price` column from the `cones` `Table` and save the new table to `cones_without_price`."
   ]
  },
  {
   "cell_type": "code",
   "execution_count": null,
   "id": "c555c747-c4ad-44a8-8998-143e4138c115",
   "metadata": {},
   "outputs": [],
   "source": [
    "cones_without_price = cones.drop(...)\n",
    "cones_without_price"
   ]
  },
  {
   "cell_type": "markdown",
   "id": "1fee6bc5-91fe-4114-8805-4eb47a0c33bb",
   "metadata": {},
   "source": [
    "**Question 5.** Find the rows from the `cones` `Table` where the `Flavor` is chocolate."
   ]
  },
  {
   "cell_type": "code",
   "execution_count": null,
   "id": "4b5034b4-2797-44e3-ba94-d7eecc30ee71",
   "metadata": {
    "scrolled": true
   },
   "outputs": [],
   "source": [
    "cones.where(..., ...)"
   ]
  },
  {
   "cell_type": "markdown",
   "id": "1e1790be-5c8e-4a07-9617-ba018d56ddd9",
   "metadata": {},
   "source": [
    "**Question 6.** Sort the `cones` `Table` in ascending order by `Price`."
   ]
  },
  {
   "cell_type": "code",
   "execution_count": null,
   "id": "af2b0a5e-4a26-4839-b6a7-2f8d0fc1417c",
   "metadata": {},
   "outputs": [],
   "source": [
    "cones.sort(...)"
   ]
  },
  {
   "cell_type": "markdown",
   "id": "5d13dddd-79f4-467e-bc91-fe8a0515a90d",
   "metadata": {},
   "source": [
    "**Question 7.** Sort the `cones` `Table` in descending order by `Price`."
   ]
  },
  {
   "cell_type": "code",
   "execution_count": null,
   "id": "acb56111-0bd6-480b-824a-f440ff113057",
   "metadata": {
    "scrolled": true
   },
   "outputs": [],
   "source": [
    "cones.sort(..., descending=...)"
   ]
  },
  {
   "cell_type": "markdown",
   "id": "0bcd11c8-a872-4f38-9eed-49e0ad1c9e4c",
   "metadata": {},
   "source": [
    "**Question 8.** Sort the `cones` `Table` in descending order by `Flavor`."
   ]
  },
  {
   "cell_type": "code",
   "execution_count": null,
   "id": "66b998e5-21d4-4e7a-a319-07ce65023983",
   "metadata": {},
   "outputs": [],
   "source": [
    "cones.sort(..., descending=...)"
   ]
  }
 ],
 "metadata": {
  "kernelspec": {
   "display_name": "Python 3 (ipykernel)",
   "language": "python",
   "name": "python3"
  },
  "language_info": {
   "codemirror_mode": {
    "name": "ipython",
    "version": 3
   },
   "file_extension": ".py",
   "mimetype": "text/x-python",
   "name": "python",
   "nbconvert_exporter": "python",
   "pygments_lexer": "ipython3",
   "version": "3.9.6"
  }
 },
 "nbformat": 4,
 "nbformat_minor": 5
}
