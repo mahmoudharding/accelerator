{
 "cells": [
  {
   "cell_type": "markdown",
   "metadata": {
    "tags": []
   },
   "source": [
    "# Run the cell below\n",
    "\n",
    "To run a code cell (i.e.; execute the python code inside a Jupyter notebook) you can click the play button on the ribbon underneath the name of the notebook. Before you begin click the play button to run the code cell below."
   ]
  },
  {
   "cell_type": "code",
   "execution_count": null,
   "metadata": {
    "deletable": false,
    "editable": false
   },
   "outputs": [],
   "source": [
    "# Initialize Otter\n",
    "import otter\n",
    "grader = otter.Notebook(\"assignment05.ipynb\")"
   ]
  },
  {
   "cell_type": "markdown",
   "metadata": {
    "tags": []
   },
   "source": [
    "# Assignment 05: User-Defined Functions, Control and Iteration\n",
    "\n",
    "Welcome to Assignment 05!  Throughout the course you will complete assignments like this one. You can't learn technical subjects without hands-on practice, so these assignments are an important part of the course.\n",
    "\n",
    "Collaborating on labs is more than okay -- it's encouraged! You should rarely remain stuck for more than a few minutes on a question, so ask a post to the discussion board or ask your instructor for help. Explaining things is beneficial, too -- the best way to solidify your knowledge of a subject is to explain it. You should **not** just copy/paste someone else's code, but rather work together to gain understanding of the task you need to complete. \n",
    "\n",
    "To receive credit for this assignment, answer all questions correctly and submit before the deadline.\n",
    "\n",
    "**Due Date:** Monday, July 11, 2022 @ 11:59 pm\n",
    "\n",
    "**Collaboration Policy:** Data science is a collaborative activity. While you may talk with others about the labs, we ask that you **write your solutions individually**. If you do discuss the assignments with others **please include their names below** (it's a good way to learn your classmates' names).\n",
    "\n",
    "**Collaborators:** \n",
    "\n",
    "List collaborators here.\n",
    "\n",
    "## Today's Assignment\n",
    "\n",
    "In today's assignment, you'll learn how to:\n",
    "\n",
    "- read error messages.\n",
    "\n",
    "- shutdown and restart the kernel of a Jupyter notebook.\n",
    "\n",
    "- define a function.\n",
    "\n",
    "- use `if` statements.\n",
    "\n",
    "- use `for` loops.\n",
    "\n",
    "Let's get started! Run the cell below."
   ]
  },
  {
   "cell_type": "code",
   "execution_count": null,
   "metadata": {},
   "outputs": [],
   "source": [
    "from datascience import *\n",
    "import numpy as np\n",
    "import math"
   ]
  },
  {
   "cell_type": "markdown",
   "metadata": {},
   "source": [
    "## Errors\n",
    "\n",
    "Python is a language, and like natural human languages, it has rules.  It differs from natural language in two important ways:\n",
    "\n",
    "1. The rules are *simple*.  You can learn most of them in a few weeks and gain reasonable proficiency with the language in a semester.\n",
    "\n",
    "2. The rules are *rigid*.  If you're proficient in a natural language, you can understand a non-proficient speaker, glossing over small mistakes.  A computer running Python code is not smart enough to do that.\n",
    "\n",
    "Whenever you write code, you'll make mistakes.  When you run a code cell that has errors, Python will sometimes produce error messages to tell you what you did wrong.\n",
    "\n",
    "Errors are okay; even experienced programmers make many errors.  When you make an error, you just have to find the source of the problem, fix it, and move on.\n",
    "\n",
    "We have made an error in the next cell.  Run it and see what happens."
   ]
  },
  {
   "cell_type": "code",
   "execution_count": null,
   "metadata": {},
   "outputs": [],
   "source": [
    "print(\"This line is missing something.\""
   ]
  },
  {
   "cell_type": "markdown",
   "metadata": {},
   "source": [
    "<!-- END QUESTION -->\n",
    "\n",
    "\n",
    "\n",
    "**Note:** In the toolbar, there is the option to click `Run > Run All Cells`, which will run all the code cells in this notebook in order. However, the notebook stops running code cells if it hits an error, like the one in the cell above."
   ]
  },
  {
   "cell_type": "markdown",
   "metadata": {},
   "source": [
    "You should see something like this (minus our annotations):\n",
    "\n",
    "<img src=\"images/error.jpg\" />\n",
    "\n",
    "The last line of the error output attempts to tell you what went wrong.  The *syntax* of a language is its structure, and this `SyntaxError` tells you that you have created an illegal structure.  \"`EOF`\" means \"end of file,\" so the message is saying Python expected you to write something more (in this case, a right parenthesis) before finishing the cell.\n",
    "\n",
    "There's a lot of terminology in programming languages, but you don't need to know it all in order to program effectively. If you see a cryptic message like this, you can often get by without deciphering it. Of course, if you're frustrated, ask a neighbor, or your instructor for help.\n",
    "\n",
    "Try to fix the code above so that you can run the cell and see the intended message instead of an error."
   ]
  },
  {
   "cell_type": "markdown",
   "metadata": {
    "tags": []
   },
   "source": [
    "## The Kernel\n",
    "\n",
    "The kernel is a program that executes the code inside your notebook and outputs the results. In the top right of your window, you can see a circle that indicates the status of your kernel. If the circle is empty (⚪), the kernel is idle and ready to execute code. If the circle is filled in (⚫), the kernel is busy running some code. \n",
    "\n",
    "Next to every code cell, you'll see some text that says `In [...]`. Before you run the cell, you'll see `In [ ]`. When the cell is running, you'll see `In [*]`. If you see an asterisk (\\*) next to a cell that doesn't go away, it's likely that the code inside the cell is taking too long to run, and it might be a good time to interrupt the kernel (discussed below). When a cell is finished running, you'll see a number inside the brackets, like so: `In [1]`. The number corresponds to the order in which you run the cells; so, the first cell you run will show a 1 when it's finished running, the second will show a 2, and so on. \n",
    "\n",
    "You may run into problems where your kernel is stuck for an excessive amount of time, your notebook is very slow and unresponsive, or your kernel loses its connection. If this happens, try the following steps:\n",
    "\n",
    "1. At the top of your screen, click **Kernel**, then **Interrupt Kernel**. Trying running your code again.\n",
    "\n",
    "2. If that doesn't help, click **Kernel**, then **Restart Kernel**. If you do this, you will have to run your code cells from the start of your notebook up until where you paused your work.\n",
    "\n",
    "3. If that doesn't help, restart your server. This is very rarely needed, but it's good to know how to do just in case. First, save your work by clicking **File** at the top left of your screen, then **Save Notebook**. Next, click **File** again and choose **Hub Control Panel** and select **Stop My Server** to shut it down. Then, after a few moments select **Start My Server** to start it back up. Then, navigate back to the notebook you were working on. You'll still have to run your code cells again."
   ]
  },
  {
   "cell_type": "markdown",
   "metadata": {
    "tags": []
   },
   "source": [
    "## Functions\n",
    "\n",
    "Functions allow us to combine the topics we have discussed so far in the course. Writing functions is useful when we want to use the same code repeatedly without wanting to write it out each and every time. You can think of functions like variables, they store lines of code instead of Python values, and they can be used when you need them.\n",
    "\n",
    "Below is an example of a Python funciton that doubles its input:"
   ]
  },
  {
   "cell_type": "code",
   "execution_count": null,
   "metadata": {},
   "outputs": [],
   "source": [
    "def double(x):\n",
    "    \"\"\"Doubles the value of the input.\"\"\"\n",
    "    return 2 * x"
   ]
  },
  {
   "cell_type": "markdown",
   "metadata": {},
   "source": [
    "Let's break down the different parts of this function:\n",
    "\n",
    "- The `def` at the beginning tells Python that we are making a new function.\n",
    "\n",
    "- The text in between `\"\"\"` and `\"\"\"` is called a [`docstring`](https://www.geeksforgeeks.org/python-docstrings/). Docstrings provide a convenient way of documenting Python functions.\n",
    "\n",
    "- The blue `double` text is the name of our function. If we want to use this function, we will call it using this name.\n",
    "\n",
    "- The `x` inside the parentheses is the input variable, otherwise known as a function's domain. A function can have as many input variables as you need, as long as they have different names.\n",
    "\n",
    "- The `:` indicates we are done defining our function's name and input variables.\n",
    "\n",
    "- All lines after this `def` line are **indented** to indicate we are is what we call the **body** of the function.\n",
    "\n",
    "    - You can have as many lines as you want in your functions, but in this case we only have 1.\n",
    "\n",
    "\n",
    "- The `return` keyword indicates we want to output the following evaluated Python expression. In our case, we want to multiply our input variable by 2.\n",
    "\n",
    "Let's see what happens when we use our function:"
   ]
  },
  {
   "cell_type": "code",
   "execution_count": null,
   "metadata": {},
   "outputs": [],
   "source": [
    "answer = double(5)\n",
    "# We expect the value of this 'answer' variable to be 10 as long as our function is working correctly\n",
    "answer"
   ]
  },
  {
   "cell_type": "markdown",
   "metadata": {},
   "source": [
    "**Question 1.** Write a function that converts from **feet** to **meters**.\n",
    "\n",
    "**Hint:** Use the conversion 1 foot = 0.3048 meters."
   ]
  },
  {
   "cell_type": "code",
   "execution_count": null,
   "metadata": {
    "tags": []
   },
   "outputs": [],
   "source": [
    "def feet_to_meters(x):\n",
    "    \"\"\"Converts input from feet to meters.\"\"\"\n",
    "    return ...\n",
    "feet_to_meters(10)"
   ]
  },
  {
   "cell_type": "code",
   "execution_count": null,
   "metadata": {
    "deletable": false,
    "editable": false
   },
   "outputs": [],
   "source": [
    "grader.check(\"q1\")"
   ]
  },
  {
   "cell_type": "markdown",
   "metadata": {
    "tags": []
   },
   "source": [
    "## Should I Stay or Should I Go\n",
    "\n",
    "Now let's take a look at a function that uses **variables** and **boolean operators**. Read through the functions below and see if you understand the code. In particular, make sure you understand the assignment statements\n",
    "\n",
    "```\n",
    "green = (light == 'green')\n",
    "yellow = (light == 'yellow')\n",
    "red = (light == 'red')\n",
    "```\n",
    "\n",
    "and the comparison statement\n",
    "\n",
    "```\n",
    "return (green or yellow) and (not red)\n",
    "```\n",
    "\n",
    "After you understand the code explain it to a friend, then explain it to your instructor. "
   ]
  },
  {
   "cell_type": "code",
   "execution_count": null,
   "metadata": {},
   "outputs": [],
   "source": [
    "# Based on the color of the stoplight in front of us we want to know whether we should stop or keep going.\n",
    "# Because we know we are going to encounter many lights on our trip, we should write a function.\n",
    "\n",
    "# We can make 2 functions: one where we take risks and go on yellow lights,\n",
    "# and one where we play it safe and stop for yellow lights\n",
    "\n",
    "def stop_or_go_risky(light):\n",
    "    green = (light == 'green')\n",
    "    yellow = (light == 'yellow')\n",
    "    red = (light == 'red')\n",
    "    return (green or yellow) and (not red) # Go on green and yellow, stop on red\n",
    "\n",
    "def stop_or_go_safe(light):\n",
    "    green = (light == 'green')\n",
    "    yellow = (light == 'yellow')\n",
    "    red = (light == 'red')\n",
    "    return green and ((not yellow) and (not red)) # Go on green, stop on yellow and red\n",
    "\n",
    "# These functions are booleans because they output either True or False. We can write functions \n",
    "# that output any type we need, and you will do so throughout the course."
   ]
  },
  {
   "cell_type": "markdown",
   "metadata": {},
   "source": [
    "Run the following cell as a demo:"
   ]
  },
  {
   "cell_type": "code",
   "execution_count": null,
   "metadata": {},
   "outputs": [],
   "source": [
    "# We can use the outputs of these functions to let us know to stop the car \n",
    "# if we need to on our way to the market.\n",
    "\n",
    "light1 = stop_or_go_safe('green')\n",
    "light2 = stop_or_go_safe('yellow')\n",
    "light3 = stop_or_go_safe('red')\n",
    "\n",
    "print(\"I'm driving to the market. No rush.\")\n",
    "print(\"\") # This is the same as hitting the return key while typing in Google Docs\n",
    "print(\"Should I go at a green light?... \" + str(light1))\n",
    "print(\"Should I go at a yellow light?... \" + str(light2))\n",
    "print(\"Should I go at a red light?... \" + str(light3))\n",
    "print(\"\")\n",
    "\n",
    "# But if we find out we are running late, we may want to take more risks.\n",
    "print(\"Oh no! I'm running late!\")\n",
    "print(\"\")\n",
    "\n",
    "light4 = stop_or_go_risky('green')\n",
    "light5 = stop_or_go_risky('yellow')\n",
    "light6 = stop_or_go_risky('red')\n",
    "\n",
    "print(\"Should I go at a green light?... \" + str(light4))\n",
    "print(\"Should I go at a yellow light?... \" + str(light5))\n",
    "print(\"Should I go at a red light?... \" + str(light6))"
   ]
  },
  {
   "cell_type": "markdown",
   "metadata": {},
   "source": [
    "**Question 2.** After you explain the code to your instructor assign the value of `\"yes\"` to the variable `checked_by_the_instructor`"
   ]
  },
  {
   "cell_type": "code",
   "execution_count": null,
   "metadata": {
    "tags": []
   },
   "outputs": [],
   "source": [
    "checked_by_the_instructor = ...\n",
    "checked_by_the_instructor"
   ]
  },
  {
   "cell_type": "code",
   "execution_count": null,
   "metadata": {
    "deletable": false,
    "editable": false
   },
   "outputs": [],
   "source": [
    "grader.check(\"q2\")"
   ]
  },
  {
   "cell_type": "markdown",
   "metadata": {},
   "source": [
    "# Control\n",
    "\n",
    "When writing functions in Python, we may want the function to behave differently depending on the input. We could choose to write several similar functions to accomplish this, but that would require copying and pasting much of the same code over and over again, only making small changes.\n",
    "\n",
    "Instead, we need a way to tell one singular function to execute different code for different inputs. In lecture we discussed this idea as `if-else` statements.\n",
    "\n",
    "Let's look at an example of a function that uses `if-else` statements to tell us what water looks like at different temperatures:\n",
    "\n",
    "<img src='images/water.jpeg' width=300>"
   ]
  },
  {
   "cell_type": "code",
   "execution_count": null,
   "metadata": {},
   "outputs": [],
   "source": [
    "def state_of_water(temperature):\n",
    "    \"\"\"Print the state of water based on the input \n",
    "       of the temperature.\"\"\"\n",
    "    if temperature <= 32: # Water is solid at and below 32°F\n",
    "        return \"ice\"\n",
    "    elif temperature < 212: # Water is liquid between 32°F and 212°F\n",
    "        return \"liquid\"\n",
    "    else: # Water is gaseous above 212°F\n",
    "        return \"steam\""
   ]
  },
  {
   "cell_type": "markdown",
   "metadata": {},
   "source": [
    "Here, we could have made 3 different functions that each dealt with a different state of water, but that would force us to know the state of water (what we currently do not know and are trying to figure out) so that we could pick the right function to use. This is why control such as `if-else` statements are so important!"
   ]
  },
  {
   "cell_type": "markdown",
   "metadata": {},
   "source": [
    "Now let's use this function to determine the state of water in the following locations during the winter:\n",
    "\n",
    "| **City**     | Temperature (°F) |\n",
    "| -------------| ---------------- |\n",
    "| Durham       | 58 |\n",
    "| New York     | 24 |\n",
    "| Miami        | 78 |\n",
    "| Earth's Core | 10800 |\n",
    "\n",
    "We can see the calculation each city's state of water using the function defined above:"
   ]
  },
  {
   "cell_type": "code",
   "execution_count": null,
   "metadata": {},
   "outputs": [],
   "source": [
    "print(\"Water in Durham is: \" + state_of_water(58))"
   ]
  },
  {
   "cell_type": "code",
   "execution_count": null,
   "metadata": {},
   "outputs": [],
   "source": [
    "print(\"Water in New York is: \" + state_of_water(24))"
   ]
  },
  {
   "cell_type": "code",
   "execution_count": null,
   "metadata": {},
   "outputs": [],
   "source": [
    "print(\"Water in Miami is: \" + state_of_water(78))"
   ]
  },
  {
   "cell_type": "code",
   "execution_count": null,
   "metadata": {},
   "outputs": [],
   "source": [
    "print(\"Water at the Center of the Earth is: \" + state_of_water(10800))"
   ]
  },
  {
   "cell_type": "markdown",
   "metadata": {},
   "source": [
    "We can call the function on different inputs and the function deals with each input differently based on the control logic you gave it. This will be very important when you write functions that deal with large, sometimes unpredictable datasets where the logic of your function will deal with inputs you may not have directly prepared the function for."
   ]
  },
  {
   "cell_type": "markdown",
   "metadata": {},
   "source": [
    "**Question 3.** Write a function that prints the letter grade based on the table below.\n",
    "\n",
    "| **Letter Grade** | **Average** |\n",
    "|:-----------------|:----------- |\n",
    "| A | 90 - 100     |\n",
    "| B | 80 - 89      |\n",
    "| C | 70 - 79      |\n",
    "| D | 60 - 69      |\n",
    "| F | less than 60 |"
   ]
  },
  {
   "cell_type": "code",
   "execution_count": null,
   "metadata": {
    "tags": []
   },
   "outputs": [],
   "source": [
    "def letter_grade(average):\n",
    "    \"\"\"Prints the letter grade based on the input\n",
    "       of the average as a whole number.\"\"\"\n",
    "    if ... :\n",
    "       return ...\n",
    "    elif ... :\n",
    "       return ...\n",
    "    ...\n",
    "letter_grade(89)"
   ]
  },
  {
   "cell_type": "code",
   "execution_count": null,
   "metadata": {
    "deletable": false,
    "editable": false
   },
   "outputs": [],
   "source": [
    "grader.check(\"q3\")"
   ]
  },
  {
   "cell_type": "markdown",
   "metadata": {},
   "source": [
    "## Iteration\n",
    "\n",
    "Iteration is the repetition of code. Typically, the variables in iteration change sequentially, and the iteration continues to repeat until a boolean condition indicates that the iteration be stopped. \n",
    "\n",
    "Iteration is a very important tool in Python. `For` loops are a form of iteration that loop over a Python data structure, such as a array or a string. \n",
    "\n",
    "As an example, we can iterate over numbers using the `range()` function. Run the cell below to see an example."
   ]
  },
  {
   "cell_type": "code",
   "execution_count": null,
   "metadata": {},
   "outputs": [],
   "source": [
    "for i in range(3):\n",
    "    print(i)"
   ]
  },
  {
   "cell_type": "markdown",
   "metadata": {},
   "source": [
    "Notice that the first value is 0 and the last value is 2. If we wanted to print\n",
    "\n",
    "```\n",
    "1\n",
    "\n",
    "2\n",
    "\n",
    "3\n",
    "```\n",
    "\n",
    "we could do this."
   ]
  },
  {
   "cell_type": "code",
   "execution_count": null,
   "metadata": {},
   "outputs": [],
   "source": [
    "for i in range(1,4,1):\n",
    "    print(i)"
   ]
  },
  {
   "cell_type": "markdown",
   "metadata": {},
   "source": [
    "Let's breakdown the numbers inside the parenthesis of the `range()` function.\n",
    "\n",
    "`\n",
    "range(<start_value>, <end_value>, <increment_value>)\n",
    "`\n",
    "\n",
    "- 1 - The first value is the start value.\n",
    "\n",
    "- 4 - The second value is the end value (notice that the `range()` function ends prior to the end value).\n",
    "- 1 - The third value is the increment value (if no value is specified, then the increment will default to 1).\n",
    "\n",
    "Run the cell below to see what happens when no increment value is specified."
   ]
  },
  {
   "cell_type": "code",
   "execution_count": null,
   "metadata": {},
   "outputs": [],
   "source": [
    "for i in range(1,4):\n",
    "    print(i)"
   ]
  },
  {
   "cell_type": "markdown",
   "metadata": {},
   "source": [
    "Another fun example."
   ]
  },
  {
   "cell_type": "code",
   "execution_count": null,
   "metadata": {},
   "outputs": [],
   "source": [
    "for i in range(10):\n",
    "    print(\"Charging... battery at:\", str(i * 10), '%')\n",
    "print(\"Battery charged at 100%!\")"
   ]
  },
  {
   "cell_type": "markdown",
   "metadata": {},
   "source": [
    "Notice how the value of `i` changes on each loop because of the `range()` function."
   ]
  },
  {
   "cell_type": "markdown",
   "metadata": {},
   "source": [
    "**Important:** We do not necessarily have to use `i` as the name of our `for` loop variable. We can use any name we want.\n",
    "\n",
    "We can iterate over the characters in a string!"
   ]
  },
  {
   "cell_type": "code",
   "execution_count": null,
   "metadata": {},
   "outputs": [],
   "source": [
    "string = \"Data Science is Cool!\"\n",
    "for letter in string: # 'letter' instead of 'i'\n",
    "    print(letter)"
   ]
  },
  {
   "cell_type": "markdown",
   "metadata": {},
   "source": [
    "We can even iterate over the words in a string."
   ]
  },
  {
   "cell_type": "code",
   "execution_count": null,
   "metadata": {},
   "outputs": [],
   "source": [
    "sentence = string.split(\" \") # Split up string, using spaces (\" \") to separate words\n",
    "for word in sentence: # 'word' instead of 'i'\n",
    "    print(word)"
   ]
  },
  {
   "cell_type": "markdown",
   "metadata": {},
   "source": [
    "We can also iterate over an array."
   ]
  },
  {
   "cell_type": "code",
   "execution_count": null,
   "metadata": {},
   "outputs": [],
   "source": [
    "even_digits = make_array(2, 4, 6, 8)\n",
    "even_digits"
   ]
  },
  {
   "cell_type": "code",
   "execution_count": null,
   "metadata": {},
   "outputs": [],
   "source": [
    "for digit in even_digits: # 'digit' instead of 'i'\n",
    "    print(digit)"
   ]
  },
  {
   "cell_type": "markdown",
   "metadata": {},
   "source": [
    "<!-- BEGIN QUESTION -->\n",
    "\n",
    "**Question 4.** Write a `for` loop to print the cube of all numbers from 1 up to and including a given number.\n",
    "\n",
    "**Hint:** If your code is correct the output should look like this (that is, if `given_number` is assigned to 5, `given_number=5`).\n",
    "\n",
    "```\n",
    "The current number is : 1  and the cube is 1\n",
    "The current number is : 2  and the cube is 8\n",
    "The current number is : 3  and the cube is 27\n",
    "The current number is : 4  and the cube is 64\n",
    "The current number is : 5  and the cube is 125\n",
    "```"
   ]
  },
  {
   "cell_type": "code",
   "execution_count": null,
   "metadata": {
    "tags": []
   },
   "outputs": [],
   "source": [
    "given_number = 5\n",
    "for ... in ...:\n",
    "    print(\"The current number is :\", i, \" and the cube is\", ...)"
   ]
  },
  {
   "cell_type": "markdown",
   "metadata": {},
   "source": [
    "<!-- END QUESTION -->\n",
    "\n",
    "<!-- BEGIN QUESTION -->\n",
    "\n",
    "**Question 5.** Write a `for` loop to print all the even numbers from 1 up to and including a given number.\n",
    "\n",
    "**Hint:** If your code is correct the output should look like this (that is, if `given_number` is assigned to 10, `given_number=10`).\n",
    "\n",
    "```\n",
    "The number  2  is even\n",
    "The number  4  is even\n",
    "The number  6  is even\n",
    "The number  8  is even\n",
    "The number  10  is even\n",
    "```"
   ]
  },
  {
   "cell_type": "code",
   "execution_count": null,
   "metadata": {
    "tags": []
   },
   "outputs": [],
   "source": [
    "given_number = 10\n",
    "for ... in ...:\n",
    "    if ...\n",
    "        print(\"The number \", i, \" is even\")"
   ]
  },
  {
   "cell_type": "markdown",
   "metadata": {},
   "source": [
    "<!-- END QUESTION -->\n",
    "\n",
    "<!-- BEGIN QUESTION -->\n",
    "\n",
    "**Question 5.** Write a `for` loop to print all the numbers from 1 up to and including a given number. If the number is even print \n",
    "\n",
    "```\n",
    "The number  2  is even\n",
    "```\n",
    "\n",
    "but if the number is odd print\n",
    "\n",
    "```\n",
    "The number  1  is odd\n",
    "```\n",
    "\n",
    "**Hint:** If your code is correct the output should look like this (that is, if `given_number` is assigned to 10, `given_number=10`).\n",
    "\n",
    "```\n",
    "The number  1  is odd\n",
    "The number  2  is even\n",
    "The number  3  is odd\n",
    "The number  4  is even\n",
    "The number  5  is odd\n",
    "The number  6  is even\n",
    "The number  7  is odd\n",
    "The number  8  is even\n",
    "The number  9  is odd\n",
    "The number  10  is even\n",
    "```"
   ]
  },
  {
   "cell_type": "code",
   "execution_count": null,
   "metadata": {
    "tags": []
   },
   "outputs": [],
   "source": [
    "given_number = 10\n",
    "for ... in ...:\n",
    "    if ...\n",
    "        print(\"The number \", i, \" is even\")\n",
    "    ...\n",
    "        print(\"The number \", i, \" is odd\")"
   ]
  },
  {
   "cell_type": "markdown",
   "metadata": {},
   "source": [
    "<!-- END QUESTION -->\n",
    "\n"
   ]
  },
  {
   "cell_type": "markdown",
   "metadata": {
    "deletable": false,
    "editable": false
   },
   "source": [
    "---\n",
    "\n",
    "To double-check your work, the cell below will rerun all of the autograder tests."
   ]
  },
  {
   "cell_type": "code",
   "execution_count": null,
   "metadata": {
    "deletable": false,
    "editable": false
   },
   "outputs": [],
   "source": [
    "grader.check_all()"
   ]
  },
  {
   "cell_type": "markdown",
   "metadata": {
    "deletable": false,
    "editable": false
   },
   "source": [
    "## Submission\n",
    "\n",
    "Make sure you have run all cells in your notebook in order before running the cell below, so that all images/graphs appear in the output. The cell below will generate a zip file for you to submit. **Please save before exporting!**\n",
    "\n",
    "When done exporting, download the .zip file by `SHIFT`-clicking on the file name and selecting **Save Link As**. Or, find the .zip file in the left side of the screen and right-click and select **Download**. You'll submit this .zip file for the assignment in Canvas to Gradescope for grading."
   ]
  },
  {
   "cell_type": "code",
   "execution_count": null,
   "metadata": {
    "deletable": false,
    "editable": false
   },
   "outputs": [],
   "source": [
    "# Save your notebook first, then run this cell to export your submission.\n",
    "grader.export(pdf=False)"
   ]
  },
  {
   "cell_type": "markdown",
   "metadata": {},
   "source": [
    " "
   ]
  }
 ],
 "metadata": {
  "kernelspec": {
   "display_name": "Python 3 (ipykernel)",
   "language": "python",
   "name": "python3"
  },
  "language_info": {
   "codemirror_mode": {
    "name": "ipython",
    "version": 3
   },
   "file_extension": ".py",
   "mimetype": "text/x-python",
   "name": "python",
   "nbconvert_exporter": "python",
   "pygments_lexer": "ipython3",
   "version": "3.9.6"
  },
  "otter": {
   "tests": {
    "q1": {
     "name": "q1",
     "points": null,
     "suites": [
      {
       "cases": [
        {
         "code": ">>> feet_to_meters(10) == 3.048\nTrue",
         "hidden": false,
         "locked": false
        }
       ],
       "scored": true,
       "setup": "",
       "teardown": "",
       "type": "doctest"
      }
     ]
    },
    "q2": {
     "name": "q2",
     "points": null,
     "suites": [
      {
       "cases": [
        {
         "code": ">>> checked_by_the_instructor\n'yes'",
         "hidden": false,
         "locked": false
        }
       ],
       "scored": true,
       "setup": "",
       "teardown": "",
       "type": "doctest"
      }
     ]
    },
    "q3": {
     "name": "q3",
     "points": null,
     "suites": [
      {
       "cases": [
        {
         "code": ">>> letter_grade(90) == 'A'\nTrue",
         "hidden": false,
         "locked": false
        },
        {
         "code": ">>> letter_grade(83) == 'B'\nTrue",
         "hidden": false,
         "locked": false
        },
        {
         "code": ">>> letter_grade(73) == 'C'\nTrue",
         "hidden": false,
         "locked": false
        },
        {
         "code": ">>> letter_grade(63) == 'D'\nTrue",
         "hidden": false,
         "locked": false
        },
        {
         "code": ">>> letter_grade(53) == 'F'\nTrue",
         "hidden": false,
         "locked": false
        }
       ],
       "scored": true,
       "setup": "",
       "teardown": "",
       "type": "doctest"
      }
     ]
    }
   }
  }
 },
 "nbformat": 4,
 "nbformat_minor": 4
}
