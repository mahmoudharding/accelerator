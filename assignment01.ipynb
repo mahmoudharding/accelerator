{
 "cells": [
  {
   "cell_type": "markdown",
   "metadata": {},
   "source": [
    "# Run the cell below\n",
    "\n",
    "To run a code cell (i.e.; execute the python code inside a Jupyter notebook) you can click the play button on the ribbon underneath the name of the notebook. Before you begin click the play button to run the code cell below."
   ]
  },
  {
   "cell_type": "code",
   "execution_count": null,
   "metadata": {
    "deletable": false,
    "editable": false
   },
   "outputs": [],
   "source": [
    "# Initialize Otter\n",
    "import otter\n",
    "grader = otter.Notebook(\"assignment01.ipynb\")"
   ]
  },
  {
   "cell_type": "markdown",
   "metadata": {},
   "source": [
    "# Assignment 01: Introduction to Jupyter Notebooks and Markdown\n",
    "\n",
    "Welcome to Assignment 01!  Throughout the course you will complete assignments like this one. You can't learn technical subjects without hands-on practice, so these assignments are an important part of the course.\n",
    "\n",
    "Collaborating on labs is more than okay -- it's encouraged! You should rarely remain stuck for more than a few minutes on a question, so ask a post to the discussion board or ask your instructor for help. Explaining things is beneficial, too -- the best way to solidify your knowledge of a subject is to explain it. You should **not** just copy/paste someone else's code, but rather work together to gain understanding of the task you need to complete. \n",
    "\n",
    "To receive credit for this assignment, answer all questions correctly and submit before the deadline.\n",
    "\n",
    "**Due Date:** Wednesday, July 6, 2022 @ 11:59 pm\n",
    "\n",
    "**Collaboration Policy:** Data science is a collaborative activity. While you may talk with others about the labs, we ask that you **write your solutions individually**. If you do discuss the assignments with others **please include their names below** (it's a good way to learn your classmates' names).\n",
    "\n",
    "**Collaborators:** \n",
    "\n",
    "List collaborators here.\n",
    "\n",
    "## Today's Assignment\n",
    "\n",
    "In today's assignment, you'll learn how to:\n",
    "\n",
    "- access all of the technology we'll be using in this class.\n",
    "\n",
    "- navigate the Jupyter Notebook environment.\n",
    "\n",
    "Let's get started! Run the cell below."
   ]
  },
  {
   "cell_type": "markdown",
   "metadata": {},
   "source": [
    "## Cells\n",
    "\n",
    "### Note these\n",
    "    \n",
    "<img src='images/cell.jpg' width=200>\n",
    "\n",
    "Jupyter Notebooks are made up of cells. As covered in lecture, there are two types of cells in a Jupyter Notebook: code cells and Markdown cells. \n",
    "\n",
    "- Code cells are where we write all of our Python code.\n",
    "\n",
    "- Markdown cells allow us to write text, like the text you're reading right now. In Homework 1, you'll get a chance to learn a bit of Markdown.\n",
    "\n",
    "### Code Cells\n",
    "\n",
    "Running a code cell will execute all of the code it contains.  Below the cell, any output produced by the code will appear below. Notice the `In:` and `Out:` statements to the left of the cells, followed by a number. That number designated the number of times you have run code cells so far, including that one.\n",
    "\n",
    "To run the code in a code cell, first click on that cell to activate it.  It'll be highlighted with a little green or blue rectangle.  Next, hold down the `shift` key and press `return` or `enter`. You could also click the \"Run\" button in the cell toolbar above, but that's way slower.\n",
    "\n",
    "Try running the code cells below:"
   ]
  },
  {
   "cell_type": "code",
   "execution_count": null,
   "metadata": {},
   "outputs": [],
   "source": [
    "3 + 4**2"
   ]
  },
  {
   "cell_type": "code",
   "execution_count": null,
   "metadata": {},
   "outputs": [],
   "source": [
    "1 + 2 + 4 + 8 + 16 + 32 + 64"
   ]
  },
  {
   "cell_type": "code",
   "execution_count": null,
   "metadata": {},
   "outputs": [],
   "source": [
    "10000\n",
    "10 + 20 + 30 - max(10, 20, 30) - min(10, 20, 30)"
   ]
  },
  {
   "cell_type": "markdown",
   "metadata": {},
   "source": [
    "You should have seen the values `19`, `127`, and `20` displayed, respectively. \n",
    "\n",
    "**Note:** In the third cell above, only the value of the last line was displayed; `10000` wasn't shown in the output at all. This is expected behavior.\n",
    "\n",
    "Comments in code cells are denoted using a hashtag (`#`). Comments are used to explain what code does when necessary (or, occasionally in our case, to provide instructions)."
   ]
  },
  {
   "cell_type": "code",
   "execution_count": null,
   "metadata": {},
   "outputs": [],
   "source": [
    "# This is a comment\n",
    "19 - 18"
   ]
  },
  {
   "cell_type": "markdown",
   "metadata": {},
   "source": [
    "If you try and use syntax Python doesn't know about, it will give you an error."
   ]
  },
  {
   "cell_type": "code",
   "execution_count": null,
   "metadata": {},
   "outputs": [],
   "source": [
    "3 +  * 4"
   ]
  },
  {
   "cell_type": "code",
   "execution_count": null,
   "metadata": {},
   "outputs": [],
   "source": [
    "# Why does this work while the above cell causes an error?\n",
    "3 * - 4"
   ]
  },
  {
   "cell_type": "markdown",
   "metadata": {},
   "source": [
    "### Markdown Cells\n",
    "\n",
    "To edit an existing Markdown cell, double click it and change whatever you want. To render it correctly, \"run\" it as if you'd run a code cell.\n",
    "\n",
    "**Question 1.** Edit the following cell to contain your favorite color. "
   ]
  },
  {
   "cell_type": "markdown",
   "metadata": {},
   "source": [
    "My favorite color is maroon."
   ]
  },
  {
   "cell_type": "markdown",
   "metadata": {},
   "source": [
    "### Converting Cells\n",
    "\n",
    "To convert a cell from code to Markdown (or vice versa), you should use the dropdown menu in the cell toolbar. For instance, to convert the following cell from Markdown to code, you should:\n",
    "\n",
    "1. Click the cell\n",
    "\n",
    "2. Click \"Markdown\" in the cell toolbar, and change it to \"Code\"\n",
    "\n",
    "**Question 2.** Change the following cell from a Markdown cell to a code cell, and run it."
   ]
  },
  {
   "cell_type": "markdown",
   "metadata": {},
   "source": [
    "3 + 4 + 5"
   ]
  },
  {
   "cell_type": "markdown",
   "metadata": {},
   "source": [
    "### Adding and Deleting Cells\n",
    "\n",
    "To add cells, you can go to the plus sign **`+`** in the toolbar at the top, to \"Insert a cell below.\" To delete cells, you can go to \"Edit\" in the menu at the top and click \"Delete Cells\". \n",
    "\n",
    "**Warning:** Be very careful when deleting a cell.\n",
    "\n",
    "### Edit Mode vs. Command Mode \n",
    "\n",
    "Jupyter Notebook has a modal user interface. This means that the keyboard does different things depending on which mode the Notebook is in. There are two modes: \"Edit mode\" and \"Command mode\". Edit mode allows you to type into the cells like a normal text editor. Command mode allows you to edit the notebook as a whole, but not type into individual cells.\n",
    "\n",
    "<img src='images/edit-mode.png' width=500>\n",
    "\n",
    "**Question 3.** Add a Markdown below this one, and in it write your middle name, or write \"I don't have a middle name\"."
   ]
  },
  {
   "cell_type": "markdown",
   "metadata": {},
   "source": [
    "The cell you create should be above this one!"
   ]
  },
  {
   "cell_type": "markdown",
   "metadata": {},
   "source": [
    "**Question 4.** Delete the cell below."
   ]
  },
  {
   "cell_type": "markdown",
   "metadata": {},
   "source": [
    "This should be deleted!"
   ]
  },
  {
   "cell_type": "markdown",
   "metadata": {},
   "source": [
    "## Arithmetic Expressions"
   ]
  },
  {
   "cell_type": "markdown",
   "metadata": {},
   "source": [
    "In **Assignment 00**, we covered some an arithmetic operators.\n",
    "\n",
    "Run the cell below."
   ]
  },
  {
   "cell_type": "code",
   "execution_count": null,
   "metadata": {},
   "outputs": [],
   "source": [
    "(7 - 5) * 2**10 - 3 * 8 + 6 - 9 "
   ]
  },
  {
   "cell_type": "markdown",
   "metadata": {},
   "source": [
    "Combining several integers (`int`)s without using division always results in another `int`. In Python, integers are zero, positive or negative whole numbers without a fractional part. All integer literals (notation for representing a fixed value in code) or variables (the basic unit of storage in code) are objects of the `int` class. Use the `type()` method to get the class name, as shown below.\n",
    "\n",
    "Run the cell below to see the type."
   ]
  },
  {
   "cell_type": "code",
   "execution_count": null,
   "metadata": {},
   "outputs": [],
   "source": [
    "type((7 - 5) * 2**10 - 3 * 8 + 6 - 9)"
   ]
  },
  {
   "cell_type": "markdown",
   "metadata": {},
   "source": [
    "As soon as division or other `float`s are involved, the result is a float (real numbers written with a decimal point)."
   ]
  },
  {
   "cell_type": "code",
   "execution_count": null,
   "metadata": {},
   "outputs": [],
   "source": [
    "15 / 3"
   ]
  },
  {
   "cell_type": "markdown",
   "metadata": {},
   "source": [
    "Run the cell below to see the type."
   ]
  },
  {
   "cell_type": "code",
   "execution_count": null,
   "metadata": {},
   "outputs": [],
   "source": [
    "type(15 / 3)"
   ]
  },
  {
   "cell_type": "markdown",
   "metadata": {},
   "source": [
    "We can **cast** (convert the data type into a certain data type) `int`s to `float`s and vice versa."
   ]
  },
  {
   "cell_type": "code",
   "execution_count": null,
   "metadata": {},
   "outputs": [],
   "source": [
    "int(15 / 3)"
   ]
  },
  {
   "cell_type": "code",
   "execution_count": null,
   "metadata": {},
   "outputs": [],
   "source": [
    "float(5)"
   ]
  },
  {
   "cell_type": "markdown",
   "metadata": {},
   "source": [
    "If our `float` is not a round integer, this loses information though."
   ]
  },
  {
   "cell_type": "code",
   "execution_count": null,
   "metadata": {},
   "outputs": [],
   "source": [
    "int(4.1)"
   ]
  },
  {
   "cell_type": "markdown",
   "metadata": {},
   "source": [
    "**Question 5.** In the cell below, write an arithmetic expression that evaluates to your birth year **as an `int`** that uses at least four of these operators:\n",
    "\n",
    "- `+`\n",
    "\n",
    "- `-`\n",
    "\n",
    "- `*`\n",
    "\n",
    "- `/`\n",
    "\n",
    "- `**`"
   ]
  },
  {
   "cell_type": "code",
   "execution_count": null,
   "metadata": {},
   "outputs": [],
   "source": [
    "# Replace this with your expression"
   ]
  },
  {
   "cell_type": "markdown",
   "metadata": {},
   "source": [
    "### Square roots\n",
    "\n",
    "In Assignment 00, we didn't explicitly cover how to take the square root of a number. In math, the square root function $\\sqrt{x}$ is equivalent to exponentiating with the exponent $\\frac{1}{2}$ – that is, $\\sqrt{x} = x^{\\frac{1}{2}}$. That means we can use `**` to compute square roots, too."
   ]
  },
  {
   "cell_type": "code",
   "execution_count": null,
   "metadata": {},
   "outputs": [],
   "source": [
    "# The square root of 121 is 11\n",
    "121**0.5"
   ]
  },
  {
   "cell_type": "markdown",
   "metadata": {},
   "source": [
    "### Using Modular Arithmetic"
   ]
  },
  {
   "cell_type": "markdown",
   "metadata": {},
   "source": [
    "You may not have seen modular arithmetic before, and that's perfectly fine.\n",
    "\n",
    "The integer division operator, `//`, performs a division but only returns the whole integer part, as an `int`."
   ]
  },
  {
   "cell_type": "code",
   "execution_count": null,
   "metadata": {},
   "outputs": [],
   "source": [
    "23 // 5"
   ]
  },
  {
   "cell_type": "markdown",
   "metadata": {},
   "source": [
    "The remainder/modulo operator, `%`, performs a division but only returns the remainder, again as an `int`."
   ]
  },
  {
   "cell_type": "code",
   "execution_count": null,
   "metadata": {},
   "outputs": [],
   "source": [
    "23 % 5"
   ]
  },
  {
   "cell_type": "markdown",
   "metadata": {},
   "source": [
    "The above calculations show that when 23 is divided by 5, the quotient (whole integer part) is 4 and the remainder is 3."
   ]
  },
  {
   "cell_type": "markdown",
   "metadata": {},
   "source": [
    "<!-- BEGIN QUESTION -->\n",
    "\n",
    "**Question 6.** Using the integer division, how can we get the first digit of a two-digit integer? Below, replace the dots so that `25 // (your number here)` evaluates to 2."
   ]
  },
  {
   "cell_type": "code",
   "execution_count": null,
   "metadata": {
    "tags": []
   },
   "outputs": [],
   "source": [
    "# Should evaluate to 2\n",
    "25 // ..."
   ]
  },
  {
   "cell_type": "markdown",
   "metadata": {},
   "source": [
    "<!-- END QUESTION -->\n",
    "\n",
    "<!-- BEGIN QUESTION -->\n",
    "\n",
    "**Question 7.** Using the integer division and modulo operators, how can we get the first and second digit of a two-digit integer?\n",
    "\n",
    "Below, replace the dots so that `25 // (your number here)` evaluates to 2, and `25 % (your number here)` evaluates to 5."
   ]
  },
  {
   "cell_type": "code",
   "execution_count": null,
   "metadata": {
    "tags": []
   },
   "outputs": [],
   "source": [
    "# Should evaluate to 5\n",
    "25 % ..."
   ]
  },
  {
   "cell_type": "markdown",
   "metadata": {},
   "source": [
    "<!-- END QUESTION -->\n",
    "\n",
    "## Names\n",
    "In natural language, we have terminology that lets us quickly reference very complicated concepts.  We don't say, \"That's a large mammal with brown fur and sharp teeth!\"  Instead, we just say, \"Bear!\"\n",
    "\n",
    "In Python, we do this with *assignment statements*. An assignment statement has a name on the left side of an `=` sign and an expression to be evaluated on the right."
   ]
  },
  {
   "cell_type": "code",
   "execution_count": null,
   "metadata": {},
   "outputs": [],
   "source": [
    "three_is_the_magic_number = 1*1+0.5*2+4*1/4"
   ]
  },
  {
   "cell_type": "markdown",
   "metadata": {},
   "source": [
    "When you run that cell, Python first computes the value of the expression on the right-hand side, `1*1+0.5*2+4*1/4`, which is the number 3.  Then it assigns that value to the name `three_is_the_magic_number`.  At that point, the code in the cell is done running.\n",
    "\n",
    "After you run that cell, the value 10 is bound to the name `three_is_the_magic_number`:"
   ]
  },
  {
   "cell_type": "code",
   "execution_count": null,
   "metadata": {},
   "outputs": [],
   "source": [
    "three_is_the_magic_number"
   ]
  },
  {
   "cell_type": "markdown",
   "metadata": {},
   "source": [
    "The statement `three_is_the_magic_number = 1*1+0.5*2+4*1/4` is not asserting that `three_is_the_magic_number` is already equal to `1*1+0.5*2+4*1/4`, as we might expect by analogy with math notation.  Rather, that line of code changes what `three_is_the_magic_number` means; it now refers to the value 10, whereas before it meant nothing at all (at least to Python).\n",
    "\n",
    "If the designers of Python had been ruthlessly pedantic, they might have made us write\n",
    "\n",
    "$$\\text{define the name three_is_the_magic_number to hereafter have the value of }1 \\cdot 1+0.5 \\cdot 2+4 \\cdot 1/4$$ \n",
    "\n",
    "instead.  You will probably appreciate the brevity of \"`=`\". But keep in mind that this is the real meaning."
   ]
  },
  {
   "cell_type": "markdown",
   "metadata": {},
   "source": [
    "A common pattern in Jupyter notebooks is to assign a value to a name and then immediately evaluate the name in the last line in the cell so that the value is displayed as output. "
   ]
  },
  {
   "cell_type": "code",
   "execution_count": null,
   "metadata": {},
   "outputs": [],
   "source": [
    "close_to_pi = 355/113\n",
    "close_to_pi"
   ]
  },
  {
   "cell_type": "markdown",
   "metadata": {},
   "source": [
    "## Variables\n",
    "\n",
    "Variables are used to store information in Python programs. They are particularly helpful when you need to calculate many different things in a row, and also when you need one value to help calculate another.\n",
    "\n",
    "In theory we compare variables to boxes that store your information for use later in your program. Every time you need that value, that variable can be 'opened' and used to calculate something else.\n",
    "\n",
    "Variables that do not have values yet cause errors when called.\n",
    "\n",
    "Run the following code cell to see what happens when you call a variable that has not yet been assigned to anything:"
   ]
  },
  {
   "cell_type": "code",
   "execution_count": null,
   "metadata": {},
   "outputs": [],
   "source": [
    "# DO NOT CHANGE\n",
    "python"
   ]
  },
  {
   "cell_type": "markdown",
   "metadata": {},
   "source": [
    "**Question 8.**\n",
    "\n",
    "<img src='images/sphere.png' width=150>\n",
    "\n",
    "We set a variable `pi` to the value 3.14 and another variable `r` to 10. On a following line, assign the variable `sa` to a Python expression that evaluates to the surface area of a sphere with radius 10. **Do not** use the numbers `3.14` or `10` in your expression.\n",
    "\n",
    "**Hint**: The formula for the surface area of a sphere with radius $r$ is: $$\\text{Surface Area} = 4 \\pi r^2$$"
   ]
  },
  {
   "cell_type": "code",
   "execution_count": null,
   "metadata": {
    "tags": []
   },
   "outputs": [],
   "source": [
    "pi = 3.14\n",
    "r = 10\n",
    "\n",
    "sa = ...\n",
    "sa"
   ]
  },
  {
   "cell_type": "code",
   "execution_count": null,
   "metadata": {
    "deletable": false,
    "editable": false
   },
   "outputs": [],
   "source": [
    "grader.check(\"q8\")"
   ]
  },
  {
   "cell_type": "markdown",
   "metadata": {
    "deletable": false,
    "editable": false
   },
   "source": [
    "---\n",
    "\n",
    "To double-check your work, the cell below will rerun all of the autograder tests."
   ]
  },
  {
   "cell_type": "code",
   "execution_count": null,
   "metadata": {
    "deletable": false,
    "editable": false
   },
   "outputs": [],
   "source": [
    "grader.check_all()"
   ]
  },
  {
   "cell_type": "markdown",
   "metadata": {
    "deletable": false,
    "editable": false
   },
   "source": [
    "## Submission\n",
    "\n",
    "Make sure you have run all cells in your notebook in order before running the cell below, so that all images/graphs appear in the output. The cell below will generate a zip file for you to submit. **Please save before exporting!**\n",
    "\n",
    "When done exporting, download the .zip file by `SHIFT`-clicking on the file name and selecting **Save Link As**. Or, find the .zip file in the left side of the screen and right-click and select **Download**. You'll submit this .zip file for the assignment in Canvas to Gradescope for grading."
   ]
  },
  {
   "cell_type": "code",
   "execution_count": null,
   "metadata": {
    "deletable": false,
    "editable": false
   },
   "outputs": [],
   "source": [
    "# Save your notebook first, then run this cell to export your submission.\n",
    "grader.export(pdf=False)"
   ]
  },
  {
   "cell_type": "markdown",
   "metadata": {},
   "source": [
    " "
   ]
  }
 ],
 "metadata": {
  "kernelspec": {
   "display_name": "Python 3 (ipykernel)",
   "language": "python",
   "name": "python3"
  },
  "language_info": {
   "codemirror_mode": {
    "name": "ipython",
    "version": 3
   },
   "file_extension": ".py",
   "mimetype": "text/x-python",
   "name": "python",
   "nbconvert_exporter": "python",
   "pygments_lexer": "ipython3",
   "version": "3.9.6"
  },
  "otter": {
   "tests": {
    "q8": {
     "name": "q8",
     "points": null,
     "suites": [
      {
       "cases": [
        {
         "code": ">>> sa\n31.400000000000002",
         "hidden": false,
         "locked": false
        }
       ],
       "scored": true,
       "setup": "",
       "teardown": "",
       "type": "doctest"
      }
     ]
    }
   }
  }
 },
 "nbformat": 4,
 "nbformat_minor": 4
}
